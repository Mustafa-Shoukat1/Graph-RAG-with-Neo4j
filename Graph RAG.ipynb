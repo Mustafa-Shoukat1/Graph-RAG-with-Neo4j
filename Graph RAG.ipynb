{
  "nbformat": 4,
  "nbformat_minor": 0,
  "metadata": {
    "colab": {
      "provenance": []
    },
    "kernelspec": {
      "name": "python3",
      "display_name": "Python 3"
    },
    "language_info": {
      "name": "python"
    },
    "widgets": {
      "application/vnd.jupyter.widget-state+json": {
        "c2630a206cc84560a772882f1720fbee": {
          "model_module": "yfiles-jupyter-graphs",
          "model_name": "GraphModel",
          "model_module_version": "^1.9.0",
          "state": {
            "_context_pane_mapping": [
              {
                "id": "Neighborhood",
                "title": "Neighborhood"
              },
              {
                "id": "Data",
                "title": "Data"
              },
              {
                "id": "Search",
                "title": "Search"
              },
              {
                "id": "About",
                "title": "About"
              }
            ],
            "_data_importer": "neo4j",
            "_directed": true,
            "_dom_classes": [],
            "_edges": [
              {
                "id": 1152923703630102500,
                "start": 0,
                "end": 593,
                "properties": {
                  "label": "IN_GENRE"
                },
                "label": "IN_GENRE",
                "color": "#607D8B",
                "thickness_factor": 1,
                "directed": true
              },
              {
                "id": 1155175503443787800,
                "start": 0,
                "end": 594,
                "properties": {
                  "label": "IN_GENRE"
                },
                "label": "IN_GENRE",
                "color": "#607D8B",
                "thickness_factor": 1,
                "directed": true
              },
              {
                "id": 1157427303257473000,
                "start": 0,
                "end": 595,
                "properties": {
                  "label": "IN_GENRE"
                },
                "label": "IN_GENRE",
                "color": "#607D8B",
                "thickness_factor": 1,
                "directed": true
              },
              {
                "id": 1159679103071158300,
                "start": 0,
                "end": 596,
                "properties": {
                  "label": "IN_GENRE"
                },
                "label": "IN_GENRE",
                "color": "#607D8B",
                "thickness_factor": 1,
                "directed": true
              },
              {
                "id": 1161930902884843500,
                "start": 0,
                "end": 597,
                "properties": {
                  "label": "IN_GENRE"
                },
                "label": "IN_GENRE",
                "color": "#607D8B",
                "thickness_factor": 1,
                "directed": true
              },
              {
                "id": 1152921504606847000,
                "start": 1,
                "end": 0,
                "properties": {
                  "label": "DIRECTED"
                },
                "label": "DIRECTED",
                "color": "#673AB7",
                "thickness_factor": 1,
                "directed": true
              },
              {
                "id": 1152923703630102500,
                "start": 2,
                "end": 593,
                "properties": {
                  "label": "IN_GENRE"
                },
                "label": "IN_GENRE",
                "color": "#607D8B",
                "thickness_factor": 1,
                "directed": true
              },
              {
                "id": 1155175503443787800,
                "start": 2,
                "end": 595,
                "properties": {
                  "label": "IN_GENRE"
                },
                "label": "IN_GENRE",
                "color": "#607D8B",
                "thickness_factor": 1,
                "directed": true
              },
              {
                "id": 1157427303257473000,
                "start": 2,
                "end": 597,
                "properties": {
                  "label": "IN_GENRE"
                },
                "label": "IN_GENRE",
                "color": "#607D8B",
                "thickness_factor": 1,
                "directed": true
              },
              {
                "id": 1152921504606847000,
                "start": 3,
                "end": 2,
                "properties": {
                  "label": "DIRECTED"
                },
                "label": "DIRECTED",
                "color": "#673AB7",
                "thickness_factor": 1,
                "directed": true
              },
              {
                "id": 1152923703630102500,
                "start": 4,
                "end": 596,
                "properties": {
                  "label": "IN_GENRE"
                },
                "label": "IN_GENRE",
                "color": "#607D8B",
                "thickness_factor": 1,
                "directed": true
              },
              {
                "id": 1155175503443787800,
                "start": 4,
                "end": 606,
                "properties": {
                  "label": "IN_GENRE"
                },
                "label": "IN_GENRE",
                "color": "#607D8B",
                "thickness_factor": 1,
                "directed": true
              },
              {
                "id": 1152921504606847000,
                "start": 5,
                "end": 4,
                "properties": {
                  "label": "DIRECTED"
                },
                "label": "DIRECTED",
                "color": "#673AB7",
                "thickness_factor": 1,
                "directed": true
              },
              {
                "id": 1157427303257473000,
                "start": 6,
                "end": 596,
                "properties": {
                  "label": "IN_GENRE"
                },
                "label": "IN_GENRE",
                "color": "#607D8B",
                "thickness_factor": 1,
                "directed": true
              },
              {
                "id": 1152923703630102500,
                "start": 6,
                "end": 606,
                "properties": {
                  "label": "IN_GENRE"
                },
                "label": "IN_GENRE",
                "color": "#607D8B",
                "thickness_factor": 1,
                "directed": true
              },
              {
                "id": 1155175503443787800,
                "start": 6,
                "end": 611,
                "properties": {
                  "label": "IN_GENRE"
                },
                "label": "IN_GENRE",
                "color": "#607D8B",
                "thickness_factor": 1,
                "directed": true
              },
              {
                "id": 1152921504606847000,
                "start": 7,
                "end": 6,
                "properties": {
                  "label": "DIRECTED"
                },
                "label": "DIRECTED",
                "color": "#673AB7",
                "thickness_factor": 1,
                "directed": true
              },
              {
                "id": 1152922604118474800,
                "start": 7,
                "end": 348,
                "properties": {
                  "label": "ACTED_IN"
                },
                "label": "ACTED_IN",
                "color": "#CDDC39",
                "thickness_factor": 1,
                "directed": true
              },
              {
                "id": 1152923703630102500,
                "start": 8,
                "end": 596,
                "properties": {
                  "label": "IN_GENRE"
                },
                "label": "IN_GENRE",
                "color": "#607D8B",
                "thickness_factor": 1,
                "directed": true
              },
              {
                "id": 1152921504606847000,
                "start": 9,
                "end": 8,
                "properties": {
                  "label": "DIRECTED"
                },
                "label": "DIRECTED",
                "color": "#673AB7",
                "thickness_factor": 1,
                "directed": true
              },
              {
                "id": 1152923703630102500,
                "start": 10,
                "end": 619,
                "properties": {
                  "label": "IN_GENRE"
                },
                "label": "IN_GENRE",
                "color": "#607D8B",
                "thickness_factor": 1,
                "directed": true
              },
              {
                "id": 1155175503443787800,
                "start": 10,
                "end": 620,
                "properties": {
                  "label": "IN_GENRE"
                },
                "label": "IN_GENRE",
                "color": "#607D8B",
                "thickness_factor": 1,
                "directed": true
              },
              {
                "id": 1157427303257473000,
                "start": 10,
                "end": 621,
                "properties": {
                  "label": "IN_GENRE"
                },
                "label": "IN_GENRE",
                "color": "#607D8B",
                "thickness_factor": 1,
                "directed": true
              },
              {
                "id": 1152921504606847000,
                "start": 11,
                "end": 10,
                "properties": {
                  "label": "DIRECTED"
                },
                "label": "DIRECTED",
                "color": "#673AB7",
                "thickness_factor": 1,
                "directed": true
              },
              {
                "id": 1152923703630102500,
                "start": 12,
                "end": 596,
                "properties": {
                  "label": "IN_GENRE"
                },
                "label": "IN_GENRE",
                "color": "#607D8B",
                "thickness_factor": 1,
                "directed": true
              },
              {
                "id": 1155175503443787800,
                "start": 12,
                "end": 606,
                "properties": {
                  "label": "IN_GENRE"
                },
                "label": "IN_GENRE",
                "color": "#607D8B",
                "thickness_factor": 1,
                "directed": true
              },
              {
                "id": 1152921504606847000,
                "start": 13,
                "end": 12,
                "properties": {
                  "label": "DIRECTED"
                },
                "label": "DIRECTED",
                "color": "#673AB7",
                "thickness_factor": 1,
                "directed": true
              },
              {
                "id": 1155175503443787800,
                "start": 14,
                "end": 593,
                "properties": {
                  "label": "IN_GENRE"
                },
                "label": "IN_GENRE",
                "color": "#607D8B",
                "thickness_factor": 1,
                "directed": true
              },
              {
                "id": 1152923703630102500,
                "start": 14,
                "end": 595,
                "properties": {
                  "label": "IN_GENRE"
                },
                "label": "IN_GENRE",
                "color": "#607D8B",
                "thickness_factor": 1,
                "directed": true
              },
              {
                "id": 1152921504606847000,
                "start": 15,
                "end": 14,
                "properties": {
                  "label": "DIRECTED"
                },
                "label": "DIRECTED",
                "color": "#673AB7",
                "thickness_factor": 1,
                "directed": true
              },
              {
                "id": 1152923703630102500,
                "start": 16,
                "end": 619,
                "properties": {
                  "label": "IN_GENRE"
                },
                "label": "IN_GENRE",
                "color": "#607D8B",
                "thickness_factor": 1,
                "directed": true
              },
              {
                "id": 1152921504606847000,
                "start": 17,
                "end": 16,
                "properties": {
                  "label": "DIRECTED"
                },
                "label": "DIRECTED",
                "color": "#673AB7",
                "thickness_factor": 1,
                "directed": true
              },
              {
                "id": 1152923703630102500,
                "start": 18,
                "end": 593,
                "properties": {
                  "label": "IN_GENRE"
                },
                "label": "IN_GENRE",
                "color": "#607D8B",
                "thickness_factor": 1,
                "directed": true
              },
              {
                "id": 1155175503443787800,
                "start": 18,
                "end": 619,
                "properties": {
                  "label": "IN_GENRE"
                },
                "label": "IN_GENRE",
                "color": "#607D8B",
                "thickness_factor": 1,
                "directed": true
              },
              {
                "id": 1157427303257473000,
                "start": 18,
                "end": 621,
                "properties": {
                  "label": "IN_GENRE"
                },
                "label": "IN_GENRE",
                "color": "#607D8B",
                "thickness_factor": 1,
                "directed": true
              },
              {
                "id": 1152921504606847000,
                "start": 19,
                "end": 18,
                "properties": {
                  "label": "DIRECTED"
                },
                "label": "DIRECTED",
                "color": "#673AB7",
                "thickness_factor": 1,
                "directed": true
              },
              {
                "id": 1152923703630102500,
                "start": 20,
                "end": 596,
                "properties": {
                  "label": "IN_GENRE"
                },
                "label": "IN_GENRE",
                "color": "#607D8B",
                "thickness_factor": 1,
                "directed": true
              },
              {
                "id": 1155175503443787800,
                "start": 20,
                "end": 606,
                "properties": {
                  "label": "IN_GENRE"
                },
                "label": "IN_GENRE",
                "color": "#607D8B",
                "thickness_factor": 1,
                "directed": true
              },
              {
                "id": 1157427303257473000,
                "start": 20,
                "end": 611,
                "properties": {
                  "label": "IN_GENRE"
                },
                "label": "IN_GENRE",
                "color": "#607D8B",
                "thickness_factor": 1,
                "directed": true
              },
              {
                "id": 1152921504606847000,
                "start": 21,
                "end": 20,
                "properties": {
                  "label": "DIRECTED"
                },
                "label": "DIRECTED",
                "color": "#673AB7",
                "thickness_factor": 1,
                "directed": true
              },
              {
                "id": 1152923703630102500,
                "start": 22,
                "end": 596,
                "properties": {
                  "label": "IN_GENRE"
                },
                "label": "IN_GENRE",
                "color": "#607D8B",
                "thickness_factor": 1,
                "directed": true
              },
              {
                "id": 1155175503443787800,
                "start": 22,
                "end": 646,
                "properties": {
                  "label": "IN_GENRE"
                },
                "label": "IN_GENRE",
                "color": "#607D8B",
                "thickness_factor": 1,
                "directed": true
              },
              {
                "id": 1152921504606847000,
                "start": 23,
                "end": 22,
                "properties": {
                  "label": "DIRECTED"
                },
                "label": "DIRECTED",
                "color": "#673AB7",
                "thickness_factor": 1,
                "directed": true
              },
              {
                "id": 1155175503443787800,
                "start": 24,
                "end": 593,
                "properties": {
                  "label": "IN_GENRE"
                },
                "label": "IN_GENRE",
                "color": "#607D8B",
                "thickness_factor": 1,
                "directed": true
              },
              {
                "id": 1157427303257473000,
                "start": 24,
                "end": 594,
                "properties": {
                  "label": "IN_GENRE"
                },
                "label": "IN_GENRE",
                "color": "#607D8B",
                "thickness_factor": 1,
                "directed": true
              },
              {
                "id": 1152923703630102500,
                "start": 24,
                "end": 595,
                "properties": {
                  "label": "IN_GENRE"
                },
                "label": "IN_GENRE",
                "color": "#607D8B",
                "thickness_factor": 1,
                "directed": true
              },
              {
                "id": 1152921504606847000,
                "start": 25,
                "end": 24,
                "properties": {
                  "label": "DIRECTED"
                },
                "label": "DIRECTED",
                "color": "#673AB7",
                "thickness_factor": 1,
                "directed": true
              },
              {
                "id": 1152923703630102500,
                "start": 26,
                "end": 611,
                "properties": {
                  "label": "IN_GENRE"
                },
                "label": "IN_GENRE",
                "color": "#607D8B",
                "thickness_factor": 1,
                "directed": true
              },
              {
                "id": 1152921504606847000,
                "start": 27,
                "end": 26,
                "properties": {
                  "label": "DIRECTED"
                },
                "label": "DIRECTED",
                "color": "#673AB7",
                "thickness_factor": 1,
                "directed": true
              },
              {
                "id": 1155173304420532200,
                "start": 27,
                "end": 510,
                "properties": {
                  "label": "DIRECTED"
                },
                "label": "DIRECTED",
                "color": "#673AB7",
                "thickness_factor": 1,
                "directed": true
              }
            ],
            "_graph_layout": {},
            "_highlight": [],
            "_license": {},
            "_model_module": "yfiles-jupyter-graphs",
            "_model_module_version": "^1.9.0",
            "_model_name": "GraphModel",
            "_neighborhood": {},
            "_nodes": [
              {
                "id": 0,
                "properties": {
                  "imdbRating": 8.3,
                  "id": "1",
                  "title": "Toy Story",
                  "released": "1995-11-22T00:00:00.000000",
                  "label": "Movie"
                },
                "color": "#2196F3",
                "styles": {},
                "label": "1",
                "scale_factor": 1,
                "type": "#2196F3",
                "size": [
                  55,
                  55
                ],
                "position": [
                  0,
                  0
                ]
              },
              {
                "id": 593,
                "properties": {
                  "name": "Adventure",
                  "label": "Genre"
                },
                "color": "#4CAF50",
                "styles": {},
                "label": "593",
                "scale_factor": 1,
                "type": "#4CAF50",
                "size": [
                  55,
                  55
                ],
                "position": [
                  0,
                  0
                ]
              },
              {
                "id": 594,
                "properties": {
                  "name": "Animation",
                  "label": "Genre"
                },
                "color": "#4CAF50",
                "styles": {},
                "label": "594",
                "scale_factor": 1,
                "type": "#4CAF50",
                "size": [
                  55,
                  55
                ],
                "position": [
                  0,
                  0
                ]
              },
              {
                "id": 595,
                "properties": {
                  "name": "Children",
                  "label": "Genre"
                },
                "color": "#4CAF50",
                "styles": {},
                "label": "595",
                "scale_factor": 1,
                "type": "#4CAF50",
                "size": [
                  55,
                  55
                ],
                "position": [
                  0,
                  0
                ]
              },
              {
                "id": 596,
                "properties": {
                  "name": "Comedy",
                  "label": "Genre"
                },
                "color": "#4CAF50",
                "styles": {},
                "label": "596",
                "scale_factor": 1,
                "type": "#4CAF50",
                "size": [
                  55,
                  55
                ],
                "position": [
                  0,
                  0
                ]
              },
              {
                "id": 597,
                "properties": {
                  "name": "Fantasy",
                  "label": "Genre"
                },
                "color": "#4CAF50",
                "styles": {},
                "label": "597",
                "scale_factor": 1,
                "type": "#4CAF50",
                "size": [
                  55,
                  55
                ],
                "position": [
                  0,
                  0
                ]
              },
              {
                "id": 1,
                "properties": {
                  "name": "John Lasseter",
                  "label": "Person"
                },
                "color": "#F44336",
                "styles": {},
                "label": "1",
                "scale_factor": 1,
                "type": "#F44336",
                "size": [
                  55,
                  55
                ],
                "position": [
                  0,
                  0
                ]
              },
              {
                "id": 2,
                "properties": {
                  "imdbRating": 6.9,
                  "id": "2",
                  "title": "Jumanji",
                  "released": "1995-12-15T00:00:00.000000",
                  "label": "Movie"
                },
                "color": "#2196F3",
                "styles": {},
                "label": "2",
                "scale_factor": 1,
                "type": "#2196F3",
                "size": [
                  55,
                  55
                ],
                "position": [
                  0,
                  0
                ]
              },
              {
                "id": 3,
                "properties": {
                  "name": "Joe Johnston",
                  "label": "Person"
                },
                "color": "#F44336",
                "styles": {},
                "label": "3",
                "scale_factor": 1,
                "type": "#F44336",
                "size": [
                  55,
                  55
                ],
                "position": [
                  0,
                  0
                ]
              },
              {
                "id": 4,
                "properties": {
                  "imdbRating": 6.6,
                  "id": "3",
                  "title": "Grumpier Old Men",
                  "released": "1995-12-22T00:00:00.000000",
                  "label": "Movie"
                },
                "color": "#2196F3",
                "styles": {},
                "label": "3",
                "scale_factor": 1,
                "type": "#2196F3",
                "size": [
                  55,
                  55
                ],
                "position": [
                  0,
                  0
                ]
              },
              {
                "id": 606,
                "properties": {
                  "name": "Romance",
                  "label": "Genre"
                },
                "color": "#4CAF50",
                "styles": {},
                "label": "606",
                "scale_factor": 1,
                "type": "#4CAF50",
                "size": [
                  55,
                  55
                ],
                "position": [
                  0,
                  0
                ]
              },
              {
                "id": 5,
                "properties": {
                  "name": "Howard Deutch",
                  "label": "Person"
                },
                "color": "#F44336",
                "styles": {},
                "label": "5",
                "scale_factor": 1,
                "type": "#F44336",
                "size": [
                  55,
                  55
                ],
                "position": [
                  0,
                  0
                ]
              },
              {
                "id": 6,
                "properties": {
                  "imdbRating": 5.6,
                  "id": "4",
                  "title": "Waiting to Exhale",
                  "released": "1995-12-22T00:00:00.000000",
                  "label": "Movie"
                },
                "color": "#2196F3",
                "styles": {},
                "label": "4",
                "scale_factor": 1,
                "type": "#2196F3",
                "size": [
                  55,
                  55
                ],
                "position": [
                  0,
                  0
                ]
              },
              {
                "id": 611,
                "properties": {
                  "name": "Drama",
                  "label": "Genre"
                },
                "color": "#4CAF50",
                "styles": {},
                "label": "611",
                "scale_factor": 1,
                "type": "#4CAF50",
                "size": [
                  55,
                  55
                ],
                "position": [
                  0,
                  0
                ]
              },
              {
                "id": 7,
                "properties": {
                  "name": "Forest Whitaker",
                  "label": "Person"
                },
                "color": "#F44336",
                "styles": {},
                "label": "7",
                "scale_factor": 1,
                "type": "#F44336",
                "size": [
                  55,
                  55
                ],
                "position": [
                  0,
                  0
                ]
              },
              {
                "id": 348,
                "properties": {
                  "imdbRating": 5.8,
                  "id": "196",
                  "title": "Species",
                  "released": "1995-07-07T00:00:00.000000",
                  "label": "Movie"
                },
                "color": "#2196F3",
                "styles": {},
                "label": "196",
                "scale_factor": 1,
                "type": "#2196F3",
                "size": [
                  55,
                  55
                ],
                "position": [
                  0,
                  0
                ]
              },
              {
                "id": 8,
                "properties": {
                  "imdbRating": 5.9,
                  "id": "5",
                  "title": "Father of the Bride Part II",
                  "released": "1995-12-08T00:00:00.000000",
                  "label": "Movie"
                },
                "color": "#2196F3",
                "styles": {},
                "label": "5",
                "scale_factor": 1,
                "type": "#2196F3",
                "size": [
                  55,
                  55
                ],
                "position": [
                  0,
                  0
                ]
              },
              {
                "id": 9,
                "properties": {
                  "name": "Charles Shyer",
                  "label": "Person"
                },
                "color": "#F44336",
                "styles": {},
                "label": "9",
                "scale_factor": 1,
                "type": "#F44336",
                "size": [
                  55,
                  55
                ],
                "position": [
                  0,
                  0
                ]
              },
              {
                "id": 10,
                "properties": {
                  "imdbRating": 8.2,
                  "id": "6",
                  "title": "Heat",
                  "released": "1995-12-15T00:00:00.000000",
                  "label": "Movie"
                },
                "color": "#2196F3",
                "styles": {},
                "label": "6",
                "scale_factor": 1,
                "type": "#2196F3",
                "size": [
                  55,
                  55
                ],
                "position": [
                  0,
                  0
                ]
              },
              {
                "id": 619,
                "properties": {
                  "name": "Action",
                  "label": "Genre"
                },
                "color": "#4CAF50",
                "styles": {},
                "label": "619",
                "scale_factor": 1,
                "type": "#4CAF50",
                "size": [
                  55,
                  55
                ],
                "position": [
                  0,
                  0
                ]
              },
              {
                "id": 620,
                "properties": {
                  "name": "Crime",
                  "label": "Genre"
                },
                "color": "#4CAF50",
                "styles": {},
                "label": "620",
                "scale_factor": 1,
                "type": "#4CAF50",
                "size": [
                  55,
                  55
                ],
                "position": [
                  0,
                  0
                ]
              },
              {
                "id": 621,
                "properties": {
                  "name": "Thriller",
                  "label": "Genre"
                },
                "color": "#4CAF50",
                "styles": {},
                "label": "621",
                "scale_factor": 1,
                "type": "#4CAF50",
                "size": [
                  55,
                  55
                ],
                "position": [
                  0,
                  0
                ]
              },
              {
                "id": 11,
                "properties": {
                  "name": "Michael Mann",
                  "label": "Person"
                },
                "color": "#F44336",
                "styles": {},
                "label": "11",
                "scale_factor": 1,
                "type": "#F44336",
                "size": [
                  55,
                  55
                ],
                "position": [
                  0,
                  0
                ]
              },
              {
                "id": 12,
                "properties": {
                  "imdbRating": 6.2,
                  "id": "7",
                  "title": "Sabrina",
                  "released": "1995-12-15T00:00:00.000000",
                  "label": "Movie"
                },
                "color": "#2196F3",
                "styles": {},
                "label": "7",
                "scale_factor": 1,
                "type": "#2196F3",
                "size": [
                  55,
                  55
                ],
                "position": [
                  0,
                  0
                ]
              },
              {
                "id": 13,
                "properties": {
                  "name": "Sydney Pollack",
                  "label": "Person"
                },
                "color": "#F44336",
                "styles": {},
                "label": "13",
                "scale_factor": 1,
                "type": "#F44336",
                "size": [
                  55,
                  55
                ],
                "position": [
                  0,
                  0
                ]
              },
              {
                "id": 14,
                "properties": {
                  "imdbRating": 5.6,
                  "id": "8",
                  "title": "Tom and Huck",
                  "released": "1995-12-22T00:00:00.000000",
                  "label": "Movie"
                },
                "color": "#2196F3",
                "styles": {},
                "label": "8",
                "scale_factor": 1,
                "type": "#2196F3",
                "size": [
                  55,
                  55
                ],
                "position": [
                  0,
                  0
                ]
              },
              {
                "id": 15,
                "properties": {
                  "name": "Peter Hewitt",
                  "label": "Person"
                },
                "color": "#F44336",
                "styles": {},
                "label": "15",
                "scale_factor": 1,
                "type": "#F44336",
                "size": [
                  55,
                  55
                ],
                "position": [
                  0,
                  0
                ]
              },
              {
                "id": 16,
                "properties": {
                  "imdbRating": 5.7,
                  "id": "9",
                  "title": "Sudden Death",
                  "released": "1995-12-22T00:00:00.000000",
                  "label": "Movie"
                },
                "color": "#2196F3",
                "styles": {},
                "label": "9",
                "scale_factor": 1,
                "type": "#2196F3",
                "size": [
                  55,
                  55
                ],
                "position": [
                  0,
                  0
                ]
              },
              {
                "id": 17,
                "properties": {
                  "name": "Peter Hyams",
                  "label": "Person"
                },
                "color": "#F44336",
                "styles": {},
                "label": "17",
                "scale_factor": 1,
                "type": "#F44336",
                "size": [
                  55,
                  55
                ],
                "position": [
                  0,
                  0
                ]
              },
              {
                "id": 18,
                "properties": {
                  "imdbRating": 7.2,
                  "id": "10",
                  "title": "GoldenEye",
                  "released": "1995-11-17T00:00:00.000000",
                  "label": "Movie"
                },
                "color": "#2196F3",
                "styles": {},
                "label": "10",
                "scale_factor": 1,
                "type": "#2196F3",
                "size": [
                  55,
                  55
                ],
                "position": [
                  0,
                  0
                ]
              },
              {
                "id": 19,
                "properties": {
                  "name": "Martin Campbell",
                  "label": "Person"
                },
                "color": "#F44336",
                "styles": {},
                "label": "19",
                "scale_factor": 1,
                "type": "#F44336",
                "size": [
                  55,
                  55
                ],
                "position": [
                  0,
                  0
                ]
              },
              {
                "id": 20,
                "properties": {
                  "imdbRating": 6.8,
                  "id": "11",
                  "title": "American President, The",
                  "released": "1995-11-17T00:00:00.000000",
                  "label": "Movie"
                },
                "color": "#2196F3",
                "styles": {},
                "label": "11",
                "scale_factor": 1,
                "type": "#2196F3",
                "size": [
                  55,
                  55
                ],
                "position": [
                  0,
                  0
                ]
              },
              {
                "id": 21,
                "properties": {
                  "name": "Rob Reiner",
                  "label": "Person"
                },
                "color": "#F44336",
                "styles": {},
                "label": "21",
                "scale_factor": 1,
                "type": "#F44336",
                "size": [
                  55,
                  55
                ],
                "position": [
                  0,
                  0
                ]
              },
              {
                "id": 22,
                "properties": {
                  "imdbRating": 5.8,
                  "id": "12",
                  "title": "Dracula: Dead and Loving It",
                  "released": "1995-12-22T00:00:00.000000",
                  "label": "Movie"
                },
                "color": "#2196F3",
                "styles": {},
                "label": "12",
                "scale_factor": 1,
                "type": "#2196F3",
                "size": [
                  55,
                  55
                ],
                "position": [
                  0,
                  0
                ]
              },
              {
                "id": 646,
                "properties": {
                  "name": "Horror",
                  "label": "Genre"
                },
                "color": "#4CAF50",
                "styles": {},
                "label": "646",
                "scale_factor": 1,
                "type": "#4CAF50",
                "size": [
                  55,
                  55
                ],
                "position": [
                  0,
                  0
                ]
              },
              {
                "id": 23,
                "properties": {
                  "name": "Mel Brooks",
                  "label": "Person"
                },
                "color": "#F44336",
                "styles": {},
                "label": "23",
                "scale_factor": 1,
                "type": "#F44336",
                "size": [
                  55,
                  55
                ],
                "position": [
                  0,
                  0
                ]
              },
              {
                "id": 24,
                "properties": {
                  "imdbRating": 7.1,
                  "id": "13",
                  "title": "Balto",
                  "released": "1995-12-22T00:00:00.000000",
                  "label": "Movie"
                },
                "color": "#2196F3",
                "styles": {},
                "label": "13",
                "scale_factor": 1,
                "type": "#2196F3",
                "size": [
                  55,
                  55
                ],
                "position": [
                  0,
                  0
                ]
              },
              {
                "id": 25,
                "properties": {
                  "name": "Simon Wells",
                  "label": "Person"
                },
                "color": "#F44336",
                "styles": {},
                "label": "25",
                "scale_factor": 1,
                "type": "#F44336",
                "size": [
                  55,
                  55
                ],
                "position": [
                  0,
                  0
                ]
              },
              {
                "id": 26,
                "properties": {
                  "imdbRating": 7.1,
                  "id": "14",
                  "title": "Nixon",
                  "released": "1996-01-05T00:00:00.000000",
                  "label": "Movie"
                },
                "color": "#2196F3",
                "styles": {},
                "label": "14",
                "scale_factor": 1,
                "type": "#2196F3",
                "size": [
                  55,
                  55
                ],
                "position": [
                  0,
                  0
                ]
              },
              {
                "id": 27,
                "properties": {
                  "name": "Oliver Stone",
                  "label": "Person"
                },
                "color": "#F44336",
                "styles": {},
                "label": "27",
                "scale_factor": 1,
                "type": "#F44336",
                "size": [
                  55,
                  55
                ],
                "position": [
                  0,
                  0
                ]
              },
              {
                "id": 510,
                "properties": {
                  "imdbRating": 7.3,
                  "id": "288",
                  "title": "Natural Born Killers",
                  "released": "1994-08-26T00:00:00.000000",
                  "label": "Movie"
                },
                "color": "#2196F3",
                "styles": {},
                "label": "288",
                "scale_factor": 1,
                "type": "#2196F3",
                "size": [
                  55,
                  55
                ],
                "position": [
                  0,
                  0
                ]
              }
            ],
            "_overview": {
              "enabled": null,
              "overview_set": false
            },
            "_selected_graph": [
              [],
              []
            ],
            "_sidebar": {
              "enabled": false,
              "start_with": null
            },
            "_view_count": null,
            "_view_module": "yfiles-jupyter-graphs",
            "_view_module_version": "^1.9.0",
            "_view_name": "GraphView",
            "layout": "IPY_MODEL_a2318db1cc244a97ab893f1d4b4b5b9c",
            "tabbable": null,
            "tooltip": null
          }
        },
        "a2318db1cc244a97ab893f1d4b4b5b9c": {
          "model_module": "@jupyter-widgets/base",
          "model_name": "LayoutModel",
          "model_module_version": "2.0.0",
          "state": {
            "_model_module": "@jupyter-widgets/base",
            "_model_module_version": "2.0.0",
            "_model_name": "LayoutModel",
            "_view_count": null,
            "_view_module": "@jupyter-widgets/base",
            "_view_module_version": "2.0.0",
            "_view_name": "LayoutView",
            "align_content": null,
            "align_items": null,
            "align_self": null,
            "border_bottom": null,
            "border_left": null,
            "border_right": null,
            "border_top": null,
            "bottom": null,
            "display": null,
            "flex": null,
            "flex_flow": null,
            "grid_area": null,
            "grid_auto_columns": null,
            "grid_auto_flow": null,
            "grid_auto_rows": null,
            "grid_column": null,
            "grid_gap": null,
            "grid_row": null,
            "grid_template_areas": null,
            "grid_template_columns": null,
            "grid_template_rows": null,
            "height": "800px",
            "justify_content": null,
            "justify_items": null,
            "left": null,
            "margin": null,
            "max_height": null,
            "max_width": null,
            "min_height": null,
            "min_width": null,
            "object_fit": null,
            "object_position": null,
            "order": null,
            "overflow": null,
            "padding": null,
            "right": null,
            "top": null,
            "visibility": null,
            "width": "100%"
          }
        },
        "c8ef660f365546d0a70b4e25c7af530c": {
          "model_module": "yfiles-jupyter-graphs",
          "model_name": "GraphModel",
          "model_module_version": "^1.9.0",
          "state": {
            "_context_pane_mapping": [
              {
                "id": "Neighborhood",
                "title": "Neighborhood"
              },
              {
                "id": "Data",
                "title": "Data"
              },
              {
                "id": "Search",
                "title": "Search"
              },
              {
                "id": "About",
                "title": "About"
              }
            ],
            "_data_importer": "neo4j",
            "_directed": true,
            "_dom_classes": [],
            "_edges": [
              {
                "id": 1152923703630102500,
                "start": 0,
                "end": 593,
                "properties": {
                  "label": "IN_GENRE"
                },
                "label": "IN_GENRE",
                "color": "#607D8B",
                "thickness_factor": 1,
                "directed": true
              },
              {
                "id": 1155175503443787800,
                "start": 0,
                "end": 594,
                "properties": {
                  "label": "IN_GENRE"
                },
                "label": "IN_GENRE",
                "color": "#607D8B",
                "thickness_factor": 1,
                "directed": true
              },
              {
                "id": 1157427303257473000,
                "start": 0,
                "end": 595,
                "properties": {
                  "label": "IN_GENRE"
                },
                "label": "IN_GENRE",
                "color": "#607D8B",
                "thickness_factor": 1,
                "directed": true
              },
              {
                "id": 1159679103071158300,
                "start": 0,
                "end": 596,
                "properties": {
                  "label": "IN_GENRE"
                },
                "label": "IN_GENRE",
                "color": "#607D8B",
                "thickness_factor": 1,
                "directed": true
              },
              {
                "id": 1161930902884843500,
                "start": 0,
                "end": 597,
                "properties": {
                  "label": "IN_GENRE"
                },
                "label": "IN_GENRE",
                "color": "#607D8B",
                "thickness_factor": 1,
                "directed": true
              },
              {
                "id": 1152921504606847000,
                "start": 1,
                "end": 0,
                "properties": {
                  "label": "DIRECTED"
                },
                "label": "DIRECTED",
                "color": "#673AB7",
                "thickness_factor": 1,
                "directed": true
              },
              {
                "id": 1152923703630102500,
                "start": 2,
                "end": 593,
                "properties": {
                  "label": "IN_GENRE"
                },
                "label": "IN_GENRE",
                "color": "#607D8B",
                "thickness_factor": 1,
                "directed": true
              },
              {
                "id": 1155175503443787800,
                "start": 2,
                "end": 595,
                "properties": {
                  "label": "IN_GENRE"
                },
                "label": "IN_GENRE",
                "color": "#607D8B",
                "thickness_factor": 1,
                "directed": true
              },
              {
                "id": 1157427303257473000,
                "start": 2,
                "end": 597,
                "properties": {
                  "label": "IN_GENRE"
                },
                "label": "IN_GENRE",
                "color": "#607D8B",
                "thickness_factor": 1,
                "directed": true
              },
              {
                "id": 1152921504606847000,
                "start": 3,
                "end": 2,
                "properties": {
                  "label": "DIRECTED"
                },
                "label": "DIRECTED",
                "color": "#673AB7",
                "thickness_factor": 1,
                "directed": true
              },
              {
                "id": 1152923703630102500,
                "start": 4,
                "end": 596,
                "properties": {
                  "label": "IN_GENRE"
                },
                "label": "IN_GENRE",
                "color": "#607D8B",
                "thickness_factor": 1,
                "directed": true
              },
              {
                "id": 1155175503443787800,
                "start": 4,
                "end": 606,
                "properties": {
                  "label": "IN_GENRE"
                },
                "label": "IN_GENRE",
                "color": "#607D8B",
                "thickness_factor": 1,
                "directed": true
              },
              {
                "id": 1152921504606847000,
                "start": 5,
                "end": 4,
                "properties": {
                  "label": "DIRECTED"
                },
                "label": "DIRECTED",
                "color": "#673AB7",
                "thickness_factor": 1,
                "directed": true
              },
              {
                "id": 1157427303257473000,
                "start": 6,
                "end": 596,
                "properties": {
                  "label": "IN_GENRE"
                },
                "label": "IN_GENRE",
                "color": "#607D8B",
                "thickness_factor": 1,
                "directed": true
              },
              {
                "id": 1152923703630102500,
                "start": 6,
                "end": 606,
                "properties": {
                  "label": "IN_GENRE"
                },
                "label": "IN_GENRE",
                "color": "#607D8B",
                "thickness_factor": 1,
                "directed": true
              },
              {
                "id": 1155175503443787800,
                "start": 6,
                "end": 611,
                "properties": {
                  "label": "IN_GENRE"
                },
                "label": "IN_GENRE",
                "color": "#607D8B",
                "thickness_factor": 1,
                "directed": true
              },
              {
                "id": 1152921504606847000,
                "start": 7,
                "end": 6,
                "properties": {
                  "label": "DIRECTED"
                },
                "label": "DIRECTED",
                "color": "#673AB7",
                "thickness_factor": 1,
                "directed": true
              },
              {
                "id": 1152922604118474800,
                "start": 7,
                "end": 348,
                "properties": {
                  "label": "ACTED_IN"
                },
                "label": "ACTED_IN",
                "color": "#CDDC39",
                "thickness_factor": 1,
                "directed": true
              },
              {
                "id": 1152923703630102500,
                "start": 8,
                "end": 596,
                "properties": {
                  "label": "IN_GENRE"
                },
                "label": "IN_GENRE",
                "color": "#607D8B",
                "thickness_factor": 1,
                "directed": true
              },
              {
                "id": 1152921504606847000,
                "start": 9,
                "end": 8,
                "properties": {
                  "label": "DIRECTED"
                },
                "label": "DIRECTED",
                "color": "#673AB7",
                "thickness_factor": 1,
                "directed": true
              },
              {
                "id": 1152923703630102500,
                "start": 10,
                "end": 619,
                "properties": {
                  "label": "IN_GENRE"
                },
                "label": "IN_GENRE",
                "color": "#607D8B",
                "thickness_factor": 1,
                "directed": true
              },
              {
                "id": 1155175503443787800,
                "start": 10,
                "end": 620,
                "properties": {
                  "label": "IN_GENRE"
                },
                "label": "IN_GENRE",
                "color": "#607D8B",
                "thickness_factor": 1,
                "directed": true
              },
              {
                "id": 1157427303257473000,
                "start": 10,
                "end": 621,
                "properties": {
                  "label": "IN_GENRE"
                },
                "label": "IN_GENRE",
                "color": "#607D8B",
                "thickness_factor": 1,
                "directed": true
              },
              {
                "id": 1152921504606847000,
                "start": 11,
                "end": 10,
                "properties": {
                  "label": "DIRECTED"
                },
                "label": "DIRECTED",
                "color": "#673AB7",
                "thickness_factor": 1,
                "directed": true
              },
              {
                "id": 1152923703630102500,
                "start": 12,
                "end": 596,
                "properties": {
                  "label": "IN_GENRE"
                },
                "label": "IN_GENRE",
                "color": "#607D8B",
                "thickness_factor": 1,
                "directed": true
              },
              {
                "id": 1155175503443787800,
                "start": 12,
                "end": 606,
                "properties": {
                  "label": "IN_GENRE"
                },
                "label": "IN_GENRE",
                "color": "#607D8B",
                "thickness_factor": 1,
                "directed": true
              },
              {
                "id": 1152921504606847000,
                "start": 13,
                "end": 12,
                "properties": {
                  "label": "DIRECTED"
                },
                "label": "DIRECTED",
                "color": "#673AB7",
                "thickness_factor": 1,
                "directed": true
              },
              {
                "id": 1155175503443787800,
                "start": 14,
                "end": 593,
                "properties": {
                  "label": "IN_GENRE"
                },
                "label": "IN_GENRE",
                "color": "#607D8B",
                "thickness_factor": 1,
                "directed": true
              },
              {
                "id": 1152923703630102500,
                "start": 14,
                "end": 595,
                "properties": {
                  "label": "IN_GENRE"
                },
                "label": "IN_GENRE",
                "color": "#607D8B",
                "thickness_factor": 1,
                "directed": true
              },
              {
                "id": 1152921504606847000,
                "start": 15,
                "end": 14,
                "properties": {
                  "label": "DIRECTED"
                },
                "label": "DIRECTED",
                "color": "#673AB7",
                "thickness_factor": 1,
                "directed": true
              },
              {
                "id": 1152923703630102500,
                "start": 16,
                "end": 619,
                "properties": {
                  "label": "IN_GENRE"
                },
                "label": "IN_GENRE",
                "color": "#607D8B",
                "thickness_factor": 1,
                "directed": true
              },
              {
                "id": 1152921504606847000,
                "start": 17,
                "end": 16,
                "properties": {
                  "label": "DIRECTED"
                },
                "label": "DIRECTED",
                "color": "#673AB7",
                "thickness_factor": 1,
                "directed": true
              },
              {
                "id": 1152923703630102500,
                "start": 18,
                "end": 593,
                "properties": {
                  "label": "IN_GENRE"
                },
                "label": "IN_GENRE",
                "color": "#607D8B",
                "thickness_factor": 1,
                "directed": true
              },
              {
                "id": 1155175503443787800,
                "start": 18,
                "end": 619,
                "properties": {
                  "label": "IN_GENRE"
                },
                "label": "IN_GENRE",
                "color": "#607D8B",
                "thickness_factor": 1,
                "directed": true
              },
              {
                "id": 1157427303257473000,
                "start": 18,
                "end": 621,
                "properties": {
                  "label": "IN_GENRE"
                },
                "label": "IN_GENRE",
                "color": "#607D8B",
                "thickness_factor": 1,
                "directed": true
              },
              {
                "id": 1152921504606847000,
                "start": 19,
                "end": 18,
                "properties": {
                  "label": "DIRECTED"
                },
                "label": "DIRECTED",
                "color": "#673AB7",
                "thickness_factor": 1,
                "directed": true
              },
              {
                "id": 1152923703630102500,
                "start": 20,
                "end": 596,
                "properties": {
                  "label": "IN_GENRE"
                },
                "label": "IN_GENRE",
                "color": "#607D8B",
                "thickness_factor": 1,
                "directed": true
              },
              {
                "id": 1155175503443787800,
                "start": 20,
                "end": 606,
                "properties": {
                  "label": "IN_GENRE"
                },
                "label": "IN_GENRE",
                "color": "#607D8B",
                "thickness_factor": 1,
                "directed": true
              },
              {
                "id": 1157427303257473000,
                "start": 20,
                "end": 611,
                "properties": {
                  "label": "IN_GENRE"
                },
                "label": "IN_GENRE",
                "color": "#607D8B",
                "thickness_factor": 1,
                "directed": true
              },
              {
                "id": 1152921504606847000,
                "start": 21,
                "end": 20,
                "properties": {
                  "label": "DIRECTED"
                },
                "label": "DIRECTED",
                "color": "#673AB7",
                "thickness_factor": 1,
                "directed": true
              },
              {
                "id": 1152923703630102500,
                "start": 22,
                "end": 596,
                "properties": {
                  "label": "IN_GENRE"
                },
                "label": "IN_GENRE",
                "color": "#607D8B",
                "thickness_factor": 1,
                "directed": true
              },
              {
                "id": 1155175503443787800,
                "start": 22,
                "end": 646,
                "properties": {
                  "label": "IN_GENRE"
                },
                "label": "IN_GENRE",
                "color": "#607D8B",
                "thickness_factor": 1,
                "directed": true
              },
              {
                "id": 1152921504606847000,
                "start": 23,
                "end": 22,
                "properties": {
                  "label": "DIRECTED"
                },
                "label": "DIRECTED",
                "color": "#673AB7",
                "thickness_factor": 1,
                "directed": true
              },
              {
                "id": 1155175503443787800,
                "start": 24,
                "end": 593,
                "properties": {
                  "label": "IN_GENRE"
                },
                "label": "IN_GENRE",
                "color": "#607D8B",
                "thickness_factor": 1,
                "directed": true
              },
              {
                "id": 1157427303257473000,
                "start": 24,
                "end": 594,
                "properties": {
                  "label": "IN_GENRE"
                },
                "label": "IN_GENRE",
                "color": "#607D8B",
                "thickness_factor": 1,
                "directed": true
              },
              {
                "id": 1152923703630102500,
                "start": 24,
                "end": 595,
                "properties": {
                  "label": "IN_GENRE"
                },
                "label": "IN_GENRE",
                "color": "#607D8B",
                "thickness_factor": 1,
                "directed": true
              },
              {
                "id": 1152921504606847000,
                "start": 25,
                "end": 24,
                "properties": {
                  "label": "DIRECTED"
                },
                "label": "DIRECTED",
                "color": "#673AB7",
                "thickness_factor": 1,
                "directed": true
              },
              {
                "id": 1152923703630102500,
                "start": 26,
                "end": 611,
                "properties": {
                  "label": "IN_GENRE"
                },
                "label": "IN_GENRE",
                "color": "#607D8B",
                "thickness_factor": 1,
                "directed": true
              },
              {
                "id": 1152921504606847000,
                "start": 27,
                "end": 26,
                "properties": {
                  "label": "DIRECTED"
                },
                "label": "DIRECTED",
                "color": "#673AB7",
                "thickness_factor": 1,
                "directed": true
              },
              {
                "id": 1155173304420532200,
                "start": 27,
                "end": 510,
                "properties": {
                  "label": "DIRECTED"
                },
                "label": "DIRECTED",
                "color": "#673AB7",
                "thickness_factor": 1,
                "directed": true
              }
            ],
            "_graph_layout": {},
            "_highlight": [],
            "_license": {},
            "_model_module": "yfiles-jupyter-graphs",
            "_model_module_version": "^1.9.0",
            "_model_name": "GraphModel",
            "_neighborhood": {},
            "_nodes": [
              {
                "id": 0,
                "properties": {
                  "imdbRating": 8.3,
                  "id": "1",
                  "title": "Toy Story",
                  "released": "1995-11-22T00:00:00.000000",
                  "label": "Movie"
                },
                "color": "#2196F3",
                "styles": {},
                "label": "1",
                "scale_factor": 1,
                "type": "#2196F3",
                "size": [
                  55,
                  55
                ],
                "position": [
                  0,
                  0
                ]
              },
              {
                "id": 593,
                "properties": {
                  "name": "Adventure",
                  "label": "Genre"
                },
                "color": "#4CAF50",
                "styles": {},
                "label": "593",
                "scale_factor": 1,
                "type": "#4CAF50",
                "size": [
                  55,
                  55
                ],
                "position": [
                  0,
                  0
                ]
              },
              {
                "id": 594,
                "properties": {
                  "name": "Animation",
                  "label": "Genre"
                },
                "color": "#4CAF50",
                "styles": {},
                "label": "594",
                "scale_factor": 1,
                "type": "#4CAF50",
                "size": [
                  55,
                  55
                ],
                "position": [
                  0,
                  0
                ]
              },
              {
                "id": 595,
                "properties": {
                  "name": "Children",
                  "label": "Genre"
                },
                "color": "#4CAF50",
                "styles": {},
                "label": "595",
                "scale_factor": 1,
                "type": "#4CAF50",
                "size": [
                  55,
                  55
                ],
                "position": [
                  0,
                  0
                ]
              },
              {
                "id": 596,
                "properties": {
                  "name": "Comedy",
                  "label": "Genre"
                },
                "color": "#4CAF50",
                "styles": {},
                "label": "596",
                "scale_factor": 1,
                "type": "#4CAF50",
                "size": [
                  55,
                  55
                ],
                "position": [
                  0,
                  0
                ]
              },
              {
                "id": 597,
                "properties": {
                  "name": "Fantasy",
                  "label": "Genre"
                },
                "color": "#4CAF50",
                "styles": {},
                "label": "597",
                "scale_factor": 1,
                "type": "#4CAF50",
                "size": [
                  55,
                  55
                ],
                "position": [
                  0,
                  0
                ]
              },
              {
                "id": 1,
                "properties": {
                  "name": "John Lasseter",
                  "label": "Person"
                },
                "color": "#F44336",
                "styles": {},
                "label": "1",
                "scale_factor": 1,
                "type": "#F44336",
                "size": [
                  55,
                  55
                ],
                "position": [
                  0,
                  0
                ]
              },
              {
                "id": 2,
                "properties": {
                  "imdbRating": 6.9,
                  "id": "2",
                  "title": "Jumanji",
                  "released": "1995-12-15T00:00:00.000000",
                  "label": "Movie"
                },
                "color": "#2196F3",
                "styles": {},
                "label": "2",
                "scale_factor": 1,
                "type": "#2196F3",
                "size": [
                  55,
                  55
                ],
                "position": [
                  0,
                  0
                ]
              },
              {
                "id": 3,
                "properties": {
                  "name": "Joe Johnston",
                  "label": "Person"
                },
                "color": "#F44336",
                "styles": {},
                "label": "3",
                "scale_factor": 1,
                "type": "#F44336",
                "size": [
                  55,
                  55
                ],
                "position": [
                  0,
                  0
                ]
              },
              {
                "id": 4,
                "properties": {
                  "imdbRating": 6.6,
                  "id": "3",
                  "title": "Grumpier Old Men",
                  "released": "1995-12-22T00:00:00.000000",
                  "label": "Movie"
                },
                "color": "#2196F3",
                "styles": {},
                "label": "3",
                "scale_factor": 1,
                "type": "#2196F3",
                "size": [
                  55,
                  55
                ],
                "position": [
                  0,
                  0
                ]
              },
              {
                "id": 606,
                "properties": {
                  "name": "Romance",
                  "label": "Genre"
                },
                "color": "#4CAF50",
                "styles": {},
                "label": "606",
                "scale_factor": 1,
                "type": "#4CAF50",
                "size": [
                  55,
                  55
                ],
                "position": [
                  0,
                  0
                ]
              },
              {
                "id": 5,
                "properties": {
                  "name": "Howard Deutch",
                  "label": "Person"
                },
                "color": "#F44336",
                "styles": {},
                "label": "5",
                "scale_factor": 1,
                "type": "#F44336",
                "size": [
                  55,
                  55
                ],
                "position": [
                  0,
                  0
                ]
              },
              {
                "id": 6,
                "properties": {
                  "imdbRating": 5.6,
                  "id": "4",
                  "title": "Waiting to Exhale",
                  "released": "1995-12-22T00:00:00.000000",
                  "label": "Movie"
                },
                "color": "#2196F3",
                "styles": {},
                "label": "4",
                "scale_factor": 1,
                "type": "#2196F3",
                "size": [
                  55,
                  55
                ],
                "position": [
                  0,
                  0
                ]
              },
              {
                "id": 611,
                "properties": {
                  "name": "Drama",
                  "label": "Genre"
                },
                "color": "#4CAF50",
                "styles": {},
                "label": "611",
                "scale_factor": 1,
                "type": "#4CAF50",
                "size": [
                  55,
                  55
                ],
                "position": [
                  0,
                  0
                ]
              },
              {
                "id": 7,
                "properties": {
                  "name": "Forest Whitaker",
                  "label": "Person"
                },
                "color": "#F44336",
                "styles": {},
                "label": "7",
                "scale_factor": 1,
                "type": "#F44336",
                "size": [
                  55,
                  55
                ],
                "position": [
                  0,
                  0
                ]
              },
              {
                "id": 348,
                "properties": {
                  "imdbRating": 5.8,
                  "id": "196",
                  "title": "Species",
                  "released": "1995-07-07T00:00:00.000000",
                  "label": "Movie"
                },
                "color": "#2196F3",
                "styles": {},
                "label": "196",
                "scale_factor": 1,
                "type": "#2196F3",
                "size": [
                  55,
                  55
                ],
                "position": [
                  0,
                  0
                ]
              },
              {
                "id": 8,
                "properties": {
                  "imdbRating": 5.9,
                  "id": "5",
                  "title": "Father of the Bride Part II",
                  "released": "1995-12-08T00:00:00.000000",
                  "label": "Movie"
                },
                "color": "#2196F3",
                "styles": {},
                "label": "5",
                "scale_factor": 1,
                "type": "#2196F3",
                "size": [
                  55,
                  55
                ],
                "position": [
                  0,
                  0
                ]
              },
              {
                "id": 9,
                "properties": {
                  "name": "Charles Shyer",
                  "label": "Person"
                },
                "color": "#F44336",
                "styles": {},
                "label": "9",
                "scale_factor": 1,
                "type": "#F44336",
                "size": [
                  55,
                  55
                ],
                "position": [
                  0,
                  0
                ]
              },
              {
                "id": 10,
                "properties": {
                  "imdbRating": 8.2,
                  "id": "6",
                  "title": "Heat",
                  "released": "1995-12-15T00:00:00.000000",
                  "label": "Movie"
                },
                "color": "#2196F3",
                "styles": {},
                "label": "6",
                "scale_factor": 1,
                "type": "#2196F3",
                "size": [
                  55,
                  55
                ],
                "position": [
                  0,
                  0
                ]
              },
              {
                "id": 619,
                "properties": {
                  "name": "Action",
                  "label": "Genre"
                },
                "color": "#4CAF50",
                "styles": {},
                "label": "619",
                "scale_factor": 1,
                "type": "#4CAF50",
                "size": [
                  55,
                  55
                ],
                "position": [
                  0,
                  0
                ]
              },
              {
                "id": 620,
                "properties": {
                  "name": "Crime",
                  "label": "Genre"
                },
                "color": "#4CAF50",
                "styles": {},
                "label": "620",
                "scale_factor": 1,
                "type": "#4CAF50",
                "size": [
                  55,
                  55
                ],
                "position": [
                  0,
                  0
                ]
              },
              {
                "id": 621,
                "properties": {
                  "name": "Thriller",
                  "label": "Genre"
                },
                "color": "#4CAF50",
                "styles": {},
                "label": "621",
                "scale_factor": 1,
                "type": "#4CAF50",
                "size": [
                  55,
                  55
                ],
                "position": [
                  0,
                  0
                ]
              },
              {
                "id": 11,
                "properties": {
                  "name": "Michael Mann",
                  "label": "Person"
                },
                "color": "#F44336",
                "styles": {},
                "label": "11",
                "scale_factor": 1,
                "type": "#F44336",
                "size": [
                  55,
                  55
                ],
                "position": [
                  0,
                  0
                ]
              },
              {
                "id": 12,
                "properties": {
                  "imdbRating": 6.2,
                  "id": "7",
                  "title": "Sabrina",
                  "released": "1995-12-15T00:00:00.000000",
                  "label": "Movie"
                },
                "color": "#2196F3",
                "styles": {},
                "label": "7",
                "scale_factor": 1,
                "type": "#2196F3",
                "size": [
                  55,
                  55
                ],
                "position": [
                  0,
                  0
                ]
              },
              {
                "id": 13,
                "properties": {
                  "name": "Sydney Pollack",
                  "label": "Person"
                },
                "color": "#F44336",
                "styles": {},
                "label": "13",
                "scale_factor": 1,
                "type": "#F44336",
                "size": [
                  55,
                  55
                ],
                "position": [
                  0,
                  0
                ]
              },
              {
                "id": 14,
                "properties": {
                  "imdbRating": 5.6,
                  "id": "8",
                  "title": "Tom and Huck",
                  "released": "1995-12-22T00:00:00.000000",
                  "label": "Movie"
                },
                "color": "#2196F3",
                "styles": {},
                "label": "8",
                "scale_factor": 1,
                "type": "#2196F3",
                "size": [
                  55,
                  55
                ],
                "position": [
                  0,
                  0
                ]
              },
              {
                "id": 15,
                "properties": {
                  "name": "Peter Hewitt",
                  "label": "Person"
                },
                "color": "#F44336",
                "styles": {},
                "label": "15",
                "scale_factor": 1,
                "type": "#F44336",
                "size": [
                  55,
                  55
                ],
                "position": [
                  0,
                  0
                ]
              },
              {
                "id": 16,
                "properties": {
                  "imdbRating": 5.7,
                  "id": "9",
                  "title": "Sudden Death",
                  "released": "1995-12-22T00:00:00.000000",
                  "label": "Movie"
                },
                "color": "#2196F3",
                "styles": {},
                "label": "9",
                "scale_factor": 1,
                "type": "#2196F3",
                "size": [
                  55,
                  55
                ],
                "position": [
                  0,
                  0
                ]
              },
              {
                "id": 17,
                "properties": {
                  "name": "Peter Hyams",
                  "label": "Person"
                },
                "color": "#F44336",
                "styles": {},
                "label": "17",
                "scale_factor": 1,
                "type": "#F44336",
                "size": [
                  55,
                  55
                ],
                "position": [
                  0,
                  0
                ]
              },
              {
                "id": 18,
                "properties": {
                  "imdbRating": 7.2,
                  "id": "10",
                  "title": "GoldenEye",
                  "released": "1995-11-17T00:00:00.000000",
                  "label": "Movie"
                },
                "color": "#2196F3",
                "styles": {},
                "label": "10",
                "scale_factor": 1,
                "type": "#2196F3",
                "size": [
                  55,
                  55
                ],
                "position": [
                  0,
                  0
                ]
              },
              {
                "id": 19,
                "properties": {
                  "name": "Martin Campbell",
                  "label": "Person"
                },
                "color": "#F44336",
                "styles": {},
                "label": "19",
                "scale_factor": 1,
                "type": "#F44336",
                "size": [
                  55,
                  55
                ],
                "position": [
                  0,
                  0
                ]
              },
              {
                "id": 20,
                "properties": {
                  "imdbRating": 6.8,
                  "id": "11",
                  "title": "American President, The",
                  "released": "1995-11-17T00:00:00.000000",
                  "label": "Movie"
                },
                "color": "#2196F3",
                "styles": {},
                "label": "11",
                "scale_factor": 1,
                "type": "#2196F3",
                "size": [
                  55,
                  55
                ],
                "position": [
                  0,
                  0
                ]
              },
              {
                "id": 21,
                "properties": {
                  "name": "Rob Reiner",
                  "label": "Person"
                },
                "color": "#F44336",
                "styles": {},
                "label": "21",
                "scale_factor": 1,
                "type": "#F44336",
                "size": [
                  55,
                  55
                ],
                "position": [
                  0,
                  0
                ]
              },
              {
                "id": 22,
                "properties": {
                  "imdbRating": 5.8,
                  "id": "12",
                  "title": "Dracula: Dead and Loving It",
                  "released": "1995-12-22T00:00:00.000000",
                  "label": "Movie"
                },
                "color": "#2196F3",
                "styles": {},
                "label": "12",
                "scale_factor": 1,
                "type": "#2196F3",
                "size": [
                  55,
                  55
                ],
                "position": [
                  0,
                  0
                ]
              },
              {
                "id": 646,
                "properties": {
                  "name": "Horror",
                  "label": "Genre"
                },
                "color": "#4CAF50",
                "styles": {},
                "label": "646",
                "scale_factor": 1,
                "type": "#4CAF50",
                "size": [
                  55,
                  55
                ],
                "position": [
                  0,
                  0
                ]
              },
              {
                "id": 23,
                "properties": {
                  "name": "Mel Brooks",
                  "label": "Person"
                },
                "color": "#F44336",
                "styles": {},
                "label": "23",
                "scale_factor": 1,
                "type": "#F44336",
                "size": [
                  55,
                  55
                ],
                "position": [
                  0,
                  0
                ]
              },
              {
                "id": 24,
                "properties": {
                  "imdbRating": 7.1,
                  "id": "13",
                  "title": "Balto",
                  "released": "1995-12-22T00:00:00.000000",
                  "label": "Movie"
                },
                "color": "#2196F3",
                "styles": {},
                "label": "13",
                "scale_factor": 1,
                "type": "#2196F3",
                "size": [
                  55,
                  55
                ],
                "position": [
                  0,
                  0
                ]
              },
              {
                "id": 25,
                "properties": {
                  "name": "Simon Wells",
                  "label": "Person"
                },
                "color": "#F44336",
                "styles": {},
                "label": "25",
                "scale_factor": 1,
                "type": "#F44336",
                "size": [
                  55,
                  55
                ],
                "position": [
                  0,
                  0
                ]
              },
              {
                "id": 26,
                "properties": {
                  "imdbRating": 7.1,
                  "id": "14",
                  "title": "Nixon",
                  "released": "1996-01-05T00:00:00.000000",
                  "label": "Movie"
                },
                "color": "#2196F3",
                "styles": {},
                "label": "14",
                "scale_factor": 1,
                "type": "#2196F3",
                "size": [
                  55,
                  55
                ],
                "position": [
                  0,
                  0
                ]
              },
              {
                "id": 27,
                "properties": {
                  "name": "Oliver Stone",
                  "label": "Person"
                },
                "color": "#F44336",
                "styles": {},
                "label": "27",
                "scale_factor": 1,
                "type": "#F44336",
                "size": [
                  55,
                  55
                ],
                "position": [
                  0,
                  0
                ]
              },
              {
                "id": 510,
                "properties": {
                  "imdbRating": 7.3,
                  "id": "288",
                  "title": "Natural Born Killers",
                  "released": "1994-08-26T00:00:00.000000",
                  "label": "Movie"
                },
                "color": "#2196F3",
                "styles": {},
                "label": "288",
                "scale_factor": 1,
                "type": "#2196F3",
                "size": [
                  55,
                  55
                ],
                "position": [
                  0,
                  0
                ]
              }
            ],
            "_overview": {
              "enabled": null,
              "overview_set": false
            },
            "_selected_graph": [
              [],
              []
            ],
            "_sidebar": {
              "enabled": false,
              "start_with": null
            },
            "_view_count": null,
            "_view_module": "yfiles-jupyter-graphs",
            "_view_module_version": "^1.9.0",
            "_view_name": "GraphView",
            "layout": "IPY_MODEL_46ba870e3f904f8882a544b3a6d9beb4",
            "tabbable": null,
            "tooltip": null
          }
        },
        "46ba870e3f904f8882a544b3a6d9beb4": {
          "model_module": "@jupyter-widgets/base",
          "model_name": "LayoutModel",
          "model_module_version": "2.0.0",
          "state": {
            "_model_module": "@jupyter-widgets/base",
            "_model_module_version": "2.0.0",
            "_model_name": "LayoutModel",
            "_view_count": null,
            "_view_module": "@jupyter-widgets/base",
            "_view_module_version": "2.0.0",
            "_view_name": "LayoutView",
            "align_content": null,
            "align_items": null,
            "align_self": null,
            "border_bottom": null,
            "border_left": null,
            "border_right": null,
            "border_top": null,
            "bottom": null,
            "display": null,
            "flex": null,
            "flex_flow": null,
            "grid_area": null,
            "grid_auto_columns": null,
            "grid_auto_flow": null,
            "grid_auto_rows": null,
            "grid_column": null,
            "grid_gap": null,
            "grid_row": null,
            "grid_template_areas": null,
            "grid_template_columns": null,
            "grid_template_rows": null,
            "height": "800px",
            "justify_content": null,
            "justify_items": null,
            "left": null,
            "margin": null,
            "max_height": null,
            "max_width": null,
            "min_height": null,
            "min_width": null,
            "object_fit": null,
            "object_position": null,
            "order": null,
            "overflow": null,
            "padding": null,
            "right": null,
            "top": null,
            "visibility": null,
            "width": "100%"
          }
        }
      }
    }
  },
  "cells": [
    {
      "cell_type": "markdown",
      "source": [
        "**Graph RAG (Retrieval-Augmented Generation) Framework for the Social Network Example Using Graph Databases**  \n",
        "\n",
        "### **Graph RAG Description**  \n",
        "Graph RAG integrates graph databases (like Neo4j) into Retrieval-Augmented Generation systems, leveraging their ability to model relationships in data for enhanced query understanding, reasoning, and content generation. The system retrieves data from the graph to provide context for generation tasks, enhancing the accuracy and relevance of the responses.\n",
        "\n",
        "---\n",
        "\n",
        "### **Graph RAG Components**  \n",
        "\n",
        "1. **Knowledge Base (Graph Database):**  \n",
        "   - **Structure:** Nodes, relationships, and properties.  \n",
        "   - **Data Model:** The example social network modeled with users, posts, and interactions.\n",
        "\n",
        "2. **Retrieval Mechanism:**  \n",
        "   - **Query Language:** Cypher queries to extract relationships, content, and user interactions.  \n",
        "   - **Context Assembly:** Retrieved graph data serves as the context for generation.\n",
        "\n",
        "3. **Generation Layer:**  \n",
        "   - **LLM (Language Model):** Generates natural language responses based on retrieved graph data.  \n",
        "   - **Templates:** Structures for assembling responses (e.g., summarizing social interactions or providing recommendations).\n",
        "\n",
        "---\n",
        "\n",
        "### **Graph Structure in Neo4j**\n",
        "\n",
        "#### **Nodes and Relationships**  \n",
        "- **Nodes:**  \n",
        "  - `User`: `{name, age}`  \n",
        "  - `Post`: `{content, timestamp}`  \n",
        "\n",
        "- **Relationships:**  \n",
        "  - `FRIEND`: Friendship between users.  \n",
        "  - `POSTED`: Users posting content.  \n",
        "  - `LIKES`: Users liking posts.  \n",
        "\n",
        "#### **Graph Representation**  \n",
        "```cypher\n",
        "// Create Users\n",
        "CREATE (alice:User {name: 'Alice', age: 30}),\n",
        "       (bob:User {name: 'Bob', age: 25}),\n",
        "       (carol:User {name: 'Carol', age: 27});\n",
        "\n",
        "// Create Posts\n",
        "CREATE (post1:Post {content: 'Graph databases are cool!', timestamp: '2024-05-20'}),\n",
        "       (post2:Post {content: 'Learning Cypher is fun!', timestamp: '2024-05-19'});\n",
        "\n",
        "// Define Relationships\n",
        "CREATE (alice)-[:FRIEND]->(bob),\n",
        "       (bob)-[:FRIEND]->(carol),\n",
        "       (carol)-[:FRIEND]->(alice),\n",
        "       (alice)-[:POSTED]->(post1),\n",
        "       (bob)-[:POSTED]->(post2),\n",
        "       (bob)-[:LIKES]->(post1),\n",
        "       (carol)-[:LIKES]->(post1),\n",
        "       (alice)-[:LIKES]->(post2);\n",
        "```\n",
        "\n",
        "---\n",
        "\n",
        "### **Retrieval Queries (Cypher)**  \n",
        "\n",
        "1. **Find Alice's Friends:**  \n",
        "```cypher\n",
        "MATCH (alice:User {name: 'Alice'})-[:FRIEND]->(friends)\n",
        "RETURN friends.name;\n",
        "```\n",
        "\n",
        "2. **Posts Liked by Alice:**  \n",
        "```cypher\n",
        "MATCH (alice:User {name: 'Alice'})-[:LIKES]->(posts)\n",
        "RETURN posts.content;\n",
        "```\n",
        "\n",
        "3. **Who Liked a Specific Post:**  \n",
        "```cypher\n",
        "MATCH (post:Post {content: 'Graph databases are cool!'})<-[:LIKES]-(users)\n",
        "RETURN users.name;\n",
        "```\n",
        "\n",
        "---\n",
        "\n",
        "### **Integration with the Generation Layer**  \n",
        "\n",
        "**Prompt Assembly for RAG Context:**  \n",
        "The retrieved data is used to form the prompt for the LLM.  \n",
        "Example Prompt:  \n",
        "> \"Alice has 2 friends: Bob and Carol. She liked the post 'Learning Cypher is fun!'. Who are the users that liked the post 'Graph databases are cool!'?\"\n",
        "\n",
        "**Generated Response:**  \n",
        "> \"The users who liked the post 'Graph databases are cool!' are Bob and Carol.\"\n",
        "\n",
        "---\n",
        "\n",
        "### **Use Cases of Graph RAG in Social Networks**\n",
        "\n",
        "1. **Recommendation Systems:**  \n",
        "   - Retrieve connected entities (e.g., \"Friends of friends who liked similar posts\").  \n",
        "\n",
        "2. **Insight Generation:**  \n",
        "   - Analyze and summarize user behavior for insights, e.g., \"Alice and her friends prefer technical content like Cypher.\"\n",
        "\n",
        "3. **Fraud Detection:**  \n",
        "   - Traverse relationships to detect anomalies, e.g., suspicious clusters of 'likes' or repeated patterns.\n",
        "\n",
        "---\n",
        "\n",
        "### **Benefits of Graph RAG**  \n",
        "\n",
        "- **Efficiency:** Graph databases enhance retrieval speed and handle complex relationships.  \n",
        "- **Contextual Accuracy:** Leveraging graph structure ensures highly relevant contextual data for the LLM.  \n",
        "- **Scalability:** Suitable for interconnected and growing datasets like social networks.  \n",
        "\n",
        "This notebook highlights the potential of Graph RAG to integrate Neo4j's graph database with generative AI for advanced, relationship-driven query processing and response generation."
      ],
      "metadata": {
        "id": "2JGidGUo4yRx"
      }
    },
    {
      "cell_type": "code",
      "execution_count": 1,
      "metadata": {
        "colab": {
          "base_uri": "https://localhost:8080/"
        },
        "id": "WYhB2OARw_Nq",
        "outputId": "5f59e5fd-8754-494d-c9fc-47eeb8d2cbfa"
      },
      "outputs": [
        {
          "output_type": "stream",
          "name": "stdout",
          "text": [
            "\u001b[?25l   \u001b[90m━━━━━━━━━━━━━━━━━━━━━━━━━━━━━━━━━━━━━━━━\u001b[0m \u001b[32m0.0/2.4 MB\u001b[0m \u001b[31m?\u001b[0m eta \u001b[36m-:--:--\u001b[0m\r\u001b[2K   \u001b[91m━━━━━━━━━━━━━━━━━━━━━━━━━━━━━━━━━━━━━━━\u001b[0m\u001b[91m╸\u001b[0m \u001b[32m2.4/2.4 MB\u001b[0m \u001b[31m87.7 MB/s\u001b[0m eta \u001b[36m0:00:01\u001b[0m\r\u001b[2K   \u001b[90m━━━━━━━━━━━━━━━━━━━━━━━━━━━━━━━━━━━━━━━━\u001b[0m \u001b[32m2.4/2.4 MB\u001b[0m \u001b[31m34.9 MB/s\u001b[0m eta \u001b[36m0:00:00\u001b[0m\n",
            "\u001b[?25h\u001b[?25l   \u001b[90m━━━━━━━━━━━━━━━━━━━━━━━━━━━━━━━━━━━━━━━━\u001b[0m \u001b[32m0.0/302.0 kB\u001b[0m \u001b[31m?\u001b[0m eta \u001b[36m-:--:--\u001b[0m\r\u001b[2K   \u001b[90m━━━━━━━━━━━━━━━━━━━━━━━━━━━━━━━━━━━━━━━━\u001b[0m \u001b[32m302.0/302.0 kB\u001b[0m \u001b[31m14.6 MB/s\u001b[0m eta \u001b[36m0:00:00\u001b[0m\n",
            "\u001b[2K   \u001b[90m━━━━━━━━━━━━━━━━━━━━━━━━━━━━━━━━━━━━━━━━\u001b[0m \u001b[32m108.9/108.9 kB\u001b[0m \u001b[31m5.2 MB/s\u001b[0m eta \u001b[36m0:00:00\u001b[0m\n",
            "\u001b[2K   \u001b[90m━━━━━━━━━━━━━━━━━━━━━━━━━━━━━━━━━━━━━━━━\u001b[0m \u001b[32m3.1/3.1 MB\u001b[0m \u001b[31m28.1 MB/s\u001b[0m eta \u001b[36m0:00:00\u001b[0m\n",
            "\u001b[2K   \u001b[90m━━━━━━━━━━━━━━━━━━━━━━━━━━━━━━━━━━━━━━━━\u001b[0m \u001b[32m49.5/49.5 kB\u001b[0m \u001b[31m1.2 MB/s\u001b[0m eta \u001b[36m0:00:00\u001b[0m\n",
            "\u001b[?25h"
          ]
        }
      ],
      "source": [
        "!pip install --upgrade --quiet  langchain langchain-community langchain-groq neo4j"
      ]
    },
    {
      "cell_type": "code",
      "source": [
        "## Graphdb configuration\n",
        "NEO4J_URI=\"neo4j+s://2712b7a4.databases.neo4j.io\"\n",
        "NEO4J_USERNAME=\"neo4j\"\n",
        "NEO4J_PASSWORD=\"VHhDstBATnsK6xsfJjdWl5Q8Mvhzc1GkJPuFLeEObwM\""
      ],
      "metadata": {
        "id": "OBL8Iqs4xoeh"
      },
      "execution_count": 2,
      "outputs": []
    },
    {
      "cell_type": "code",
      "source": [
        "import os\n",
        "os.environ[\"NEO4J_URI\"]=NEO4J_URI\n",
        "os.environ[\"NEO4J_USERNAME\"]=NEO4J_USERNAME\n",
        "os.environ[\"NEO4J_PASSWORD\"]=NEO4J_PASSWORD"
      ],
      "metadata": {
        "id": "uDS6XHgbycee"
      },
      "execution_count": 3,
      "outputs": []
    },
    {
      "cell_type": "code",
      "source": [
        "from langchain_community.graphs import Neo4jGraph\n",
        "graph=Neo4jGraph(\n",
        "    url=NEO4J_URI,\n",
        "    username=NEO4J_USERNAME,\n",
        "    password=NEO4J_PASSWORD,\n",
        ")"
      ],
      "metadata": {
        "id": "5rikUUiCymWG"
      },
      "execution_count": 4,
      "outputs": []
    },
    {
      "cell_type": "code",
      "source": [
        "graph"
      ],
      "metadata": {
        "colab": {
          "base_uri": "https://localhost:8080/"
        },
        "id": "j6Zy5Bc_y1oN",
        "outputId": "b71f955c-6ea0-4442-d69c-7d50778b667b"
      },
      "execution_count": 5,
      "outputs": [
        {
          "output_type": "execute_result",
          "data": {
            "text/plain": [
              "<langchain_community.graphs.neo4j_graph.Neo4jGraph at 0x7fee4150d930>"
            ]
          },
          "metadata": {},
          "execution_count": 5
        }
      ]
    },
    {
      "cell_type": "code",
      "source": [
        "groq_api_key=\"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\""
      ],
      "metadata": {
        "id": "55sZpcz8y2dx"
      },
      "execution_count": 6,
      "outputs": []
    },
    {
      "cell_type": "code",
      "source": [
        "from langchain_groq import ChatGroq\n",
        "\n",
        "llm=ChatGroq(groq_api_key=groq_api_key,model_name=\"Gemma2-9b-It\")\n",
        "llm"
      ],
      "metadata": {
        "colab": {
          "base_uri": "https://localhost:8080/"
        },
        "id": "YtqR-fXVzxXZ",
        "outputId": "4324e2e4-f734-428c-872e-5d50222aa35a"
      },
      "execution_count": 7,
      "outputs": [
        {
          "output_type": "execute_result",
          "data": {
            "text/plain": [
              "ChatGroq(client=<groq.resources.chat.completions.Completions object at 0x7fee0eafae30>, async_client=<groq.resources.chat.completions.AsyncCompletions object at 0x7fee0eaf8250>, model_name='Gemma2-9b-It', model_kwargs={}, groq_api_key=SecretStr('**********'))"
            ]
          },
          "metadata": {},
          "execution_count": 7
        }
      ]
    },
    {
      "cell_type": "code",
      "source": [
        "from langchain_core.documents import Document\n",
        "text=\"\"\"\n",
        "Elon Reeve Musk (born June 28, 1971) is a businessman and investor known for his key roles in space\n",
        "company SpaceX and automotive company Tesla, Inc. Other involvements include ownership of X Corp.,\n",
        "formerly Twitter, and his role in the founding of The Boring Company, xAI, Neuralink and OpenAI.\n",
        "He is one of the wealthiest people in the world; as of July 2024, Forbes estimates his net worth to be\n",
        "US$221 billion.Musk was born in Pretoria to Maye and engineer Errol Musk, and briefly attended\n",
        "the University of Pretoria before immigrating to Canada at age 18, acquiring citizenship through\n",
        "his Canadian-born mother. Two years later, he matriculated at Queen's University at Kingston in Canada.\n",
        "Musk later transferred to the University of Pennsylvania and received bachelor's degrees in economics\n",
        " and physics. He moved to California in 1995 to attend Stanford University, but dropped out after\n",
        "  two days and, with his brother Kimbal, co-founded online city guide software company Zip2.\n",
        " \"\"\"\n",
        "documents=[Document(page_content=text)]\n",
        "documents"
      ],
      "metadata": {
        "colab": {
          "base_uri": "https://localhost:8080/"
        },
        "id": "tMw2lopJ0XnX",
        "outputId": "22a5ec50-73f9-42e0-dafc-572d0297dd74"
      },
      "execution_count": 8,
      "outputs": [
        {
          "output_type": "execute_result",
          "data": {
            "text/plain": [
              "[Document(metadata={}, page_content=\"\\nElon Reeve Musk (born June 28, 1971) is a businessman and investor known for his key roles in space\\ncompany SpaceX and automotive company Tesla, Inc. Other involvements include ownership of X Corp.,\\nformerly Twitter, and his role in the founding of The Boring Company, xAI, Neuralink and OpenAI.\\nHe is one of the wealthiest people in the world; as of July 2024, Forbes estimates his net worth to be\\nUS$221 billion.Musk was born in Pretoria to Maye and engineer Errol Musk, and briefly attended\\nthe University of Pretoria before immigrating to Canada at age 18, acquiring citizenship through\\nhis Canadian-born mother. Two years later, he matriculated at Queen's University at Kingston in Canada.\\nMusk later transferred to the University of Pennsylvania and received bachelor's degrees in economics\\n and physics. He moved to California in 1995 to attend Stanford University, but dropped out after\\n  two days and, with his brother Kimbal, co-founded online city guide software company Zip2.\\n \")]"
            ]
          },
          "metadata": {},
          "execution_count": 8
        }
      ]
    },
    {
      "cell_type": "code",
      "source": [
        "!pip install --upgrade --quiet langchain_experimental"
      ],
      "metadata": {
        "colab": {
          "base_uri": "https://localhost:8080/"
        },
        "id": "6mbEhsdS1Y0N",
        "outputId": "244721bb-5b28-499b-d047-13ed6c4dfd98"
      },
      "execution_count": 9,
      "outputs": [
        {
          "output_type": "stream",
          "name": "stdout",
          "text": [
            "\u001b[?25l   \u001b[90m━━━━━━━━━━━━━━━━━━━━━━━━━━━━━━━━━━━━━━━━\u001b[0m \u001b[32m0.0/209.0 kB\u001b[0m \u001b[31m?\u001b[0m eta \u001b[36m-:--:--\u001b[0m\r\u001b[2K   \u001b[91m━━━━━━━━━━━━━━━━━━━━━━━━━━━━━━━━━━━━━━━\u001b[0m\u001b[90m╺\u001b[0m \u001b[32m204.8/209.0 kB\u001b[0m \u001b[31m32.9 MB/s\u001b[0m eta \u001b[36m0:00:01\u001b[0m\r\u001b[2K   \u001b[90m━━━━━━━━━━━━━━━━━━━━━━━━━━━━━━━━━━━━━━━━\u001b[0m \u001b[32m209.0/209.0 kB\u001b[0m \u001b[31m5.0 MB/s\u001b[0m eta \u001b[36m0:00:00\u001b[0m\n",
            "\u001b[?25h"
          ]
        }
      ]
    },
    {
      "cell_type": "code",
      "source": [
        "from langchain_experimental.graph_transformers import LLMGraphTransformer\n",
        "llm_transformer=LLMGraphTransformer(llm=llm)"
      ],
      "metadata": {
        "id": "8ripzwTX0q1X"
      },
      "execution_count": 10,
      "outputs": []
    },
    {
      "cell_type": "code",
      "source": [
        "graph_documents=llm_transformer.convert_to_graph_documents(documents)"
      ],
      "metadata": {
        "id": "QedL67iH1ujK"
      },
      "execution_count": 11,
      "outputs": []
    },
    {
      "cell_type": "code",
      "source": [
        "# graph_documents"
      ],
      "metadata": {
        "id": "uAdF2BZm13w4"
      },
      "execution_count": 40,
      "outputs": []
    },
    {
      "cell_type": "code",
      "source": [
        "graph_documents[0].nodes"
      ],
      "metadata": {
        "colab": {
          "base_uri": "https://localhost:8080/"
        },
        "id": "h3pSzKLE2OJj",
        "outputId": "3de42ac1-2969-4b98-bf2d-6939ef1c5112"
      },
      "execution_count": 13,
      "outputs": [
        {
          "output_type": "execute_result",
          "data": {
            "text/plain": [
              "[Node(id='Elon Reeve Musk', type='Person', properties={}),\n",
              " Node(id='Maye', type='Person', properties={}),\n",
              " Node(id='Errol Musk', type='Person', properties={}),\n",
              " Node(id='Kimbal Musk', type='Person', properties={}),\n",
              " Node(id='Spacex', type='Company', properties={}),\n",
              " Node(id='Tesla, Inc.', type='Company', properties={}),\n",
              " Node(id='X Corp.', type='Company', properties={}),\n",
              " Node(id='Twitter', type='Company', properties={}),\n",
              " Node(id='The Boring Company', type='Company', properties={}),\n",
              " Node(id='Xai', type='Company', properties={}),\n",
              " Node(id='Neuralink', type='Company', properties={}),\n",
              " Node(id='Openai', type='Company', properties={}),\n",
              " Node(id='University Of Pretoria', type='University', properties={}),\n",
              " Node(id=\"Queen'S University\", type='University', properties={}),\n",
              " Node(id='University Of Pennsylvania', type='University', properties={}),\n",
              " Node(id='Stanford University', type='University', properties={}),\n",
              " Node(id='Zip2', type='Company', properties={})]"
            ]
          },
          "metadata": {},
          "execution_count": 13
        }
      ]
    },
    {
      "cell_type": "code",
      "source": [
        "graph_documents[0].relationships"
      ],
      "metadata": {
        "colab": {
          "base_uri": "https://localhost:8080/"
        },
        "id": "DvvdoA5W2fEZ",
        "outputId": "8a00d2ef-cdba-4e28-a842-52097305e218"
      },
      "execution_count": 14,
      "outputs": [
        {
          "output_type": "execute_result",
          "data": {
            "text/plain": [
              "[Relationship(source=Node(id='Elon Reeve Musk', type='Person', properties={}), target=Node(id='Maye', type='Person', properties={}), type='PARENT', properties={}),\n",
              " Relationship(source=Node(id='Elon Reeve Musk', type='Person', properties={}), target=Node(id='Errol Musk', type='Person', properties={}), type='PARENT', properties={}),\n",
              " Relationship(source=Node(id='Elon Reeve Musk', type='Person', properties={}), target=Node(id='Kimbal Musk', type='Person', properties={}), type='SIBLING', properties={}),\n",
              " Relationship(source=Node(id='Elon Reeve Musk', type='Person', properties={}), target=Node(id='Spacex', type='Company', properties={}), type='FOUNDER', properties={}),\n",
              " Relationship(source=Node(id='Elon Reeve Musk', type='Person', properties={}), target=Node(id='Tesla, Inc.', type='Company', properties={}), type='FOUNDER', properties={}),\n",
              " Relationship(source=Node(id='Elon Reeve Musk', type='Person', properties={}), target=Node(id='X Corp.', type='Company', properties={}), type='OWNER', properties={}),\n",
              " Relationship(source=Node(id='Elon Reeve Musk', type='Person', properties={}), target=Node(id='Twitter', type='Company', properties={}), type='OWNER', properties={}),\n",
              " Relationship(source=Node(id='Elon Reeve Musk', type='Person', properties={}), target=Node(id='The Boring Company', type='Company', properties={}), type='FOUNDER', properties={}),\n",
              " Relationship(source=Node(id='Elon Reeve Musk', type='Person', properties={}), target=Node(id='Xai', type='Company', properties={}), type='FOUNDER', properties={}),\n",
              " Relationship(source=Node(id='Elon Reeve Musk', type='Person', properties={}), target=Node(id='Neuralink', type='Company', properties={}), type='FOUNDER', properties={}),\n",
              " Relationship(source=Node(id='Elon Reeve Musk', type='Person', properties={}), target=Node(id='Openai', type='Company', properties={}), type='FOUNDER', properties={}),\n",
              " Relationship(source=Node(id='Elon Reeve Musk', type='Person', properties={}), target=Node(id='University Of Pretoria', type='University', properties={}), type='ATTENDED', properties={}),\n",
              " Relationship(source=Node(id='Elon Reeve Musk', type='Person', properties={}), target=Node(id=\"Queen'S University\", type='University', properties={}), type='ATTENDED', properties={}),\n",
              " Relationship(source=Node(id='Elon Reeve Musk', type='Person', properties={}), target=Node(id='University Of Pennsylvania', type='University', properties={}), type='ATTENDED', properties={}),\n",
              " Relationship(source=Node(id='Elon Reeve Musk', type='Person', properties={}), target=Node(id='Stanford University', type='University', properties={}), type='ATTENDED', properties={}),\n",
              " Relationship(source=Node(id='Elon Reeve Musk', type='Person', properties={}), target=Node(id='Zip2', type='Company', properties={}), type='FOUNDER', properties={})]"
            ]
          },
          "metadata": {},
          "execution_count": 14
        }
      ]
    },
    {
      "cell_type": "code",
      "source": [
        "### Load the dataset of movie\n",
        "\n",
        "movie_query=\"\"\"\n",
        "LOAD CSV WITH HEADERS FROM\n",
        "'https://raw.githubusercontent.com/tomasonjo/blog-datasets/main/movies/movies_small.csv' as row\n",
        "\n",
        "MERGE(m:Movie{id:row.movieId})\n",
        "SET m.released = date(row.released),\n",
        "    m.title = row.title,\n",
        "    m.imdbRating = toFloat(row.imdbRating)\n",
        "FOREACH (director in split(row.director, '|') |\n",
        "    MERGE (p:Person {name:trim(director)})\n",
        "    MERGE (p)-[:DIRECTED]->(m))\n",
        "FOREACH (actor in split(row.actors, '|') |\n",
        "    MERGE (p:Person {name:trim(actor)})\n",
        "    MERGE (p)-[:ACTED_IN]->(m))\n",
        "FOREACH (genre in split(row.genres, '|') |\n",
        "    MERGE (g:Genre {name:trim(genre)})\n",
        "    MERGE (m)-[:IN_GENRE]->(g))\n",
        "\"\"\""
      ],
      "metadata": {
        "id": "EPOewFsm5DZv"
      },
      "execution_count": 15,
      "outputs": []
    },
    {
      "cell_type": "code",
      "source": [
        "graph"
      ],
      "metadata": {
        "colab": {
          "base_uri": "https://localhost:8080/"
        },
        "id": "UeRdr8nm7rAw",
        "outputId": "d1f393a6-a6f7-46e6-f3f7-24eced998722"
      },
      "execution_count": 16,
      "outputs": [
        {
          "output_type": "execute_result",
          "data": {
            "text/plain": [
              "<langchain_community.graphs.neo4j_graph.Neo4jGraph at 0x7fee4150d930>"
            ]
          },
          "metadata": {},
          "execution_count": 16
        }
      ]
    },
    {
      "cell_type": "code",
      "source": [
        "graph.query(movie_query)"
      ],
      "metadata": {
        "colab": {
          "base_uri": "https://localhost:8080/"
        },
        "id": "6YeLz1st7rp2",
        "outputId": "88341241-c7d4-4010-fe4a-7a470a2f2654"
      },
      "execution_count": 17,
      "outputs": [
        {
          "output_type": "execute_result",
          "data": {
            "text/plain": [
              "[]"
            ]
          },
          "metadata": {},
          "execution_count": 17
        }
      ]
    },
    {
      "cell_type": "code",
      "source": [
        "graph.refresh_schema()\n",
        "print(graph.schema)"
      ],
      "metadata": {
        "colab": {
          "base_uri": "https://localhost:8080/"
        },
        "id": "nQm5agJA7xnH",
        "outputId": "7e6a7cf9-8e17-4611-d854-34019b5283e9"
      },
      "execution_count": 18,
      "outputs": [
        {
          "output_type": "stream",
          "name": "stdout",
          "text": [
            "Node properties:\n",
            "Movie {id: STRING, released: DATE, title: STRING, imdbRating: FLOAT}\n",
            "Person {name: STRING, id: STRING}\n",
            "Genre {name: STRING}\n",
            "Document {id: STRING, title: STRING, text: STRING, summary: STRING, source: STRING, embedding: LIST}\n",
            "Country {id: STRING}\n",
            "Place {id: STRING}\n",
            "Building {id: STRING}\n",
            "Relationship properties:\n",
            "\n",
            "The relationships:\n",
            "(:Movie)-[:IN_GENRE]->(:Genre)\n",
            "(:Person)-[:DIRECTED]->(:Movie)\n",
            "(:Person)-[:ACTED_IN]->(:Movie)\n",
            "(:Person)-[:PARENT]->(:Person)\n",
            "(:Person)-[:SIBLING]->(:Person)\n",
            "(:Person)-[:RELATIVE]->(:Person)\n",
            "(:Person)-[:ADVISER]->(:Person)\n",
            "(:Person)-[:MINISTER]->(:Person)\n",
            "(:Person)-[:CHILD_OF]->(:Person)\n",
            "(:Person)-[:GRANDMOTHER]->(:Person)\n",
            "(:Person)-[:AT_WAR_WITH]->(:Country)\n",
            "(:Person)-[:MILITARY_CAMPAIGN]->(:Country)\n",
            "(:Person)-[:RULER_DURING]->(:Person)\n",
            "(:Person)-[:CHILD]->(:Person)\n",
            "(:Person)-[:SPOUSE]->(:Person)\n",
            "(:Person)-[:DAUGHTER]->(:Person)\n",
            "(:Person)-[:HEIR]->(:Person)\n",
            "(:Person)-[:SUPPORTED]->(:Person)\n",
            "(:Person)-[:COLLABORATED_WITH]->(:Person)\n",
            "(:Person)-[:CONFLICT_WITH]->(:Person)\n",
            "(:Person)-[:SON]->(:Person)\n",
            "(:Person)-[:MARRIAGE_LOCATION]->(:Building)\n",
            "(:Person)-[:RESIDENCE]->(:Place)\n",
            "(:Person)-[:RULER_AFTER]->(:Person)\n",
            "(:Person)-[:BIRTH_LOCATION]->(:Place)\n",
            "(:Person)-[:NATIONALITY]->(:Place)\n",
            "(:Person)-[:ORIGIN]->(:Place)\n",
            "(:Person)-[:OFFICIAL_ARTIST]->(:Person)\n",
            "(:Person)-[:ARTIST]->(:Person)\n",
            "(:Person)-[:COURT_ARTIST]->(:Person)\n",
            "(:Person)-[:PORTRAITIST]->(:Person)\n",
            "(:Document)-[:MENTIONS]->(:Person)\n",
            "(:Document)-[:MENTIONS]->(:Country)\n",
            "(:Document)-[:MENTIONS]->(:Place)\n",
            "(:Document)-[:MENTIONS]->(:Building)\n"
          ]
        }
      ]
    },
    {
      "cell_type": "code",
      "source": [
        "from langchain.chains import GraphCypherQAChain\n",
        "chain = GraphCypherQAChain.from_llm(\n",
        "    llm=llm, graph=graph, verbose=True, allow_dangerous_requests=True\n",
        ")\n",
        "chain"
      ],
      "metadata": {
        "colab": {
          "base_uri": "https://localhost:8080/"
        },
        "id": "tGUot6uZ8wnj",
        "outputId": "7e352d95-17c8-4071-e4df-c7f79c0a0c23"
      },
      "execution_count": 19,
      "outputs": [
        {
          "output_type": "execute_result",
          "data": {
            "text/plain": [
              "GraphCypherQAChain(verbose=True, graph=<langchain_community.graphs.neo4j_graph.Neo4jGraph object at 0x7fee4150d930>, cypher_generation_chain=LLMChain(verbose=False, prompt=PromptTemplate(input_variables=['question', 'schema'], input_types={}, partial_variables={}, template='Task:Generate Cypher statement to query a graph database.\\nInstructions:\\nUse only the provided relationship types and properties in the schema.\\nDo not use any other relationship types or properties that are not provided.\\nSchema:\\n{schema}\\nNote: Do not include any explanations or apologies in your responses.\\nDo not respond to any questions that might ask anything else than for you to construct a Cypher statement.\\nDo not include any text except the generated Cypher statement.\\n\\nThe question is:\\n{question}'), llm=ChatGroq(client=<groq.resources.chat.completions.Completions object at 0x7fee0eafae30>, async_client=<groq.resources.chat.completions.AsyncCompletions object at 0x7fee0eaf8250>, model_name='Gemma2-9b-It', model_kwargs={}, groq_api_key=SecretStr('**********')), output_parser=StrOutputParser(), llm_kwargs={}), qa_chain=LLMChain(verbose=False, prompt=PromptTemplate(input_variables=['context', 'question'], input_types={}, partial_variables={}, template=\"You are an assistant that helps to form nice and human understandable answers.\\nThe information part contains the provided information that you must use to construct an answer.\\nThe provided information is authoritative, you must never doubt it or try to use your internal knowledge to correct it.\\nMake the answer sound as a response to the question. Do not mention that you based the result on the given information.\\nHere is an example:\\n\\nQuestion: Which managers own Neo4j stocks?\\nContext:[manager:CTL LLC, manager:JANE STREET GROUP LLC]\\nHelpful Answer: CTL LLC, JANE STREET GROUP LLC owns Neo4j stocks.\\n\\nFollow this example when generating answers.\\nIf the provided information is empty, say that you don't know the answer.\\nInformation:\\n{context}\\n\\nQuestion: {question}\\nHelpful Answer:\"), llm=ChatGroq(client=<groq.resources.chat.completions.Completions object at 0x7fee0eafae30>, async_client=<groq.resources.chat.completions.AsyncCompletions object at 0x7fee0eaf8250>, model_name='Gemma2-9b-It', model_kwargs={}, groq_api_key=SecretStr('**********')), output_parser=StrOutputParser(), llm_kwargs={}), graph_schema='Node properties are the following:\\nMovie {id: STRING, released: DATE, title: STRING, imdbRating: FLOAT},Person {name: STRING, id: STRING},Genre {name: STRING},Document {id: STRING, title: STRING, text: STRING, summary: STRING, source: STRING, embedding: LIST},Country {id: STRING},Place {id: STRING},Building {id: STRING}\\nRelationship properties are the following:\\n\\nThe relationships are the following:\\n(:Movie)-[:IN_GENRE]->(:Genre),(:Person)-[:DIRECTED]->(:Movie),(:Person)-[:ACTED_IN]->(:Movie),(:Person)-[:PARENT]->(:Person),(:Person)-[:SIBLING]->(:Person),(:Person)-[:RELATIVE]->(:Person),(:Person)-[:ADVISER]->(:Person),(:Person)-[:MINISTER]->(:Person),(:Person)-[:CHILD_OF]->(:Person),(:Person)-[:GRANDMOTHER]->(:Person),(:Person)-[:AT_WAR_WITH]->(:Country),(:Person)-[:MILITARY_CAMPAIGN]->(:Country),(:Person)-[:RULER_DURING]->(:Person),(:Person)-[:CHILD]->(:Person),(:Person)-[:SPOUSE]->(:Person),(:Person)-[:DAUGHTER]->(:Person),(:Person)-[:HEIR]->(:Person),(:Person)-[:SUPPORTED]->(:Person),(:Person)-[:COLLABORATED_WITH]->(:Person),(:Person)-[:CONFLICT_WITH]->(:Person),(:Person)-[:SON]->(:Person),(:Person)-[:MARRIAGE_LOCATION]->(:Building),(:Person)-[:RESIDENCE]->(:Place),(:Person)-[:RULER_AFTER]->(:Person),(:Person)-[:BIRTH_LOCATION]->(:Place),(:Person)-[:NATIONALITY]->(:Place),(:Person)-[:ORIGIN]->(:Place),(:Person)-[:OFFICIAL_ARTIST]->(:Person),(:Person)-[:ARTIST]->(:Person),(:Person)-[:COURT_ARTIST]->(:Person),(:Person)-[:PORTRAITIST]->(:Person),(:Document)-[:MENTIONS]->(:Person),(:Document)-[:MENTIONS]->(:Country),(:Document)-[:MENTIONS]->(:Place),(:Document)-[:MENTIONS]->(:Building)', allow_dangerous_requests=True)"
            ]
          },
          "metadata": {},
          "execution_count": 19
        }
      ]
    },
    {
      "cell_type": "code",
      "source": [
        "response=chain.invoke({\"query\":\"Who was the director of the moview GoldenEye\"})\n",
        "\n",
        "response\n"
      ],
      "metadata": {
        "colab": {
          "base_uri": "https://localhost:8080/"
        },
        "id": "53tukPgo9Ab9",
        "outputId": "562caec0-2731-4165-e341-3f48e3d3caef"
      },
      "execution_count": 20,
      "outputs": [
        {
          "output_type": "stream",
          "name": "stdout",
          "text": [
            "\n",
            "\n",
            "\u001b[1m> Entering new GraphCypherQAChain chain...\u001b[0m\n",
            "Generated Cypher:\n",
            "\u001b[32;1m\u001b[1;3mMATCH (m:Movie {title: 'GoldenEye'})-[:DIRECTED]->(p:Person) RETURN p.name\u001b[0m\n",
            "Full Context:\n",
            "\u001b[32;1m\u001b[1;3m[]\u001b[0m\n",
            "\n",
            "\u001b[1m> Finished chain.\u001b[0m\n"
          ]
        },
        {
          "output_type": "execute_result",
          "data": {
            "text/plain": [
              "{'query': 'Who was the director of the moview GoldenEye',\n",
              " 'result': \"I don't know the answer. \\n\"}"
            ]
          },
          "metadata": {},
          "execution_count": 20
        }
      ]
    },
    {
      "cell_type": "code",
      "source": [
        "response=chain.invoke({\"query\":\"tell me the genre of th movie GoldenEye\"})\n",
        "\n",
        "response"
      ],
      "metadata": {
        "colab": {
          "base_uri": "https://localhost:8080/"
        },
        "id": "mlipgwFC9WD4",
        "outputId": "7a455661-4292-4e82-d237-84c8d797f5ba"
      },
      "execution_count": 21,
      "outputs": [
        {
          "output_type": "stream",
          "name": "stdout",
          "text": [
            "\n",
            "\n",
            "\u001b[1m> Entering new GraphCypherQAChain chain...\u001b[0m\n",
            "Generated Cypher:\n",
            "\u001b[32;1m\u001b[1;3mMATCH (m:Movie {title: \"GoldenEye\"})<-[:IN_GENRE]-(g:Genre) RETURN g.name  \n",
            "\u001b[0m\n",
            "Full Context:\n",
            "\u001b[32;1m\u001b[1;3m[]\u001b[0m\n",
            "\n",
            "\u001b[1m> Finished chain.\u001b[0m\n"
          ]
        },
        {
          "output_type": "execute_result",
          "data": {
            "text/plain": [
              "{'query': 'tell me the genre of th movie GoldenEye',\n",
              " 'result': \"I don't know the answer. \\n\"}"
            ]
          },
          "metadata": {},
          "execution_count": 21
        }
      ]
    },
    {
      "cell_type": "code",
      "source": [
        "response=chain.invoke({\"query\":\"Who was the director in movie Casino\"})\n",
        "\n",
        "response"
      ],
      "metadata": {
        "colab": {
          "base_uri": "https://localhost:8080/"
        },
        "id": "Sjfw-Dzp9gN4",
        "outputId": "a69e8712-1d83-4e29-f885-052273ce5f56"
      },
      "execution_count": 22,
      "outputs": [
        {
          "output_type": "stream",
          "name": "stdout",
          "text": [
            "\n",
            "\n",
            "\u001b[1m> Entering new GraphCypherQAChain chain...\u001b[0m\n",
            "Generated Cypher:\n",
            "\u001b[32;1m\u001b[1;3mMATCH (m:Movie {title: 'Casino'})-[:DIRECTED]->(p:Person) RETURN p.name\u001b[0m\n",
            "Full Context:\n",
            "\u001b[32;1m\u001b[1;3m[]\u001b[0m\n",
            "\n",
            "\u001b[1m> Finished chain.\u001b[0m\n"
          ]
        },
        {
          "output_type": "execute_result",
          "data": {
            "text/plain": [
              "{'query': 'Who was the director in movie Casino',\n",
              " 'result': \"I don't know the answer. \\n\"}"
            ]
          },
          "metadata": {},
          "execution_count": 22
        }
      ]
    },
    {
      "cell_type": "code",
      "source": [
        "\n",
        "response=chain.invoke({\"query\":\"Which movie were released in 2008\"})\n",
        "\n",
        "response"
      ],
      "metadata": {
        "colab": {
          "base_uri": "https://localhost:8080/"
        },
        "id": "ksOQww5J-Dqa",
        "outputId": "dda73cb0-9bd0-429e-9854-408992db1d42"
      },
      "execution_count": 23,
      "outputs": [
        {
          "output_type": "stream",
          "name": "stdout",
          "text": [
            "\n",
            "\n",
            "\u001b[1m> Entering new GraphCypherQAChain chain...\u001b[0m\n",
            "Generated Cypher:\n",
            "\u001b[32;1m\u001b[1;3mMATCH (m:Movie)\n",
            "WHERE m.released = \"2008\"\n",
            "RETURN m.title\u001b[0m\n",
            "Full Context:\n",
            "\u001b[32;1m\u001b[1;3m[]\u001b[0m\n",
            "\n",
            "\u001b[1m> Finished chain.\u001b[0m\n"
          ]
        },
        {
          "output_type": "execute_result",
          "data": {
            "text/plain": [
              "{'query': 'Which movie were released in 2008',\n",
              " 'result': \"I don't know the answer. \\n\"}"
            ]
          },
          "metadata": {},
          "execution_count": 23
        }
      ]
    },
    {
      "cell_type": "code",
      "source": [
        "response=chain.invoke({\"query\":\"Give me the list of movie having imdb rating more than 8\"})\n",
        "response"
      ],
      "metadata": {
        "colab": {
          "base_uri": "https://localhost:8080/"
        },
        "id": "ca614gfG-2ge",
        "outputId": "f6180031-9b04-46ec-b949-821d8207dfc6"
      },
      "execution_count": 24,
      "outputs": [
        {
          "output_type": "stream",
          "name": "stdout",
          "text": [
            "\n",
            "\n",
            "\u001b[1m> Entering new GraphCypherQAChain chain...\u001b[0m\n",
            "Generated Cypher:\n",
            "\u001b[32;1m\u001b[1;3mMATCH (m:Movie) WHERE m.imdbRating > 8 RETURN m.title\u001b[0m\n",
            "Full Context:\n",
            "\u001b[32;1m\u001b[1;3m[{'m.title': 'Toy Story'}, {'m.title': 'Heat'}, {'m.title': 'Casino'}, {'m.title': 'Twelve Monkeys (a.k.a. 12 Monkeys)'}, {'m.title': 'Seven (a.k.a. Se7en)'}, {'m.title': 'Usual Suspects, The'}, {'m.title': 'Hate (Haine, La)'}, {'m.title': 'Braveheart'}, {'m.title': 'Taxi Driver'}, {'m.title': 'Anne Frank Remembered'}]\u001b[0m\n",
            "\n",
            "\u001b[1m> Finished chain.\u001b[0m\n"
          ]
        },
        {
          "output_type": "execute_result",
          "data": {
            "text/plain": [
              "{'query': 'Give me the list of movie having imdb rating more than 8',\n",
              " 'result': \"I don't know the answer. \\n\"}"
            ]
          },
          "metadata": {},
          "execution_count": 24
        }
      ]
    },
    {
      "cell_type": "code",
      "source": [
        "examples = [\n",
        "    {\n",
        "        \"question\": \"How many artists are there?\",\n",
        "        \"query\": \"MATCH (a:Person)-[:ACTED_IN]->(:Movie) RETURN count(DISTINCT a)\",\n",
        "    },\n",
        "    {\n",
        "        \"question\": \"Which actors played in the movie Casino?\",\n",
        "        \"query\": \"MATCH (m:Movie {{title: 'Casino'}})<-[:ACTED_IN]-(a) RETURN a.name\",\n",
        "    },\n",
        "    {\n",
        "        \"question\": \"How many movies has Tom Hanks acted in?\",\n",
        "        \"query\": \"MATCH (a:Person {name: 'Tom Hanks'})-[:ACTED_IN]->(m:Movie) RETURN count(m)\",\n",
        "    },\n",
        "    {\n",
        "        \"question\": \"List all the genres of the movie Schindler's List\",\n",
        "        \"query\": \"MATCH (m:Movie {{title: 'Schindler\\\\'s List'}})-[:IN_GENRE]->(g:Genre) RETURN g.name\",\n",
        "    },\n",
        "    {\n",
        "        \"question\": \"Which actors have worked in movies from both the comedy and action genres?\",\n",
        "        \"query\": \"MATCH (a:Person)-[:ACTED_IN]->(:Movie)-[:IN_GENRE]->(g1:Genre), (a)-[:ACTED_IN]->(:Movie)-[:IN_GENRE]->(g2:Genre) WHERE g1.name = 'Comedy' AND g2.name = 'Action' RETURN DISTINCT a.name\",\n",
        "    },\n",
        "    {\n",
        "        \"question\": \"Which directors have made movies with at least three different actors named 'John'?\",\n",
        "        \"query\": \"MATCH (d:Person)-[:DIRECTED]->(m:Movie)<-[:ACTED_IN]-(a:Person) WHERE a.name STARTS WITH 'John' WITH d, COUNT(DISTINCT a) AS JohnsCount WHERE JohnsCount >= 3 RETURN d.name\",\n",
        "    },\n",
        "    {\n",
        "        \"question\": \"Identify movies where directors also played a role in the film.\",\n",
        "        \"query\": \"MATCH (p:Person)-[:DIRECTED]->(m:Movie), (p)-[:ACTED_IN]->(m) RETURN m.title, p.name\",\n",
        "    },\n",
        "    {\n",
        "        \"question\": \"Find the actor with the highest number of movies in the database.\",\n",
        "        \"query\": \"MATCH (a:Actor)-[:ACTED_IN]->(m:Movie) RETURN a.name, COUNT(m) AS movieCount ORDER BY movieCount DESC LIMIT 1\",\n",
        "    },\n",
        "]"
      ],
      "metadata": {
        "id": "G0u93nW-_Sy7"
      },
      "execution_count": 25,
      "outputs": []
    },
    {
      "cell_type": "code",
      "source": [
        "%pip install --upgrade --quiet  langchain langchain-community langchain-experimental neo4j wikipedia tiktoken yfiles_jupyter_graphs\n",
        ""
      ],
      "metadata": {
        "id": "Etk_6mNZkdC5",
        "outputId": "e50a5adc-2f5a-4bc9-f1d6-5a8454fb9c68",
        "colab": {
          "base_uri": "https://localhost:8080/"
        }
      },
      "execution_count": 26,
      "outputs": [
        {
          "output_type": "stream",
          "name": "stdout",
          "text": [
            "  Preparing metadata (setup.py) ... \u001b[?25l\u001b[?25hdone\n",
            "\u001b[2K   \u001b[90m━━━━━━━━━━━━━━━━━━━━━━━━━━━━━━━━━━━━━━━━\u001b[0m \u001b[32m1.2/1.2 MB\u001b[0m \u001b[31m43.1 MB/s\u001b[0m eta \u001b[36m0:00:00\u001b[0m\n",
            "\u001b[2K   \u001b[90m━━━━━━━━━━━━━━━━━━━━━━━━━━━━━━━━━━━━━━━━\u001b[0m \u001b[32m15.5/15.5 MB\u001b[0m \u001b[31m41.7 MB/s\u001b[0m eta \u001b[36m0:00:00\u001b[0m\n",
            "\u001b[2K   \u001b[90m━━━━━━━━━━━━━━━━━━━━━━━━━━━━━━━━━━━━━━━━\u001b[0m \u001b[32m139.8/139.8 kB\u001b[0m \u001b[31m10.4 MB/s\u001b[0m eta \u001b[36m0:00:00\u001b[0m\n",
            "\u001b[2K   \u001b[90m━━━━━━━━━━━━━━━━━━━━━━━━━━━━━━━━━━━━━━━━\u001b[0m \u001b[32m2.3/2.3 MB\u001b[0m \u001b[31m49.1 MB/s\u001b[0m eta \u001b[36m0:00:00\u001b[0m\n",
            "\u001b[2K   \u001b[90m━━━━━━━━━━━━━━━━━━━━━━━━━━━━━━━━━━━━━━━━\u001b[0m \u001b[32m1.6/1.6 MB\u001b[0m \u001b[31m53.8 MB/s\u001b[0m eta \u001b[36m0:00:00\u001b[0m\n",
            "\u001b[?25h  Building wheel for wikipedia (setup.py) ... \u001b[?25l\u001b[?25hdone\n"
          ]
        }
      ]
    },
    {
      "cell_type": "code",
      "source": [
        "from langchain_core.runnables import (\n",
        "    RunnableBranch,\n",
        "    RunnableLambda,\n",
        "    RunnableParallel,\n",
        "    RunnablePassthrough,\n",
        ")\n",
        "\n",
        "\n",
        "from langchain_core.prompts import ChatPromptTemplate\n",
        "from langchain_core.prompts.prompt import PromptTemplate\n",
        "\n",
        "from typing import Tuple, List, Optional\n",
        "\n",
        "\n",
        "from langchain_core.messages import AIMessage, HumanMessage\n",
        "from langchain_core.output_parsers import StrOutputParser\n",
        "\n",
        "\n",
        "from langchain_core.runnables import ConfigurableField\n",
        "\n",
        "\n",
        "from yfiles_jupyter_graphs import GraphWidget\n",
        "from neo4j import GraphDatabase\n",
        "from langchain_community.vectorstores import Neo4jVector\n",
        "\n",
        "\n",
        "\n",
        "\n",
        "import os\n",
        "\n",
        "\n",
        "try:\n",
        "  import google.colab\n",
        "  from google.colab import output\n",
        "  output.enable_custom_widget_manager()\n",
        "except:\n",
        "  pass"
      ],
      "metadata": {
        "id": "cUll-gXVxi8p"
      },
      "execution_count": 27,
      "outputs": []
    },
    {
      "cell_type": "code",
      "source": [
        "graph = Neo4jGraph()\n",
        "graph"
      ],
      "metadata": {
        "id": "qnPIj7pJx13-",
        "outputId": "ad904475-cf21-42cc-e9eb-e23c29ebbebc",
        "colab": {
          "base_uri": "https://localhost:8080/"
        }
      },
      "execution_count": 28,
      "outputs": [
        {
          "output_type": "execute_result",
          "data": {
            "text/plain": [
              "<langchain_community.graphs.neo4j_graph.Neo4jGraph at 0x7fee0ea28b20>"
            ]
          },
          "metadata": {},
          "execution_count": 28
        }
      ]
    },
    {
      "cell_type": "code",
      "source": [
        "from langchain.document_loaders import WikipediaLoader\n",
        "raw_documents = WikipediaLoader(query=\"Elizabeth I\").load()\n",
        "print(len(raw_documents))\n",
        "# raw_documents"
      ],
      "metadata": {
        "id": "HeBeXSMCxmyD",
        "outputId": "b9ed02f4-ceca-4cb9-a69e-b9f4864810e2",
        "colab": {
          "base_uri": "https://localhost:8080/"
        }
      },
      "execution_count": 29,
      "outputs": [
        {
          "output_type": "stream",
          "name": "stderr",
          "text": [
            "/usr/local/lib/python3.10/dist-packages/wikipedia/wikipedia.py:389: GuessedAtParserWarning: No parser was explicitly specified, so I'm using the best available HTML parser for this system (\"lxml\"). This usually isn't a problem, but if you run this code on another system, or in a different virtual environment, it may use a different parser and behave differently.\n",
            "\n",
            "The code that caused this warning is on line 389 of the file /usr/local/lib/python3.10/dist-packages/wikipedia/wikipedia.py. To get rid of this warning, pass the additional argument 'features=\"lxml\"' to the BeautifulSoup constructor.\n",
            "\n",
            "  lis = BeautifulSoup(html).find_all('li')\n"
          ]
        },
        {
          "output_type": "stream",
          "name": "stdout",
          "text": [
            "23\n"
          ]
        }
      ]
    },
    {
      "cell_type": "code",
      "source": [
        "from langchain.text_splitter import TokenTextSplitter\n",
        "text_splitter = TokenTextSplitter(chunk_size=512, chunk_overlap=24)\n",
        "documents_1 = text_splitter.split_documents(raw_documents[:3])\n",
        "# documents"
      ],
      "metadata": {
        "id": "zOM59t8Kxzoe"
      },
      "execution_count": 47,
      "outputs": []
    },
    {
      "cell_type": "code",
      "source": [
        "from langchain_experimental.graph_transformers import LLMGraphTransformer\n",
        "llm_transformer = LLMGraphTransformer(llm=llm)\n",
        "# llm_transformer"
      ],
      "metadata": {
        "id": "wtBBKIIdyNvR"
      },
      "execution_count": 48,
      "outputs": []
    },
    {
      "cell_type": "code",
      "source": [
        "graph_documents_1 = llm_transformer.convert_to_graph_documents(documents_1)\n",
        "# graph_documents"
      ],
      "metadata": {
        "id": "iwu_Z1x_yX3i"
      },
      "execution_count": 49,
      "outputs": []
    },
    {
      "cell_type": "code",
      "source": [
        "graph.add_graph_documents(\n",
        "    graph_documents_1,\n",
        "    baseEntityLabel=True,\n",
        "    include_source=True\n",
        ")\n",
        "\n",
        "\n",
        "# directly show the graph resulting from the given Cypher query\n",
        "default_cypher = \"MATCH (s)-[r:!MENTIONS]->(t) RETURN s,r,t LIMIT 50\""
      ],
      "metadata": {
        "id": "f3jLsaL_yZUP"
      },
      "execution_count": 50,
      "outputs": []
    },
    {
      "cell_type": "code",
      "source": [
        "from yfiles_jupyter_graphs import GraphWidget\n",
        "from neo4j import GraphDatabase\n",
        "\n",
        "\n",
        "try:\n",
        "  import google.colab\n",
        "  from google.colab import output\n",
        "  output.enable_custom_widget_manager()\n",
        "except:\n",
        "  pass\n",
        "\n",
        "\n",
        "def showGraph(cypher: str = default_cypher):\n",
        "    # create a neo4j session to run queries\n",
        "    driver = GraphDatabase.driver(\n",
        "        uri = os.environ[\"NEO4J_URI\"],\n",
        "        auth = (os.environ[\"NEO4J_USERNAME\"],\n",
        "                os.environ[\"NEO4J_PASSWORD\"]))\n",
        "    session = driver.session()\n",
        "    widget = GraphWidget(graph = session.run(cypher).graph())\n",
        "    widget.node_label_mapping = 'id'\n",
        "    display(widget)\n",
        "    return widget"
      ],
      "metadata": {
        "id": "AjQTNmZ0zNwv"
      },
      "execution_count": 51,
      "outputs": []
    },
    {
      "cell_type": "code",
      "source": [
        "showGraph()"
      ],
      "metadata": {
        "id": "C6IUxDLvzTYh",
        "outputId": "90912d05-4c9c-4b0d-d6ff-80c8c9793cc4",
        "colab": {
          "base_uri": "https://localhost:8080/",
          "height": 1000,
          "referenced_widgets": [
            "c2630a206cc84560a772882f1720fbee",
            "a2318db1cc244a97ab893f1d4b4b5b9c"
          ]
        }
      },
      "execution_count": 52,
      "outputs": [
        {
          "output_type": "display_data",
          "data": {
            "text/plain": [
              "GraphWidget(layout=Layout(height='800px', width='100%'))"
            ],
            "application/vnd.jupyter.widget-view+json": {
              "version_major": 2,
              "version_minor": 0,
              "model_id": "c2630a206cc84560a772882f1720fbee"
            }
          },
          "metadata": {
            "application/vnd.jupyter.widget-view+json": {
              "colab": {
                "custom_widget_manager": {
                  "url": "https://ssl.gstatic.com/colaboratory-static/widgets/colab-cdn-widget-manager/2b70e893a8ba7c0f/manager.min.js"
                }
              }
            }
          }
        },
        {
          "output_type": "display_data",
          "data": {
            "text/plain": [
              "GraphWidget(layout=Layout(height='800px', width='100%'))"
            ],
            "application/vnd.jupyter.widget-view+json": {
              "version_major": 2,
              "version_minor": 0,
              "model_id": "c2630a206cc84560a772882f1720fbee"
            }
          },
          "metadata": {
            "application/vnd.jupyter.widget-view+json": {
              "colab": {
                "custom_widget_manager": {
                  "url": "https://ssl.gstatic.com/colaboratory-static/widgets/colab-cdn-widget-manager/2b70e893a8ba7c0f/manager.min.js"
                }
              }
            }
          }
        }
      ]
    },
    {
      "cell_type": "code",
      "source": [
        "from langchain_core.pydantic_v1 import BaseModel, Field\n",
        "# Extract entities from text\n",
        "class Entities(BaseModel):\n",
        "    \"\"\"Identifying information about entities.\"\"\"\n",
        "\n",
        "    names: List[str] = Field(\n",
        "        ...,\n",
        "        description=\"All the person, organization, or business entities that \"\n",
        "        \"appear in the text\",\n",
        "    )\n",
        "\n",
        "\n",
        "\n",
        "from langchain_core.prompts import ChatPromptTemplate\n",
        "from langchain_core.prompts.prompt import PromptTemplate\n",
        "\n",
        "\n",
        "prompt = ChatPromptTemplate.from_messages(\n",
        "    [\n",
        "        (\n",
        "            \"system\",\n",
        "            \"You are extracting organization and person entities from the text.\",\n",
        "        ),\n",
        "        (\n",
        "            \"human\",\n",
        "            \"Use the given format to extract information from the following \"\n",
        "            \"input: {question}\",\n",
        "        ),\n",
        "    ]\n",
        ")"
      ],
      "metadata": {
        "id": "v35fYdZu0C7R",
        "outputId": "718d5f6d-2bda-412d-92d5-8a175883c7c4",
        "colab": {
          "base_uri": "https://localhost:8080/"
        }
      },
      "execution_count": 37,
      "outputs": [
        {
          "output_type": "stream",
          "name": "stderr",
          "text": [
            "/usr/local/lib/python3.10/dist-packages/IPython/core/interactiveshell.py:3553: LangChainDeprecationWarning: As of langchain-core 0.3.0, LangChain uses pydantic v2 internally. The langchain_core.pydantic_v1 module was a compatibility shim for pydantic v1, and should no longer be used. Please update the code to import from Pydantic directly.\n",
            "\n",
            "For example, replace imports like: `from langchain_core.pydantic_v1 import BaseModel`\n",
            "with: `from pydantic import BaseModel`\n",
            "or the v1 compatibility namespace if you are working in a code base that has not been fully upgraded to pydantic 2 yet. \tfrom pydantic.v1 import BaseModel\n",
            "\n",
            "  exec(code_obj, self.user_global_ns, self.user_ns)\n"
          ]
        }
      ]
    },
    {
      "cell_type": "code",
      "source": [
        "from langchain.document_loaders import WikipediaLoader\n",
        "raw_documents = WikipediaLoader(query=\"Elizabeth I\").load()"
      ],
      "metadata": {
        "id": "hZr8omv91FQn",
        "outputId": "c13f9f5f-7f13-4147-ccd2-29c1253290bf",
        "colab": {
          "base_uri": "https://localhost:8080/"
        }
      },
      "execution_count": 41,
      "outputs": [
        {
          "output_type": "stream",
          "name": "stderr",
          "text": [
            "/usr/local/lib/python3.10/dist-packages/wikipedia/wikipedia.py:389: GuessedAtParserWarning: No parser was explicitly specified, so I'm using the best available HTML parser for this system (\"lxml\"). This usually isn't a problem, but if you run this code on another system, or in a different virtual environment, it may use a different parser and behave differently.\n",
            "\n",
            "The code that caused this warning is on line 389 of the file /usr/local/lib/python3.10/dist-packages/wikipedia/wikipedia.py. To get rid of this warning, pass the additional argument 'features=\"lxml\"' to the BeautifulSoup constructor.\n",
            "\n",
            "  lis = BeautifulSoup(html).find_all('li')\n"
          ]
        }
      ]
    },
    {
      "cell_type": "code",
      "source": [
        "from langchain.text_splitter import TokenTextSplitter\n",
        "text_splitter = TokenTextSplitter(chunk_size=512, chunk_overlap=24)\n",
        "documents = text_splitter.split_documents(raw_documents[:3])\n",
        "\n",
        "from langchain_experimental.graph_transformers import LLMGraphTransformer\n",
        "llm_transformer = LLMGraphTransformer(llm=llm)\n",
        "\n",
        "\n",
        "graph_doc = llm_transformer.convert_to_graph_documents(documents)\n",
        "\n",
        "\n",
        "# graph_documents\n",
        ""
      ],
      "metadata": {
        "id": "Va8FnVm97VQB"
      },
      "execution_count": 54,
      "outputs": []
    },
    {
      "cell_type": "code",
      "source": [
        "graph.add_graph_documents(\n",
        "    graph_doc,\n",
        "    baseEntityLabel=True,\n",
        "    include_source=True\n",
        ")\n",
        "\n",
        "\n",
        "# directly show the graph resulting from the given Cypher query\n",
        "default_cypher = \"MATCH (s)-[r:!MENTIONS]->(t) RETURN s,r,t LIMIT 50\"\n",
        "\n",
        "\n",
        "from yfiles_jupyter_graphs import GraphWidget\n",
        "from neo4j import GraphDatabase\n",
        "\n",
        "\n",
        "try:\n",
        "  import google.colab\n",
        "  from google.colab import output\n",
        "  output.enable_custom_widget_manager()\n",
        "except:\n",
        "  pass\n",
        "\n",
        "\n",
        "def showGraph(cypher: str = default_cypher):\n",
        "    # create a neo4j session to run queries\n",
        "    driver = GraphDatabase.driver(\n",
        "        uri = os.environ[\"NEO4J_URI\"],\n",
        "        auth = (os.environ[\"NEO4J_USERNAME\"],\n",
        "                os.environ[\"NEO4J_PASSWORD\"]))\n",
        "    session = driver.session()\n",
        "    widget = GraphWidget(graph = session.run(cypher).graph())\n",
        "    widget.node_label_mapping = 'id'\n",
        "    display(widget)\n",
        "    return widget\n",
        "\n",
        "\n",
        "showGraph()"
      ],
      "metadata": {
        "id": "W1gcbagU7gxH",
        "outputId": "8bb7b7bb-f88b-4c9e-8e7e-5ce996f882f6",
        "colab": {
          "base_uri": "https://localhost:8080/",
          "height": 1000,
          "referenced_widgets": [
            "c8ef660f365546d0a70b4e25c7af530c",
            "46ba870e3f904f8882a544b3a6d9beb4"
          ]
        }
      },
      "execution_count": 55,
      "outputs": [
        {
          "output_type": "display_data",
          "data": {
            "text/plain": [
              "GraphWidget(layout=Layout(height='800px', width='100%'))"
            ],
            "application/vnd.jupyter.widget-view+json": {
              "version_major": 2,
              "version_minor": 0,
              "model_id": "c8ef660f365546d0a70b4e25c7af530c"
            }
          },
          "metadata": {
            "application/vnd.jupyter.widget-view+json": {
              "colab": {
                "custom_widget_manager": {
                  "url": "https://ssl.gstatic.com/colaboratory-static/widgets/colab-cdn-widget-manager/2b70e893a8ba7c0f/manager.min.js"
                }
              }
            }
          }
        },
        {
          "output_type": "display_data",
          "data": {
            "text/plain": [
              "GraphWidget(layout=Layout(height='800px', width='100%'))"
            ],
            "application/vnd.jupyter.widget-view+json": {
              "version_major": 2,
              "version_minor": 0,
              "model_id": "c8ef660f365546d0a70b4e25c7af530c"
            }
          },
          "metadata": {
            "application/vnd.jupyter.widget-view+json": {
              "colab": {
                "custom_widget_manager": {
                  "url": "https://ssl.gstatic.com/colaboratory-static/widgets/colab-cdn-widget-manager/2b70e893a8ba7c0f/manager.min.js"
                }
              }
            }
          }
        }
      ]
    },
    {
      "cell_type": "code",
      "source": [],
      "metadata": {
        "id": "4LYituSp7r38"
      },
      "execution_count": 53,
      "outputs": []
    }
  ]
}