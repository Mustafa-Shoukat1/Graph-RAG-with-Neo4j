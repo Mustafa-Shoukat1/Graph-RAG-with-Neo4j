{
  "nbformat": 4,
  "nbformat_minor": 0,
  "metadata": {
    "colab": {
      "provenance": []
    },
    "kernelspec": {
      "name": "python3",
      "display_name": "Python 3"
    },
    "language_info": {
      "name": "python"
    }
  },
  "cells": [
    {
      "cell_type": "markdown",
      "source": [
        "# Overview"
      ],
      "metadata": {
        "id": "10NXdQNJDI4M"
      }
    },
    {
      "cell_type": "markdown",
      "source": [
        "## Tools\n",
        "## PDF Search (rag_tool)\n",
        "This tool **searches a provided PDF** for relevant information.  \n",
        "For example, if you ask about **trading suspension procedures**, it will find the part of the document that explains it.\n",
        "\n",
        "---\n",
        "\n",
        "## Web Search (web_search_tool)\n",
        "This tool **searches the web** based on your query.  \n",
        "For example, if you ask about **\"Navid.sa\"**, it will find official sites and LinkedIn profiles.\n",
        "\n",
        "---\n",
        "\n",
        "## Router Tool (router_tool)\n",
        "The **Router Tool** determines whether to use **PDF search** or **web search** based on your question, ensuring the correct tool is used for the task.\n",
        "\n",
        "---\n",
        "\n",
        "## Grading Agents\n",
        "These agents filter and grade the responses to ensure quality and relevance:\n",
        "\n",
        "- **Retriever Agent**: Finds relevant information from a database.\n",
        "- **Grader Agent**: Checks if the information retrieved is relevant.\n",
        "- **Hallucination Grader**: Ensures the answer is based on actual facts.\n",
        "- **Answer Grader**: Verifies the answer is accurate and aligned with the question.\n",
        "\n",
        "---\n"
      ],
      "metadata": {
        "id": "Pdz3NtWLC-7z"
      }
    },
    {
      "cell_type": "markdown",
      "metadata": {
        "id": "2OKVYQxFYyXb"
      },
      "source": [
        "# Installs"
      ]
    },
    {
      "cell_type": "code",
      "execution_count": 63,
      "metadata": {
        "collapsed": true,
        "id": "gcbgTss4b_Iy",
        "colab": {
          "base_uri": "https://localhost:8080/"
        },
        "outputId": "c7d5e970-a597-46cd-e40f-08276ff2b272"
      },
      "outputs": [
        {
          "output_type": "stream",
          "name": "stdout",
          "text": [
            "Requirement already satisfied: crewai==0.76.9 in /usr/local/lib/python3.10/dist-packages (0.76.9)\n",
            "Requirement already satisfied: crewai_tools==0.13.4 in /usr/local/lib/python3.10/dist-packages (0.13.4)\n",
            "Requirement already satisfied: langchain_community==0.3.5 in /usr/local/lib/python3.10/dist-packages (0.3.5)\n",
            "Requirement already satisfied: appdirs>=1.4.4 in /usr/local/lib/python3.10/dist-packages (from crewai==0.76.9) (1.4.4)\n",
            "Requirement already satisfied: auth0-python>=4.7.1 in /usr/local/lib/python3.10/dist-packages (from crewai==0.76.9) (4.7.2)\n",
            "Requirement already satisfied: chromadb>=0.4.24 in /usr/local/lib/python3.10/dist-packages (from crewai==0.76.9) (0.5.18)\n",
            "Requirement already satisfied: click>=8.1.7 in /usr/local/lib/python3.10/dist-packages (from crewai==0.76.9) (8.1.7)\n",
            "Requirement already satisfied: instructor>=1.3.3 in /usr/local/lib/python3.10/dist-packages (from crewai==0.76.9) (1.6.4)\n",
            "Requirement already satisfied: json-repair>=0.25.2 in /usr/local/lib/python3.10/dist-packages (from crewai==0.76.9) (0.30.2)\n",
            "Requirement already satisfied: jsonref>=1.1.0 in /usr/local/lib/python3.10/dist-packages (from crewai==0.76.9) (1.1.0)\n",
            "Requirement already satisfied: langchain>=0.2.16 in /usr/local/lib/python3.10/dist-packages (from crewai==0.76.9) (0.3.7)\n",
            "Requirement already satisfied: litellm>=1.44.22 in /usr/local/lib/python3.10/dist-packages (from crewai==0.76.9) (1.52.9)\n",
            "Requirement already satisfied: openai>=1.13.3 in /usr/local/lib/python3.10/dist-packages (from crewai==0.76.9) (1.54.4)\n",
            "Requirement already satisfied: opentelemetry-api>=1.22.0 in /usr/local/lib/python3.10/dist-packages (from crewai==0.76.9) (1.28.2)\n",
            "Requirement already satisfied: opentelemetry-exporter-otlp-proto-http>=1.22.0 in /usr/local/lib/python3.10/dist-packages (from crewai==0.76.9) (1.28.2)\n",
            "Requirement already satisfied: opentelemetry-sdk>=1.22.0 in /usr/local/lib/python3.10/dist-packages (from crewai==0.76.9) (1.28.2)\n",
            "Requirement already satisfied: pydantic>=2.4.2 in /usr/local/lib/python3.10/dist-packages (from crewai==0.76.9) (2.9.2)\n",
            "Requirement already satisfied: python-dotenv>=1.0.0 in /usr/local/lib/python3.10/dist-packages (from crewai==0.76.9) (1.0.1)\n",
            "Requirement already satisfied: pyvis>=0.3.2 in /usr/local/lib/python3.10/dist-packages (from crewai==0.76.9) (0.3.2)\n",
            "Requirement already satisfied: regex>=2024.9.11 in /usr/local/lib/python3.10/dist-packages (from crewai==0.76.9) (2024.9.11)\n",
            "Requirement already satisfied: tomli-w>=1.1.0 in /usr/local/lib/python3.10/dist-packages (from crewai==0.76.9) (1.1.0)\n",
            "Requirement already satisfied: tomli>=2.0.2 in /usr/local/lib/python3.10/dist-packages (from crewai==0.76.9) (2.1.0)\n",
            "Requirement already satisfied: uv>=0.4.25 in /usr/local/lib/python3.10/dist-packages (from crewai==0.76.9) (0.5.2)\n",
            "Requirement already satisfied: beautifulsoup4>=4.12.3 in /usr/local/lib/python3.10/dist-packages (from crewai_tools==0.13.4) (4.12.3)\n",
            "Requirement already satisfied: docker>=7.1.0 in /usr/local/lib/python3.10/dist-packages (from crewai_tools==0.13.4) (7.1.0)\n",
            "Requirement already satisfied: docx2txt>=0.8 in /usr/local/lib/python3.10/dist-packages (from crewai_tools==0.13.4) (0.8)\n",
            "Requirement already satisfied: embedchain>=0.1.114 in /usr/local/lib/python3.10/dist-packages (from crewai_tools==0.13.4) (0.1.125)\n",
            "Requirement already satisfied: lancedb>=0.5.4 in /usr/local/lib/python3.10/dist-packages (from crewai_tools==0.13.4) (0.16.0)\n",
            "Requirement already satisfied: pyright>=1.1.350 in /usr/local/lib/python3.10/dist-packages (from crewai_tools==0.13.4) (1.1.389)\n",
            "Requirement already satisfied: pytest>=8.0.0 in /usr/local/lib/python3.10/dist-packages (from crewai_tools==0.13.4) (8.3.3)\n",
            "Requirement already satisfied: pytube>=15.0.0 in /usr/local/lib/python3.10/dist-packages (from crewai_tools==0.13.4) (15.0.0)\n",
            "Requirement already satisfied: requests>=2.31.0 in /usr/local/lib/python3.10/dist-packages (from crewai_tools==0.13.4) (2.32.3)\n",
            "Requirement already satisfied: selenium>=4.18.1 in /usr/local/lib/python3.10/dist-packages (from crewai_tools==0.13.4) (4.26.1)\n",
            "Requirement already satisfied: PyYAML>=5.3 in /usr/local/lib/python3.10/dist-packages (from langchain_community==0.3.5) (6.0.2)\n",
            "Requirement already satisfied: SQLAlchemy<2.0.36,>=1.4 in /usr/local/lib/python3.10/dist-packages (from langchain_community==0.3.5) (2.0.35)\n",
            "Requirement already satisfied: aiohttp<4.0.0,>=3.8.3 in /usr/local/lib/python3.10/dist-packages (from langchain_community==0.3.5) (3.11.1)\n",
            "Requirement already satisfied: dataclasses-json<0.7,>=0.5.7 in /usr/local/lib/python3.10/dist-packages (from langchain_community==0.3.5) (0.6.7)\n",
            "Requirement already satisfied: httpx-sse<0.5.0,>=0.4.0 in /usr/local/lib/python3.10/dist-packages (from langchain_community==0.3.5) (0.4.0)\n",
            "Requirement already satisfied: langchain-core<0.4.0,>=0.3.15 in /usr/local/lib/python3.10/dist-packages (from langchain_community==0.3.5) (0.3.18)\n",
            "Requirement already satisfied: langsmith<0.2.0,>=0.1.125 in /usr/local/lib/python3.10/dist-packages (from langchain_community==0.3.5) (0.1.143)\n",
            "Requirement already satisfied: numpy<2,>=1 in /usr/local/lib/python3.10/dist-packages (from langchain_community==0.3.5) (1.26.4)\n",
            "Requirement already satisfied: pydantic-settings<3.0.0,>=2.4.0 in /usr/local/lib/python3.10/dist-packages (from langchain_community==0.3.5) (2.6.1)\n",
            "Requirement already satisfied: tenacity!=8.4.0,<10,>=8.1.0 in /usr/local/lib/python3.10/dist-packages (from langchain_community==0.3.5) (9.0.0)\n",
            "Requirement already satisfied: aiohappyeyeballs>=2.3.0 in /usr/local/lib/python3.10/dist-packages (from aiohttp<4.0.0,>=3.8.3->langchain_community==0.3.5) (2.4.3)\n",
            "Requirement already satisfied: aiosignal>=1.1.2 in /usr/local/lib/python3.10/dist-packages (from aiohttp<4.0.0,>=3.8.3->langchain_community==0.3.5) (1.3.1)\n",
            "Requirement already satisfied: attrs>=17.3.0 in /usr/local/lib/python3.10/dist-packages (from aiohttp<4.0.0,>=3.8.3->langchain_community==0.3.5) (24.2.0)\n",
            "Requirement already satisfied: frozenlist>=1.1.1 in /usr/local/lib/python3.10/dist-packages (from aiohttp<4.0.0,>=3.8.3->langchain_community==0.3.5) (1.5.0)\n",
            "Requirement already satisfied: multidict<7.0,>=4.5 in /usr/local/lib/python3.10/dist-packages (from aiohttp<4.0.0,>=3.8.3->langchain_community==0.3.5) (6.1.0)\n",
            "Requirement already satisfied: propcache>=0.2.0 in /usr/local/lib/python3.10/dist-packages (from aiohttp<4.0.0,>=3.8.3->langchain_community==0.3.5) (0.2.0)\n",
            "Requirement already satisfied: yarl<2.0,>=1.17.0 in /usr/local/lib/python3.10/dist-packages (from aiohttp<4.0.0,>=3.8.3->langchain_community==0.3.5) (1.17.1)\n",
            "Requirement already satisfied: async-timeout<6.0,>=4.0 in /usr/local/lib/python3.10/dist-packages (from aiohttp<4.0.0,>=3.8.3->langchain_community==0.3.5) (4.0.3)\n",
            "Requirement already satisfied: cryptography<44.0.0,>=43.0.1 in /usr/local/lib/python3.10/dist-packages (from auth0-python>=4.7.1->crewai==0.76.9) (43.0.3)\n",
            "Requirement already satisfied: pyjwt<3.0.0,>=2.8.0 in /usr/local/lib/python3.10/dist-packages (from auth0-python>=4.7.1->crewai==0.76.9) (2.9.0)\n",
            "Requirement already satisfied: urllib3<3.0.0,>=2.0.7 in /usr/local/lib/python3.10/dist-packages (from auth0-python>=4.7.1->crewai==0.76.9) (2.2.3)\n",
            "Requirement already satisfied: soupsieve>1.2 in /usr/local/lib/python3.10/dist-packages (from beautifulsoup4>=4.12.3->crewai_tools==0.13.4) (2.6)\n",
            "Requirement already satisfied: build>=1.0.3 in /usr/local/lib/python3.10/dist-packages (from chromadb>=0.4.24->crewai==0.76.9) (1.2.2.post1)\n",
            "Requirement already satisfied: chroma-hnswlib==0.7.6 in /usr/local/lib/python3.10/dist-packages (from chromadb>=0.4.24->crewai==0.76.9) (0.7.6)\n",
            "Requirement already satisfied: fastapi>=0.95.2 in /usr/local/lib/python3.10/dist-packages (from chromadb>=0.4.24->crewai==0.76.9) (0.115.5)\n",
            "Requirement already satisfied: uvicorn>=0.18.3 in /usr/local/lib/python3.10/dist-packages (from uvicorn[standard]>=0.18.3->chromadb>=0.4.24->crewai==0.76.9) (0.32.0)\n",
            "Requirement already satisfied: posthog>=2.4.0 in /usr/local/lib/python3.10/dist-packages (from chromadb>=0.4.24->crewai==0.76.9) (3.7.0)\n",
            "Requirement already satisfied: typing-extensions>=4.5.0 in /usr/local/lib/python3.10/dist-packages (from chromadb>=0.4.24->crewai==0.76.9) (4.12.2)\n",
            "Requirement already satisfied: onnxruntime>=1.14.1 in /usr/local/lib/python3.10/dist-packages (from chromadb>=0.4.24->crewai==0.76.9) (1.20.0)\n",
            "Requirement already satisfied: opentelemetry-exporter-otlp-proto-grpc>=1.2.0 in /usr/local/lib/python3.10/dist-packages (from chromadb>=0.4.24->crewai==0.76.9) (1.28.2)\n",
            "Requirement already satisfied: opentelemetry-instrumentation-fastapi>=0.41b0 in /usr/local/lib/python3.10/dist-packages (from chromadb>=0.4.24->crewai==0.76.9) (0.49b2)\n",
            "Requirement already satisfied: tokenizers>=0.13.2 in /usr/local/lib/python3.10/dist-packages (from chromadb>=0.4.24->crewai==0.76.9) (0.20.3)\n",
            "Requirement already satisfied: pypika>=0.48.9 in /usr/local/lib/python3.10/dist-packages (from chromadb>=0.4.24->crewai==0.76.9) (0.48.9)\n",
            "Requirement already satisfied: tqdm>=4.65.0 in /usr/local/lib/python3.10/dist-packages (from chromadb>=0.4.24->crewai==0.76.9) (4.66.6)\n",
            "Requirement already satisfied: overrides>=7.3.1 in /usr/local/lib/python3.10/dist-packages (from chromadb>=0.4.24->crewai==0.76.9) (7.7.0)\n",
            "Requirement already satisfied: importlib-resources in /usr/local/lib/python3.10/dist-packages (from chromadb>=0.4.24->crewai==0.76.9) (6.4.5)\n",
            "Requirement already satisfied: grpcio>=1.58.0 in /usr/local/lib/python3.10/dist-packages (from chromadb>=0.4.24->crewai==0.76.9) (1.68.0)\n",
            "Requirement already satisfied: bcrypt>=4.0.1 in /usr/local/lib/python3.10/dist-packages (from chromadb>=0.4.24->crewai==0.76.9) (4.2.0)\n",
            "Requirement already satisfied: typer>=0.9.0 in /usr/local/lib/python3.10/dist-packages (from chromadb>=0.4.24->crewai==0.76.9) (0.13.0)\n",
            "Requirement already satisfied: kubernetes>=28.1.0 in /usr/local/lib/python3.10/dist-packages (from chromadb>=0.4.24->crewai==0.76.9) (31.0.0)\n",
            "Requirement already satisfied: mmh3>=4.0.1 in /usr/local/lib/python3.10/dist-packages (from chromadb>=0.4.24->crewai==0.76.9) (5.0.1)\n",
            "Requirement already satisfied: orjson>=3.9.12 in /usr/local/lib/python3.10/dist-packages (from chromadb>=0.4.24->crewai==0.76.9) (3.10.11)\n",
            "Requirement already satisfied: httpx>=0.27.0 in /usr/local/lib/python3.10/dist-packages (from chromadb>=0.4.24->crewai==0.76.9) (0.27.2)\n",
            "Requirement already satisfied: rich>=10.11.0 in /usr/local/lib/python3.10/dist-packages (from chromadb>=0.4.24->crewai==0.76.9) (13.9.4)\n",
            "Requirement already satisfied: marshmallow<4.0.0,>=3.18.0 in /usr/local/lib/python3.10/dist-packages (from dataclasses-json<0.7,>=0.5.7->langchain_community==0.3.5) (3.23.1)\n",
            "Requirement already satisfied: typing-inspect<1,>=0.4.0 in /usr/local/lib/python3.10/dist-packages (from dataclasses-json<0.7,>=0.5.7->langchain_community==0.3.5) (0.9.0)\n",
            "Requirement already satisfied: alembic<2.0.0,>=1.13.1 in /usr/local/lib/python3.10/dist-packages (from embedchain>=0.1.114->crewai_tools==0.13.4) (1.14.0)\n",
            "Requirement already satisfied: cohere<6.0,>=5.3 in /usr/local/lib/python3.10/dist-packages (from embedchain>=0.1.114->crewai_tools==0.13.4) (5.11.4)\n",
            "Requirement already satisfied: google-cloud-aiplatform<2.0.0,>=1.26.1 in /usr/local/lib/python3.10/dist-packages (from embedchain>=0.1.114->crewai_tools==0.13.4) (1.71.1)\n",
            "Requirement already satisfied: gptcache<0.2.0,>=0.1.43 in /usr/local/lib/python3.10/dist-packages (from embedchain>=0.1.114->crewai_tools==0.13.4) (0.1.44)\n",
            "Requirement already satisfied: langchain-cohere<0.4.0,>=0.3.0 in /usr/local/lib/python3.10/dist-packages (from embedchain>=0.1.114->crewai_tools==0.13.4) (0.3.1)\n",
            "Requirement already satisfied: langchain-openai<0.3.0,>=0.2.1 in /usr/local/lib/python3.10/dist-packages (from embedchain>=0.1.114->crewai_tools==0.13.4) (0.2.8)\n",
            "Requirement already satisfied: mem0ai<0.2.0,>=0.1.29 in /usr/local/lib/python3.10/dist-packages (from embedchain>=0.1.114->crewai_tools==0.13.4) (0.1.29)\n",
            "Requirement already satisfied: pypdf<6.0.0,>=5.0.0 in /usr/local/lib/python3.10/dist-packages (from embedchain>=0.1.114->crewai_tools==0.13.4) (5.1.0)\n",
            "Requirement already satisfied: pysbd<0.4.0,>=0.3.4 in /usr/local/lib/python3.10/dist-packages (from embedchain>=0.1.114->crewai_tools==0.13.4) (0.3.4)\n",
            "Requirement already satisfied: schema<0.8.0,>=0.7.5 in /usr/local/lib/python3.10/dist-packages (from embedchain>=0.1.114->crewai_tools==0.13.4) (0.7.7)\n",
            "Requirement already satisfied: tiktoken<0.8.0,>=0.7.0 in /usr/local/lib/python3.10/dist-packages (from embedchain>=0.1.114->crewai_tools==0.13.4) (0.7.0)\n",
            "Requirement already satisfied: docstring-parser<0.17,>=0.16 in /usr/local/lib/python3.10/dist-packages (from instructor>=1.3.3->crewai==0.76.9) (0.16)\n",
            "Requirement already satisfied: jinja2<4.0.0,>=3.1.4 in /usr/local/lib/python3.10/dist-packages (from instructor>=1.3.3->crewai==0.76.9) (3.1.4)\n",
            "Requirement already satisfied: jiter<0.7,>=0.6.1 in /usr/local/lib/python3.10/dist-packages (from instructor>=1.3.3->crewai==0.76.9) (0.6.1)\n",
            "Requirement already satisfied: pydantic-core<3.0.0,>=2.18.0 in /usr/local/lib/python3.10/dist-packages (from instructor>=1.3.3->crewai==0.76.9) (2.23.4)\n",
            "Requirement already satisfied: deprecation in /usr/local/lib/python3.10/dist-packages (from lancedb>=0.5.4->crewai_tools==0.13.4) (2.1.0)\n",
            "Requirement already satisfied: nest-asyncio~=1.0 in /usr/local/lib/python3.10/dist-packages (from lancedb>=0.5.4->crewai_tools==0.13.4) (1.6.0)\n",
            "Requirement already satisfied: pylance==0.19.2 in /usr/local/lib/python3.10/dist-packages (from lancedb>=0.5.4->crewai_tools==0.13.4) (0.19.2)\n",
            "Requirement already satisfied: packaging in /usr/local/lib/python3.10/dist-packages (from lancedb>=0.5.4->crewai_tools==0.13.4) (24.2)\n",
            "Requirement already satisfied: pyarrow>=12 in /usr/local/lib/python3.10/dist-packages (from pylance==0.19.2->lancedb>=0.5.4->crewai_tools==0.13.4) (17.0.0)\n",
            "Requirement already satisfied: langchain-text-splitters<0.4.0,>=0.3.0 in /usr/local/lib/python3.10/dist-packages (from langchain>=0.2.16->crewai==0.76.9) (0.3.2)\n",
            "Requirement already satisfied: jsonpatch<2.0,>=1.33 in /usr/local/lib/python3.10/dist-packages (from langchain-core<0.4.0,>=0.3.15->langchain_community==0.3.5) (1.33)\n",
            "Requirement already satisfied: requests-toolbelt<2.0.0,>=1.0.0 in /usr/local/lib/python3.10/dist-packages (from langsmith<0.2.0,>=0.1.125->langchain_community==0.3.5) (1.0.0)\n",
            "Requirement already satisfied: importlib-metadata>=6.8.0 in /usr/local/lib/python3.10/dist-packages (from litellm>=1.44.22->crewai==0.76.9) (8.5.0)\n",
            "Requirement already satisfied: jsonschema<5.0.0,>=4.22.0 in /usr/local/lib/python3.10/dist-packages (from litellm>=1.44.22->crewai==0.76.9) (4.23.0)\n",
            "Requirement already satisfied: anyio<5,>=3.5.0 in /usr/local/lib/python3.10/dist-packages (from openai>=1.13.3->crewai==0.76.9) (3.7.1)\n",
            "Requirement already satisfied: distro<2,>=1.7.0 in /usr/local/lib/python3.10/dist-packages (from openai>=1.13.3->crewai==0.76.9) (1.9.0)\n",
            "Requirement already satisfied: sniffio in /usr/local/lib/python3.10/dist-packages (from openai>=1.13.3->crewai==0.76.9) (1.3.1)\n",
            "Requirement already satisfied: deprecated>=1.2.6 in /usr/local/lib/python3.10/dist-packages (from opentelemetry-api>=1.22.0->crewai==0.76.9) (1.2.14)\n",
            "Requirement already satisfied: googleapis-common-protos~=1.52 in /usr/local/lib/python3.10/dist-packages (from opentelemetry-exporter-otlp-proto-http>=1.22.0->crewai==0.76.9) (1.66.0)\n",
            "Requirement already satisfied: opentelemetry-exporter-otlp-proto-common==1.28.2 in /usr/local/lib/python3.10/dist-packages (from opentelemetry-exporter-otlp-proto-http>=1.22.0->crewai==0.76.9) (1.28.2)\n",
            "Requirement already satisfied: opentelemetry-proto==1.28.2 in /usr/local/lib/python3.10/dist-packages (from opentelemetry-exporter-otlp-proto-http>=1.22.0->crewai==0.76.9) (1.28.2)\n",
            "Requirement already satisfied: protobuf<6.0,>=5.0 in /usr/local/lib/python3.10/dist-packages (from opentelemetry-proto==1.28.2->opentelemetry-exporter-otlp-proto-http>=1.22.0->crewai==0.76.9) (5.28.3)\n",
            "Requirement already satisfied: opentelemetry-semantic-conventions==0.49b2 in /usr/local/lib/python3.10/dist-packages (from opentelemetry-sdk>=1.22.0->crewai==0.76.9) (0.49b2)\n",
            "Requirement already satisfied: annotated-types>=0.6.0 in /usr/local/lib/python3.10/dist-packages (from pydantic>=2.4.2->crewai==0.76.9) (0.7.0)\n",
            "Requirement already satisfied: nodeenv>=1.6.0 in /usr/local/lib/python3.10/dist-packages (from pyright>=1.1.350->crewai_tools==0.13.4) (1.9.1)\n",
            "Requirement already satisfied: iniconfig in /usr/local/lib/python3.10/dist-packages (from pytest>=8.0.0->crewai_tools==0.13.4) (2.0.0)\n",
            "Requirement already satisfied: pluggy<2,>=1.5 in /usr/local/lib/python3.10/dist-packages (from pytest>=8.0.0->crewai_tools==0.13.4) (1.5.0)\n",
            "Requirement already satisfied: exceptiongroup>=1.0.0rc8 in /usr/local/lib/python3.10/dist-packages (from pytest>=8.0.0->crewai_tools==0.13.4) (1.2.2)\n",
            "Requirement already satisfied: ipython>=5.3.0 in /usr/local/lib/python3.10/dist-packages (from pyvis>=0.3.2->crewai==0.76.9) (7.34.0)\n",
            "Requirement already satisfied: jsonpickle>=1.4.1 in /usr/local/lib/python3.10/dist-packages (from pyvis>=0.3.2->crewai==0.76.9) (4.0.0)\n",
            "Requirement already satisfied: networkx>=1.11 in /usr/local/lib/python3.10/dist-packages (from pyvis>=0.3.2->crewai==0.76.9) (3.4.2)\n",
            "Requirement already satisfied: charset-normalizer<4,>=2 in /usr/local/lib/python3.10/dist-packages (from requests>=2.31.0->crewai_tools==0.13.4) (3.4.0)\n",
            "Requirement already satisfied: idna<4,>=2.5 in /usr/local/lib/python3.10/dist-packages (from requests>=2.31.0->crewai_tools==0.13.4) (3.10)\n",
            "Requirement already satisfied: certifi>=2017.4.17 in /usr/local/lib/python3.10/dist-packages (from requests>=2.31.0->crewai_tools==0.13.4) (2024.8.30)\n",
            "Requirement already satisfied: trio~=0.17 in /usr/local/lib/python3.10/dist-packages (from selenium>=4.18.1->crewai_tools==0.13.4) (0.27.0)\n",
            "Requirement already satisfied: trio-websocket~=0.9 in /usr/local/lib/python3.10/dist-packages (from selenium>=4.18.1->crewai_tools==0.13.4) (0.11.1)\n",
            "Requirement already satisfied: websocket-client~=1.8 in /usr/local/lib/python3.10/dist-packages (from selenium>=4.18.1->crewai_tools==0.13.4) (1.8.0)\n",
            "Requirement already satisfied: greenlet!=0.4.17 in /usr/local/lib/python3.10/dist-packages (from SQLAlchemy<2.0.36,>=1.4->langchain_community==0.3.5) (3.1.1)\n",
            "Requirement already satisfied: Mako in /usr/local/lib/python3.10/dist-packages (from alembic<2.0.0,>=1.13.1->embedchain>=0.1.114->crewai_tools==0.13.4) (1.3.6)\n",
            "Requirement already satisfied: pyproject_hooks in /usr/local/lib/python3.10/dist-packages (from build>=1.0.3->chromadb>=0.4.24->crewai==0.76.9) (1.2.0)\n",
            "Requirement already satisfied: fastavro<2.0.0,>=1.9.4 in /usr/local/lib/python3.10/dist-packages (from cohere<6.0,>=5.3->embedchain>=0.1.114->crewai_tools==0.13.4) (1.9.7)\n",
            "Requirement already satisfied: parameterized<0.10.0,>=0.9.0 in /usr/local/lib/python3.10/dist-packages (from cohere<6.0,>=5.3->embedchain>=0.1.114->crewai_tools==0.13.4) (0.9.0)\n",
            "Requirement already satisfied: types-requests<3.0.0,>=2.0.0 in /usr/local/lib/python3.10/dist-packages (from cohere<6.0,>=5.3->embedchain>=0.1.114->crewai_tools==0.13.4) (2.32.0.20241016)\n",
            "Requirement already satisfied: cffi>=1.12 in /usr/local/lib/python3.10/dist-packages (from cryptography<44.0.0,>=43.0.1->auth0-python>=4.7.1->crewai==0.76.9) (1.17.1)\n",
            "Requirement already satisfied: wrapt<2,>=1.10 in /usr/local/lib/python3.10/dist-packages (from deprecated>=1.2.6->opentelemetry-api>=1.22.0->crewai==0.76.9) (1.16.0)\n",
            "Requirement already satisfied: starlette<0.42.0,>=0.40.0 in /usr/local/lib/python3.10/dist-packages (from fastapi>=0.95.2->chromadb>=0.4.24->crewai==0.76.9) (0.41.2)\n",
            "Requirement already satisfied: google-api-core!=2.0.*,!=2.1.*,!=2.2.*,!=2.3.*,!=2.4.*,!=2.5.*,!=2.6.*,!=2.7.*,<3.0.0dev,>=1.34.1 in /usr/local/lib/python3.10/dist-packages (from google-api-core[grpc]!=2.0.*,!=2.1.*,!=2.2.*,!=2.3.*,!=2.4.*,!=2.5.*,!=2.6.*,!=2.7.*,<3.0.0dev,>=1.34.1->google-cloud-aiplatform<2.0.0,>=1.26.1->embedchain>=0.1.114->crewai_tools==0.13.4) (2.19.2)\n",
            "Requirement already satisfied: google-auth<3.0.0dev,>=2.14.1 in /usr/local/lib/python3.10/dist-packages (from google-cloud-aiplatform<2.0.0,>=1.26.1->embedchain>=0.1.114->crewai_tools==0.13.4) (2.27.0)\n",
            "Requirement already satisfied: proto-plus<2.0.0dev,>=1.22.3 in /usr/local/lib/python3.10/dist-packages (from google-cloud-aiplatform<2.0.0,>=1.26.1->embedchain>=0.1.114->crewai_tools==0.13.4) (1.25.0)\n",
            "Requirement already satisfied: google-cloud-storage<3.0.0dev,>=1.32.0 in /usr/local/lib/python3.10/dist-packages (from google-cloud-aiplatform<2.0.0,>=1.26.1->embedchain>=0.1.114->crewai_tools==0.13.4) (2.8.0)\n",
            "Requirement already satisfied: google-cloud-bigquery!=3.20.0,<4.0.0dev,>=1.15.0 in /usr/local/lib/python3.10/dist-packages (from google-cloud-aiplatform<2.0.0,>=1.26.1->embedchain>=0.1.114->crewai_tools==0.13.4) (3.25.0)\n",
            "Requirement already satisfied: google-cloud-resource-manager<3.0.0dev,>=1.3.3 in /usr/local/lib/python3.10/dist-packages (from google-cloud-aiplatform<2.0.0,>=1.26.1->embedchain>=0.1.114->crewai_tools==0.13.4) (1.13.0)\n",
            "Requirement already satisfied: shapely<3.0.0dev in /usr/local/lib/python3.10/dist-packages (from google-cloud-aiplatform<2.0.0,>=1.26.1->embedchain>=0.1.114->crewai_tools==0.13.4) (2.0.6)\n",
            "Requirement already satisfied: cachetools in /usr/local/lib/python3.10/dist-packages (from gptcache<0.2.0,>=0.1.43->embedchain>=0.1.114->crewai_tools==0.13.4) (5.5.0)\n",
            "Requirement already satisfied: httpcore==1.* in /usr/local/lib/python3.10/dist-packages (from httpx>=0.27.0->chromadb>=0.4.24->crewai==0.76.9) (1.0.6)\n",
            "Requirement already satisfied: h11<0.15,>=0.13 in /usr/local/lib/python3.10/dist-packages (from httpcore==1.*->httpx>=0.27.0->chromadb>=0.4.24->crewai==0.76.9) (0.14.0)\n",
            "Requirement already satisfied: zipp>=3.20 in /usr/local/lib/python3.10/dist-packages (from importlib-metadata>=6.8.0->litellm>=1.44.22->crewai==0.76.9) (3.21.0)\n",
            "Requirement already satisfied: setuptools>=18.5 in /usr/local/lib/python3.10/dist-packages (from ipython>=5.3.0->pyvis>=0.3.2->crewai==0.76.9) (75.1.0)\n",
            "Requirement already satisfied: jedi>=0.16 in /usr/local/lib/python3.10/dist-packages (from ipython>=5.3.0->pyvis>=0.3.2->crewai==0.76.9) (0.19.2)\n",
            "Requirement already satisfied: decorator in /usr/local/lib/python3.10/dist-packages (from ipython>=5.3.0->pyvis>=0.3.2->crewai==0.76.9) (4.4.2)\n",
            "Requirement already satisfied: pickleshare in /usr/local/lib/python3.10/dist-packages (from ipython>=5.3.0->pyvis>=0.3.2->crewai==0.76.9) (0.7.5)\n",
            "Requirement already satisfied: traitlets>=4.2 in /usr/local/lib/python3.10/dist-packages (from ipython>=5.3.0->pyvis>=0.3.2->crewai==0.76.9) (5.7.1)\n",
            "Requirement already satisfied: prompt-toolkit!=3.0.0,!=3.0.1,<3.1.0,>=2.0.0 in /usr/local/lib/python3.10/dist-packages (from ipython>=5.3.0->pyvis>=0.3.2->crewai==0.76.9) (3.0.48)\n",
            "Requirement already satisfied: pygments in /usr/local/lib/python3.10/dist-packages (from ipython>=5.3.0->pyvis>=0.3.2->crewai==0.76.9) (2.18.0)\n",
            "Requirement already satisfied: backcall in /usr/local/lib/python3.10/dist-packages (from ipython>=5.3.0->pyvis>=0.3.2->crewai==0.76.9) (0.2.0)\n",
            "Requirement already satisfied: matplotlib-inline in /usr/local/lib/python3.10/dist-packages (from ipython>=5.3.0->pyvis>=0.3.2->crewai==0.76.9) (0.1.7)\n",
            "Requirement already satisfied: pexpect>4.3 in /usr/local/lib/python3.10/dist-packages (from ipython>=5.3.0->pyvis>=0.3.2->crewai==0.76.9) (4.9.0)\n",
            "Requirement already satisfied: MarkupSafe>=2.0 in /usr/local/lib/python3.10/dist-packages (from jinja2<4.0.0,>=3.1.4->instructor>=1.3.3->crewai==0.76.9) (3.0.2)\n",
            "Requirement already satisfied: jsonpointer>=1.9 in /usr/local/lib/python3.10/dist-packages (from jsonpatch<2.0,>=1.33->langchain-core<0.4.0,>=0.3.15->langchain_community==0.3.5) (3.0.0)\n",
            "Requirement already satisfied: jsonschema-specifications>=2023.03.6 in /usr/local/lib/python3.10/dist-packages (from jsonschema<5.0.0,>=4.22.0->litellm>=1.44.22->crewai==0.76.9) (2024.10.1)\n",
            "Requirement already satisfied: referencing>=0.28.4 in /usr/local/lib/python3.10/dist-packages (from jsonschema<5.0.0,>=4.22.0->litellm>=1.44.22->crewai==0.76.9) (0.35.1)\n",
            "Requirement already satisfied: rpds-py>=0.7.1 in /usr/local/lib/python3.10/dist-packages (from jsonschema<5.0.0,>=4.22.0->litellm>=1.44.22->crewai==0.76.9) (0.21.0)\n",
            "Requirement already satisfied: six>=1.9.0 in /usr/local/lib/python3.10/dist-packages (from kubernetes>=28.1.0->chromadb>=0.4.24->crewai==0.76.9) (1.16.0)\n",
            "Requirement already satisfied: python-dateutil>=2.5.3 in /usr/local/lib/python3.10/dist-packages (from kubernetes>=28.1.0->chromadb>=0.4.24->crewai==0.76.9) (2.8.2)\n",
            "Requirement already satisfied: requests-oauthlib in /usr/local/lib/python3.10/dist-packages (from kubernetes>=28.1.0->chromadb>=0.4.24->crewai==0.76.9) (1.3.1)\n",
            "Requirement already satisfied: oauthlib>=3.2.2 in /usr/local/lib/python3.10/dist-packages (from kubernetes>=28.1.0->chromadb>=0.4.24->crewai==0.76.9) (3.2.2)\n",
            "Requirement already satisfied: durationpy>=0.7 in /usr/local/lib/python3.10/dist-packages (from kubernetes>=28.1.0->chromadb>=0.4.24->crewai==0.76.9) (0.9)\n",
            "Requirement already satisfied: langchain-experimental>=0.3.0 in /usr/local/lib/python3.10/dist-packages (from langchain-cohere<0.4.0,>=0.3.0->embedchain>=0.1.114->crewai_tools==0.13.4) (0.3.3)\n",
            "Requirement already satisfied: pandas>=1.4.3 in /usr/local/lib/python3.10/dist-packages (from langchain-cohere<0.4.0,>=0.3.0->embedchain>=0.1.114->crewai_tools==0.13.4) (2.2.2)\n",
            "Requirement already satisfied: tabulate<0.10.0,>=0.9.0 in /usr/local/lib/python3.10/dist-packages (from langchain-cohere<0.4.0,>=0.3.0->embedchain>=0.1.114->crewai_tools==0.13.4) (0.9.0)\n",
            "Requirement already satisfied: pytz<2025.0,>=2024.1 in /usr/local/lib/python3.10/dist-packages (from mem0ai<0.2.0,>=0.1.29->embedchain>=0.1.114->crewai_tools==0.13.4) (2024.2)\n",
            "Requirement already satisfied: qdrant-client<2.0.0,>=1.9.1 in /usr/local/lib/python3.10/dist-packages (from mem0ai<0.2.0,>=0.1.29->embedchain>=0.1.114->crewai_tools==0.13.4) (1.12.1)\n",
            "Requirement already satisfied: coloredlogs in /usr/local/lib/python3.10/dist-packages (from onnxruntime>=1.14.1->chromadb>=0.4.24->crewai==0.76.9) (15.0.1)\n",
            "Requirement already satisfied: flatbuffers in /usr/local/lib/python3.10/dist-packages (from onnxruntime>=1.14.1->chromadb>=0.4.24->crewai==0.76.9) (24.3.25)\n",
            "Requirement already satisfied: sympy in /usr/local/lib/python3.10/dist-packages (from onnxruntime>=1.14.1->chromadb>=0.4.24->crewai==0.76.9) (1.13.1)\n",
            "Requirement already satisfied: opentelemetry-instrumentation-asgi==0.49b2 in /usr/local/lib/python3.10/dist-packages (from opentelemetry-instrumentation-fastapi>=0.41b0->chromadb>=0.4.24->crewai==0.76.9) (0.49b2)\n",
            "Requirement already satisfied: opentelemetry-instrumentation==0.49b2 in /usr/local/lib/python3.10/dist-packages (from opentelemetry-instrumentation-fastapi>=0.41b0->chromadb>=0.4.24->crewai==0.76.9) (0.49b2)\n",
            "Requirement already satisfied: opentelemetry-util-http==0.49b2 in /usr/local/lib/python3.10/dist-packages (from opentelemetry-instrumentation-fastapi>=0.41b0->chromadb>=0.4.24->crewai==0.76.9) (0.49b2)\n",
            "Requirement already satisfied: asgiref~=3.0 in /usr/local/lib/python3.10/dist-packages (from opentelemetry-instrumentation-asgi==0.49b2->opentelemetry-instrumentation-fastapi>=0.41b0->chromadb>=0.4.24->crewai==0.76.9) (3.8.1)\n",
            "Requirement already satisfied: monotonic>=1.5 in /usr/local/lib/python3.10/dist-packages (from posthog>=2.4.0->chromadb>=0.4.24->crewai==0.76.9) (1.6)\n",
            "Requirement already satisfied: backoff>=1.10.0 in /usr/local/lib/python3.10/dist-packages (from posthog>=2.4.0->chromadb>=0.4.24->crewai==0.76.9) (2.2.1)\n",
            "Requirement already satisfied: markdown-it-py>=2.2.0 in /usr/local/lib/python3.10/dist-packages (from rich>=10.11.0->chromadb>=0.4.24->crewai==0.76.9) (3.0.0)\n",
            "Requirement already satisfied: huggingface-hub<1.0,>=0.16.4 in /usr/local/lib/python3.10/dist-packages (from tokenizers>=0.13.2->chromadb>=0.4.24->crewai==0.76.9) (0.26.2)\n",
            "Requirement already satisfied: sortedcontainers in /usr/local/lib/python3.10/dist-packages (from trio~=0.17->selenium>=4.18.1->crewai_tools==0.13.4) (2.4.0)\n",
            "Requirement already satisfied: outcome in /usr/local/lib/python3.10/dist-packages (from trio~=0.17->selenium>=4.18.1->crewai_tools==0.13.4) (1.3.0.post0)\n",
            "Requirement already satisfied: wsproto>=0.14 in /usr/local/lib/python3.10/dist-packages (from trio-websocket~=0.9->selenium>=4.18.1->crewai_tools==0.13.4) (1.2.0)\n",
            "Requirement already satisfied: shellingham>=1.3.0 in /usr/local/lib/python3.10/dist-packages (from typer>=0.9.0->chromadb>=0.4.24->crewai==0.76.9) (1.5.4)\n",
            "Requirement already satisfied: mypy-extensions>=0.3.0 in /usr/local/lib/python3.10/dist-packages (from typing-inspect<1,>=0.4.0->dataclasses-json<0.7,>=0.5.7->langchain_community==0.3.5) (1.0.0)\n",
            "Requirement already satisfied: pysocks!=1.5.7,<2.0,>=1.5.6 in /usr/local/lib/python3.10/dist-packages (from urllib3[socks]<3,>=1.26->selenium>=4.18.1->crewai_tools==0.13.4) (1.7.1)\n",
            "Requirement already satisfied: httptools>=0.5.0 in /usr/local/lib/python3.10/dist-packages (from uvicorn[standard]>=0.18.3->chromadb>=0.4.24->crewai==0.76.9) (0.6.4)\n",
            "Requirement already satisfied: uvloop!=0.15.0,!=0.15.1,>=0.14.0 in /usr/local/lib/python3.10/dist-packages (from uvicorn[standard]>=0.18.3->chromadb>=0.4.24->crewai==0.76.9) (0.21.0)\n",
            "Requirement already satisfied: watchfiles>=0.13 in /usr/local/lib/python3.10/dist-packages (from uvicorn[standard]>=0.18.3->chromadb>=0.4.24->crewai==0.76.9) (0.24.0)\n",
            "Requirement already satisfied: websockets>=10.4 in /usr/local/lib/python3.10/dist-packages (from uvicorn[standard]>=0.18.3->chromadb>=0.4.24->crewai==0.76.9) (14.1)\n",
            "Requirement already satisfied: pycparser in /usr/local/lib/python3.10/dist-packages (from cffi>=1.12->cryptography<44.0.0,>=43.0.1->auth0-python>=4.7.1->crewai==0.76.9) (2.22)\n",
            "Requirement already satisfied: grpcio-status<2.0.dev0,>=1.33.2 in /usr/local/lib/python3.10/dist-packages (from google-api-core[grpc]!=2.0.*,!=2.1.*,!=2.2.*,!=2.3.*,!=2.4.*,!=2.5.*,!=2.6.*,!=2.7.*,<3.0.0dev,>=1.34.1->google-cloud-aiplatform<2.0.0,>=1.26.1->embedchain>=0.1.114->crewai_tools==0.13.4) (1.62.3)\n",
            "Requirement already satisfied: pyasn1-modules>=0.2.1 in /usr/local/lib/python3.10/dist-packages (from google-auth<3.0.0dev,>=2.14.1->google-cloud-aiplatform<2.0.0,>=1.26.1->embedchain>=0.1.114->crewai_tools==0.13.4) (0.4.1)\n",
            "Requirement already satisfied: rsa<5,>=3.1.4 in /usr/local/lib/python3.10/dist-packages (from google-auth<3.0.0dev,>=2.14.1->google-cloud-aiplatform<2.0.0,>=1.26.1->embedchain>=0.1.114->crewai_tools==0.13.4) (4.9)\n",
            "Requirement already satisfied: google-cloud-core<3.0.0dev,>=1.6.0 in /usr/local/lib/python3.10/dist-packages (from google-cloud-bigquery!=3.20.0,<4.0.0dev,>=1.15.0->google-cloud-aiplatform<2.0.0,>=1.26.1->embedchain>=0.1.114->crewai_tools==0.13.4) (2.4.1)\n",
            "Requirement already satisfied: google-resumable-media<3.0dev,>=0.6.0 in /usr/local/lib/python3.10/dist-packages (from google-cloud-bigquery!=3.20.0,<4.0.0dev,>=1.15.0->google-cloud-aiplatform<2.0.0,>=1.26.1->embedchain>=0.1.114->crewai_tools==0.13.4) (2.7.2)\n",
            "Requirement already satisfied: grpc-google-iam-v1<1.0.0dev,>=0.12.4 in /usr/local/lib/python3.10/dist-packages (from google-cloud-resource-manager<3.0.0dev,>=1.3.3->google-cloud-aiplatform<2.0.0,>=1.26.1->embedchain>=0.1.114->crewai_tools==0.13.4) (0.13.1)\n",
            "Requirement already satisfied: filelock in /usr/local/lib/python3.10/dist-packages (from huggingface-hub<1.0,>=0.16.4->tokenizers>=0.13.2->chromadb>=0.4.24->crewai==0.76.9) (3.16.1)\n",
            "Requirement already satisfied: fsspec>=2023.5.0 in /usr/local/lib/python3.10/dist-packages (from huggingface-hub<1.0,>=0.16.4->tokenizers>=0.13.2->chromadb>=0.4.24->crewai==0.76.9) (2024.10.0)\n",
            "Requirement already satisfied: parso<0.9.0,>=0.8.4 in /usr/local/lib/python3.10/dist-packages (from jedi>=0.16->ipython>=5.3.0->pyvis>=0.3.2->crewai==0.76.9) (0.8.4)\n",
            "Requirement already satisfied: mdurl~=0.1 in /usr/local/lib/python3.10/dist-packages (from markdown-it-py>=2.2.0->rich>=10.11.0->chromadb>=0.4.24->crewai==0.76.9) (0.1.2)\n",
            "Requirement already satisfied: tzdata>=2022.7 in /usr/local/lib/python3.10/dist-packages (from pandas>=1.4.3->langchain-cohere<0.4.0,>=0.3.0->embedchain>=0.1.114->crewai_tools==0.13.4) (2024.2)\n",
            "Requirement already satisfied: ptyprocess>=0.5 in /usr/local/lib/python3.10/dist-packages (from pexpect>4.3->ipython>=5.3.0->pyvis>=0.3.2->crewai==0.76.9) (0.7.0)\n",
            "Requirement already satisfied: wcwidth in /usr/local/lib/python3.10/dist-packages (from prompt-toolkit!=3.0.0,!=3.0.1,<3.1.0,>=2.0.0->ipython>=5.3.0->pyvis>=0.3.2->crewai==0.76.9) (0.2.13)\n",
            "Requirement already satisfied: grpcio-tools>=1.41.0 in /usr/local/lib/python3.10/dist-packages (from qdrant-client<2.0.0,>=1.9.1->mem0ai<0.2.0,>=0.1.29->embedchain>=0.1.114->crewai_tools==0.13.4) (1.68.0)\n",
            "Requirement already satisfied: portalocker<3.0.0,>=2.7.0 in /usr/local/lib/python3.10/dist-packages (from qdrant-client<2.0.0,>=1.9.1->mem0ai<0.2.0,>=0.1.29->embedchain>=0.1.114->crewai_tools==0.13.4) (2.10.1)\n",
            "Requirement already satisfied: humanfriendly>=9.1 in /usr/local/lib/python3.10/dist-packages (from coloredlogs->onnxruntime>=1.14.1->chromadb>=0.4.24->crewai==0.76.9) (10.0)\n",
            "Requirement already satisfied: mpmath<1.4,>=1.1.0 in /usr/local/lib/python3.10/dist-packages (from sympy->onnxruntime>=1.14.1->chromadb>=0.4.24->crewai==0.76.9) (1.3.0)\n",
            "Requirement already satisfied: google-crc32c<2.0dev,>=1.0 in /usr/local/lib/python3.10/dist-packages (from google-resumable-media<3.0dev,>=0.6.0->google-cloud-bigquery!=3.20.0,<4.0.0dev,>=1.15.0->google-cloud-aiplatform<2.0.0,>=1.26.1->embedchain>=0.1.114->crewai_tools==0.13.4) (1.6.0)\n",
            "Requirement already satisfied: h2<5,>=3 in /usr/local/lib/python3.10/dist-packages (from httpx[http2]>=0.20.0->qdrant-client<2.0.0,>=1.9.1->mem0ai<0.2.0,>=0.1.29->embedchain>=0.1.114->crewai_tools==0.13.4) (4.1.0)\n",
            "Requirement already satisfied: pyasn1<0.7.0,>=0.4.6 in /usr/local/lib/python3.10/dist-packages (from pyasn1-modules>=0.2.1->google-auth<3.0.0dev,>=2.14.1->google-cloud-aiplatform<2.0.0,>=1.26.1->embedchain>=0.1.114->crewai_tools==0.13.4) (0.6.1)\n",
            "Requirement already satisfied: hyperframe<7,>=6.0 in /usr/local/lib/python3.10/dist-packages (from h2<5,>=3->httpx[http2]>=0.20.0->qdrant-client<2.0.0,>=1.9.1->mem0ai<0.2.0,>=0.1.29->embedchain>=0.1.114->crewai_tools==0.13.4) (6.0.1)\n",
            "Requirement already satisfied: hpack<5,>=4.0 in /usr/local/lib/python3.10/dist-packages (from h2<5,>=3->httpx[http2]>=0.20.0->qdrant-client<2.0.0,>=1.9.1->mem0ai<0.2.0,>=0.1.29->embedchain>=0.1.114->crewai_tools==0.13.4) (4.0.0)\n"
          ]
        }
      ],
      "source": [
        "!pip install crewai==0.76.9 crewai_tools==0.13.4 langchain_community==0.3.5"
      ]
    },
    {
      "cell_type": "code",
      "execution_count": 64,
      "metadata": {
        "collapsed": true,
        "id": "iP3Dq4cOBlpw"
      },
      "outputs": [],
      "source": [
        "#!pip install CrewAI crewai_tools langchain_community"
      ]
    },
    {
      "cell_type": "code",
      "execution_count": 65,
      "metadata": {
        "collapsed": true,
        "id": "Y-XsXo9YCa-C"
      },
      "outputs": [],
      "source": [
        "#!pip install pandas openpyxl"
      ]
    },
    {
      "cell_type": "code",
      "source": [
        "!pip install langchain-groq"
      ],
      "metadata": {
        "colab": {
          "base_uri": "https://localhost:8080/"
        },
        "id": "ltjVe7aCH_VR",
        "outputId": "81696090-2f35-41aa-a1fd-bf7bc8ece23d",
        "collapsed": true
      },
      "execution_count": 66,
      "outputs": [
        {
          "output_type": "stream",
          "name": "stdout",
          "text": [
            "Requirement already satisfied: langchain-groq in /usr/local/lib/python3.10/dist-packages (0.2.1)\n",
            "Requirement already satisfied: groq<1,>=0.4.1 in /usr/local/lib/python3.10/dist-packages (from langchain-groq) (0.12.0)\n",
            "Requirement already satisfied: langchain-core<0.4.0,>=0.3.15 in /usr/local/lib/python3.10/dist-packages (from langchain-groq) (0.3.18)\n",
            "Requirement already satisfied: anyio<5,>=3.5.0 in /usr/local/lib/python3.10/dist-packages (from groq<1,>=0.4.1->langchain-groq) (3.7.1)\n",
            "Requirement already satisfied: distro<2,>=1.7.0 in /usr/local/lib/python3.10/dist-packages (from groq<1,>=0.4.1->langchain-groq) (1.9.0)\n",
            "Requirement already satisfied: httpx<1,>=0.23.0 in /usr/local/lib/python3.10/dist-packages (from groq<1,>=0.4.1->langchain-groq) (0.27.2)\n",
            "Requirement already satisfied: pydantic<3,>=1.9.0 in /usr/local/lib/python3.10/dist-packages (from groq<1,>=0.4.1->langchain-groq) (2.9.2)\n",
            "Requirement already satisfied: sniffio in /usr/local/lib/python3.10/dist-packages (from groq<1,>=0.4.1->langchain-groq) (1.3.1)\n",
            "Requirement already satisfied: typing-extensions<5,>=4.7 in /usr/local/lib/python3.10/dist-packages (from groq<1,>=0.4.1->langchain-groq) (4.12.2)\n",
            "Requirement already satisfied: PyYAML>=5.3 in /usr/local/lib/python3.10/dist-packages (from langchain-core<0.4.0,>=0.3.15->langchain-groq) (6.0.2)\n",
            "Requirement already satisfied: jsonpatch<2.0,>=1.33 in /usr/local/lib/python3.10/dist-packages (from langchain-core<0.4.0,>=0.3.15->langchain-groq) (1.33)\n",
            "Requirement already satisfied: langsmith<0.2.0,>=0.1.125 in /usr/local/lib/python3.10/dist-packages (from langchain-core<0.4.0,>=0.3.15->langchain-groq) (0.1.143)\n",
            "Requirement already satisfied: packaging<25,>=23.2 in /usr/local/lib/python3.10/dist-packages (from langchain-core<0.4.0,>=0.3.15->langchain-groq) (24.2)\n",
            "Requirement already satisfied: tenacity!=8.4.0,<10.0.0,>=8.1.0 in /usr/local/lib/python3.10/dist-packages (from langchain-core<0.4.0,>=0.3.15->langchain-groq) (9.0.0)\n",
            "Requirement already satisfied: idna>=2.8 in /usr/local/lib/python3.10/dist-packages (from anyio<5,>=3.5.0->groq<1,>=0.4.1->langchain-groq) (3.10)\n",
            "Requirement already satisfied: exceptiongroup in /usr/local/lib/python3.10/dist-packages (from anyio<5,>=3.5.0->groq<1,>=0.4.1->langchain-groq) (1.2.2)\n",
            "Requirement already satisfied: certifi in /usr/local/lib/python3.10/dist-packages (from httpx<1,>=0.23.0->groq<1,>=0.4.1->langchain-groq) (2024.8.30)\n",
            "Requirement already satisfied: httpcore==1.* in /usr/local/lib/python3.10/dist-packages (from httpx<1,>=0.23.0->groq<1,>=0.4.1->langchain-groq) (1.0.6)\n",
            "Requirement already satisfied: h11<0.15,>=0.13 in /usr/local/lib/python3.10/dist-packages (from httpcore==1.*->httpx<1,>=0.23.0->groq<1,>=0.4.1->langchain-groq) (0.14.0)\n",
            "Requirement already satisfied: jsonpointer>=1.9 in /usr/local/lib/python3.10/dist-packages (from jsonpatch<2.0,>=1.33->langchain-core<0.4.0,>=0.3.15->langchain-groq) (3.0.0)\n",
            "Requirement already satisfied: orjson<4.0.0,>=3.9.14 in /usr/local/lib/python3.10/dist-packages (from langsmith<0.2.0,>=0.1.125->langchain-core<0.4.0,>=0.3.15->langchain-groq) (3.10.11)\n",
            "Requirement already satisfied: requests<3,>=2 in /usr/local/lib/python3.10/dist-packages (from langsmith<0.2.0,>=0.1.125->langchain-core<0.4.0,>=0.3.15->langchain-groq) (2.32.3)\n",
            "Requirement already satisfied: requests-toolbelt<2.0.0,>=1.0.0 in /usr/local/lib/python3.10/dist-packages (from langsmith<0.2.0,>=0.1.125->langchain-core<0.4.0,>=0.3.15->langchain-groq) (1.0.0)\n",
            "Requirement already satisfied: annotated-types>=0.6.0 in /usr/local/lib/python3.10/dist-packages (from pydantic<3,>=1.9.0->groq<1,>=0.4.1->langchain-groq) (0.7.0)\n",
            "Requirement already satisfied: pydantic-core==2.23.4 in /usr/local/lib/python3.10/dist-packages (from pydantic<3,>=1.9.0->groq<1,>=0.4.1->langchain-groq) (2.23.4)\n",
            "Requirement already satisfied: charset-normalizer<4,>=2 in /usr/local/lib/python3.10/dist-packages (from requests<3,>=2->langsmith<0.2.0,>=0.1.125->langchain-core<0.4.0,>=0.3.15->langchain-groq) (3.4.0)\n",
            "Requirement already satisfied: urllib3<3,>=1.21.1 in /usr/local/lib/python3.10/dist-packages (from requests<3,>=2->langsmith<0.2.0,>=0.1.125->langchain-core<0.4.0,>=0.3.15->langchain-groq) (2.2.3)\n"
          ]
        }
      ]
    },
    {
      "cell_type": "code",
      "execution_count": 67,
      "metadata": {
        "id": "EwZrSdPed_6M"
      },
      "outputs": [],
      "source": [
        "# Warning control\n",
        "import warnings\n",
        "warnings.filterwarnings('ignore')"
      ]
    },
    {
      "cell_type": "code",
      "source": [
        "!pip install langchain_huggingface"
      ],
      "metadata": {
        "colab": {
          "base_uri": "https://localhost:8080/"
        },
        "collapsed": true,
        "id": "cRlaH0k7zI-H",
        "outputId": "4b40bbbd-1347-433d-f0a1-fc752498be51"
      },
      "execution_count": 68,
      "outputs": [
        {
          "output_type": "stream",
          "name": "stdout",
          "text": [
            "Requirement already satisfied: langchain_huggingface in /usr/local/lib/python3.10/dist-packages (0.1.2)\n",
            "Requirement already satisfied: huggingface-hub>=0.23.0 in /usr/local/lib/python3.10/dist-packages (from langchain_huggingface) (0.26.2)\n",
            "Requirement already satisfied: langchain-core<0.4.0,>=0.3.15 in /usr/local/lib/python3.10/dist-packages (from langchain_huggingface) (0.3.18)\n",
            "Requirement already satisfied: sentence-transformers>=2.6.0 in /usr/local/lib/python3.10/dist-packages (from langchain_huggingface) (3.2.1)\n",
            "Requirement already satisfied: tokenizers>=0.19.1 in /usr/local/lib/python3.10/dist-packages (from langchain_huggingface) (0.20.3)\n",
            "Requirement already satisfied: transformers>=4.39.0 in /usr/local/lib/python3.10/dist-packages (from langchain_huggingface) (4.46.2)\n",
            "Requirement already satisfied: filelock in /usr/local/lib/python3.10/dist-packages (from huggingface-hub>=0.23.0->langchain_huggingface) (3.16.1)\n",
            "Requirement already satisfied: fsspec>=2023.5.0 in /usr/local/lib/python3.10/dist-packages (from huggingface-hub>=0.23.0->langchain_huggingface) (2024.10.0)\n",
            "Requirement already satisfied: packaging>=20.9 in /usr/local/lib/python3.10/dist-packages (from huggingface-hub>=0.23.0->langchain_huggingface) (24.2)\n",
            "Requirement already satisfied: pyyaml>=5.1 in /usr/local/lib/python3.10/dist-packages (from huggingface-hub>=0.23.0->langchain_huggingface) (6.0.2)\n",
            "Requirement already satisfied: requests in /usr/local/lib/python3.10/dist-packages (from huggingface-hub>=0.23.0->langchain_huggingface) (2.32.3)\n",
            "Requirement already satisfied: tqdm>=4.42.1 in /usr/local/lib/python3.10/dist-packages (from huggingface-hub>=0.23.0->langchain_huggingface) (4.66.6)\n",
            "Requirement already satisfied: typing-extensions>=3.7.4.3 in /usr/local/lib/python3.10/dist-packages (from huggingface-hub>=0.23.0->langchain_huggingface) (4.12.2)\n",
            "Requirement already satisfied: jsonpatch<2.0,>=1.33 in /usr/local/lib/python3.10/dist-packages (from langchain-core<0.4.0,>=0.3.15->langchain_huggingface) (1.33)\n",
            "Requirement already satisfied: langsmith<0.2.0,>=0.1.125 in /usr/local/lib/python3.10/dist-packages (from langchain-core<0.4.0,>=0.3.15->langchain_huggingface) (0.1.143)\n",
            "Requirement already satisfied: pydantic<3.0.0,>=2.5.2 in /usr/local/lib/python3.10/dist-packages (from langchain-core<0.4.0,>=0.3.15->langchain_huggingface) (2.9.2)\n",
            "Requirement already satisfied: tenacity!=8.4.0,<10.0.0,>=8.1.0 in /usr/local/lib/python3.10/dist-packages (from langchain-core<0.4.0,>=0.3.15->langchain_huggingface) (9.0.0)\n",
            "Requirement already satisfied: torch>=1.11.0 in /usr/local/lib/python3.10/dist-packages (from sentence-transformers>=2.6.0->langchain_huggingface) (2.5.1+cu121)\n",
            "Requirement already satisfied: scikit-learn in /usr/local/lib/python3.10/dist-packages (from sentence-transformers>=2.6.0->langchain_huggingface) (1.5.2)\n",
            "Requirement already satisfied: scipy in /usr/local/lib/python3.10/dist-packages (from sentence-transformers>=2.6.0->langchain_huggingface) (1.13.1)\n",
            "Requirement already satisfied: Pillow in /usr/local/lib/python3.10/dist-packages (from sentence-transformers>=2.6.0->langchain_huggingface) (11.0.0)\n",
            "Requirement already satisfied: numpy>=1.17 in /usr/local/lib/python3.10/dist-packages (from transformers>=4.39.0->langchain_huggingface) (1.26.4)\n",
            "Requirement already satisfied: regex!=2019.12.17 in /usr/local/lib/python3.10/dist-packages (from transformers>=4.39.0->langchain_huggingface) (2024.9.11)\n",
            "Requirement already satisfied: safetensors>=0.4.1 in /usr/local/lib/python3.10/dist-packages (from transformers>=4.39.0->langchain_huggingface) (0.4.5)\n",
            "Requirement already satisfied: jsonpointer>=1.9 in /usr/local/lib/python3.10/dist-packages (from jsonpatch<2.0,>=1.33->langchain-core<0.4.0,>=0.3.15->langchain_huggingface) (3.0.0)\n",
            "Requirement already satisfied: httpx<1,>=0.23.0 in /usr/local/lib/python3.10/dist-packages (from langsmith<0.2.0,>=0.1.125->langchain-core<0.4.0,>=0.3.15->langchain_huggingface) (0.27.2)\n",
            "Requirement already satisfied: orjson<4.0.0,>=3.9.14 in /usr/local/lib/python3.10/dist-packages (from langsmith<0.2.0,>=0.1.125->langchain-core<0.4.0,>=0.3.15->langchain_huggingface) (3.10.11)\n",
            "Requirement already satisfied: requests-toolbelt<2.0.0,>=1.0.0 in /usr/local/lib/python3.10/dist-packages (from langsmith<0.2.0,>=0.1.125->langchain-core<0.4.0,>=0.3.15->langchain_huggingface) (1.0.0)\n",
            "Requirement already satisfied: annotated-types>=0.6.0 in /usr/local/lib/python3.10/dist-packages (from pydantic<3.0.0,>=2.5.2->langchain-core<0.4.0,>=0.3.15->langchain_huggingface) (0.7.0)\n",
            "Requirement already satisfied: pydantic-core==2.23.4 in /usr/local/lib/python3.10/dist-packages (from pydantic<3.0.0,>=2.5.2->langchain-core<0.4.0,>=0.3.15->langchain_huggingface) (2.23.4)\n",
            "Requirement already satisfied: charset-normalizer<4,>=2 in /usr/local/lib/python3.10/dist-packages (from requests->huggingface-hub>=0.23.0->langchain_huggingface) (3.4.0)\n",
            "Requirement already satisfied: idna<4,>=2.5 in /usr/local/lib/python3.10/dist-packages (from requests->huggingface-hub>=0.23.0->langchain_huggingface) (3.10)\n",
            "Requirement already satisfied: urllib3<3,>=1.21.1 in /usr/local/lib/python3.10/dist-packages (from requests->huggingface-hub>=0.23.0->langchain_huggingface) (2.2.3)\n",
            "Requirement already satisfied: certifi>=2017.4.17 in /usr/local/lib/python3.10/dist-packages (from requests->huggingface-hub>=0.23.0->langchain_huggingface) (2024.8.30)\n",
            "Requirement already satisfied: networkx in /usr/local/lib/python3.10/dist-packages (from torch>=1.11.0->sentence-transformers>=2.6.0->langchain_huggingface) (3.4.2)\n",
            "Requirement already satisfied: jinja2 in /usr/local/lib/python3.10/dist-packages (from torch>=1.11.0->sentence-transformers>=2.6.0->langchain_huggingface) (3.1.4)\n",
            "Requirement already satisfied: sympy==1.13.1 in /usr/local/lib/python3.10/dist-packages (from torch>=1.11.0->sentence-transformers>=2.6.0->langchain_huggingface) (1.13.1)\n",
            "Requirement already satisfied: mpmath<1.4,>=1.1.0 in /usr/local/lib/python3.10/dist-packages (from sympy==1.13.1->torch>=1.11.0->sentence-transformers>=2.6.0->langchain_huggingface) (1.3.0)\n",
            "Requirement already satisfied: joblib>=1.2.0 in /usr/local/lib/python3.10/dist-packages (from scikit-learn->sentence-transformers>=2.6.0->langchain_huggingface) (1.4.2)\n",
            "Requirement already satisfied: threadpoolctl>=3.1.0 in /usr/local/lib/python3.10/dist-packages (from scikit-learn->sentence-transformers>=2.6.0->langchain_huggingface) (3.5.0)\n",
            "Requirement already satisfied: anyio in /usr/local/lib/python3.10/dist-packages (from httpx<1,>=0.23.0->langsmith<0.2.0,>=0.1.125->langchain-core<0.4.0,>=0.3.15->langchain_huggingface) (3.7.1)\n",
            "Requirement already satisfied: httpcore==1.* in /usr/local/lib/python3.10/dist-packages (from httpx<1,>=0.23.0->langsmith<0.2.0,>=0.1.125->langchain-core<0.4.0,>=0.3.15->langchain_huggingface) (1.0.6)\n",
            "Requirement already satisfied: sniffio in /usr/local/lib/python3.10/dist-packages (from httpx<1,>=0.23.0->langsmith<0.2.0,>=0.1.125->langchain-core<0.4.0,>=0.3.15->langchain_huggingface) (1.3.1)\n",
            "Requirement already satisfied: h11<0.15,>=0.13 in /usr/local/lib/python3.10/dist-packages (from httpcore==1.*->httpx<1,>=0.23.0->langsmith<0.2.0,>=0.1.125->langchain-core<0.4.0,>=0.3.15->langchain_huggingface) (0.14.0)\n",
            "Requirement already satisfied: MarkupSafe>=2.0 in /usr/local/lib/python3.10/dist-packages (from jinja2->torch>=1.11.0->sentence-transformers>=2.6.0->langchain_huggingface) (3.0.2)\n",
            "Requirement already satisfied: exceptiongroup in /usr/local/lib/python3.10/dist-packages (from anyio->httpx<1,>=0.23.0->langsmith<0.2.0,>=0.1.125->langchain-core<0.4.0,>=0.3.15->langchain_huggingface) (1.2.2)\n"
          ]
        }
      ]
    },
    {
      "cell_type": "code",
      "execution_count": 69,
      "metadata": {
        "id": "5buKQOIT9ZyO"
      },
      "outputs": [],
      "source": [
        "import json\n",
        "from crewai import Agent, Task, Crew, Process\n",
        "from crewai_tools  import tool\n",
        "import os\n",
        "from crewai_tools import PDFSearchTool\n",
        "from langchain_community.tools.tavily_search import TavilySearchResults"
      ]
    },
    {
      "cell_type": "code",
      "execution_count": 70,
      "metadata": {
        "id": "tGt6JOL1UdGr",
        "collapsed": true
      },
      "outputs": [],
      "source": [
        "import os\n",
        "from google.colab import userdata\n",
        "\n",
        "\n",
        "# os.environ[\"GROQ_API_KEY\"] = userdata.get('GROK_LLAMA3')\n",
        "os.environ[\"SERPER_API_KEY\"] = userdata.get('SERPER_API_KEY')\n",
        "os.environ[\"OPENAI_API_KEY\"] = \"placeholder_key\"\n",
        "\n",
        "\n",
        "\n",
        "from google.colab import userdata\n",
        "openai_api_key = userdata.get('OPENAI_API_KEY')\n",
        "serper_api_key = userdata.get('SERPER_API_KEY')\n",
        "\n",
        "\n",
        "os.environ[\"OPENAI_API_KEY\"] = userdata.get('OPENAI_API_KEY')\n",
        "os.environ[\"OPENAI_MODEL_NAME\"] = 'gpt-4o-mini'\n",
        "os.environ[\"SERPER_API_KEY\"] = userdata.get('SERPER_API_KEY')\n"
      ]
    },
    {
      "cell_type": "markdown",
      "source": [
        "# Tools"
      ],
      "metadata": {
        "id": "VlCuaGP_2Hsu"
      }
    },
    {
      "cell_type": "code",
      "source": [
        "# @title PDF Read Tool\n",
        "\n",
        "rag_tool = PDFSearchTool(\n",
        "    pdf='/content/Arabic_ RAG sampels Dataset.pdf',\n",
        "    config=dict(\n",
        "        llm=dict(\n",
        "            provider=\"openai\",  # Using OpenAI instead of Groq\n",
        "            config=dict(\n",
        "                model=os.environ.get(\"gpt-4o-mini\", \"gpt-4\"),  # Fetching model name from environment variable\n",
        "                temperature=0.5,  # Optional: Adjust for response variability\n",
        "                top_p=1,  # Optional: Adjust for nucleus sampling\n",
        "                stream=True,  # Optional: Enables streaming responses\n",
        "            ),\n",
        "        ),\n",
        "        embedder=dict(\n",
        "            provider=\"huggingface\",  # Keeping Hugging Face for embeddings\n",
        "            config=dict(\n",
        "                model=\"BAAI/bge-small-en-v1.5\",  # Specify the embedding model\n",
        "                # task_type=\"retrieval_document\",  # Optional, uncomment if required\n",
        "                # title=\"Embeddings\",  # Optional, uncomment if required\n",
        "            ),\n",
        "        ),\n",
        "    )\n",
        ")"
      ],
      "metadata": {
        "id": "BUa-pjnEvMKQ"
      },
      "execution_count": 71,
      "outputs": []
    },
    {
      "cell_type": "code",
      "source": [
        "# @title TAVILY for internet sarch\n",
        "os.environ['TAVILY_API_KEY'] = userdata.get('TAVILY_API_KEY')\n",
        "web_search_tool = TavilySearchResults(k=3)"
      ],
      "metadata": {
        "id": "2WwhEWY8vQzM"
      },
      "execution_count": 72,
      "outputs": []
    },
    {
      "cell_type": "code",
      "source": [
        "rag_tool.run(\"hi what this document about\")"
      ],
      "metadata": {
        "colab": {
          "base_uri": "https://localhost:8080/",
          "height": 122
        },
        "id": "mygWuvwnzahy",
        "outputId": "885609a7-5af6-48cd-b2f6-15d92d0d3cc9"
      },
      "execution_count": 73,
      "outputs": [
        {
          "output_type": "stream",
          "name": "stdout",
          "text": [
            "Using Tool: Search a PDF's content\n"
          ]
        },
        {
          "output_type": "execute_result",
          "data": {
            "text/plain": [
              "'Relevant Content:\\nفترة التداول، وذلك حسب الإجراء الآتي: 1. يتقدم المصدر من خلال ممثليه المعينين أمام السوق بطلب تعليق التداول المؤقت لأوراقه المالية المدرجة قبل نصف ساعة على الأقل من وقت بداية التعليق الذي سيحدده المصدر، ويجب أن يحتوي الطلب على الآتي: ○ وقت بداية التعليق ○ مدة التعليق ○ مبررات طلب التعليق\\n\\nالمؤقت بناء على طلب المصدر 2. عند عدم التزام المصدر بالمواعيد المحددة للإفصاح عن معلوماته المالية الدورية وفق اللوائح التنفيذية ذات العلاقة 3. عند تضمن تقرير مراجع الحسابات على القوائم المالية للمصدر رأي معارض أو امتناع عن إبداء الرأي 4. عند صدور قرار عن الجمعية العامة غير العادية للمصدر بتخفيض رأس ماله وذلك ليومي التداول التاليين لصدور القرار ب. لا تخلّ هذه الإجراءات بالأحكام الواردة في نظام السوق المالية ولوائحه التنفيذية وقواعد السوق والأنظمة الأخرى ذات العلاقة. ج. لا يحول اتخاذ أي إجراء وارد في هذه الإجراءات دون إيقاع الجزاءات المقررة على المصدر في حال خالف أي من أحكام نظام السوق المالية ولوائحه التنفيذية وقواعد السوق. إجراءات تعليق تداول الأوراق المالية المدرجة أولاً: تعليق تداول الأوراق المالية المدرجة بناءً على طلب المصدر وفقاً للمادة الثامنة والثلاثين من قواعد الإدراج، يجوز للمصدر أن يطلب من السوق تعليق تداول أوراقه المالية مؤقتاً عند وقوع حدث خلال فترة التداول يجب الإفصاح عنه من دون تأخير بموجب النظام أو لوائحه التنفيذية أو قواعد السوق ولا يستطيع المصدر تأمين سريته حتى نهاية\\n\\nالعلاقة، تقوم السوق بتعليق تداول الأوراق المالية لجلسة تداول واحدة تلي انتهاء المهلة النظامية وتعلن عن سبب التعليق مع التوضيح في الإعلان بانطباق هذه الإجراءات على المصدر. 2. يجب على المصدر الإعلان عن عدم تمكنه من نشر معلوماته المالية الدورية قبل نهاية المهلة المحددة في اللوائح التنفيذية ذات العلاقة على موقع السوق المالية السعودية (تداول) مع التوضيح في الإعلان بانطباق هذه الإجراءات عليه. 3. يستأنف تداول الأوراق المالية ذات العلاقة لمدة عشرين جلسة تداول تلي الجلسة التي تم تعليق تداولها فيها، ويجب على المصدر خلال هذه المدة نشر معلوماته المالية الدورية. 4. في حال لم ينشر المصدر معلوماته المالية خلال المدة المشار إليها في الفقرة3) أعلاه، تقوم السوق بالإعلان عن إعادة تعليق الأوراق المالية، إلى أن يقوم المصدر بالإعلان عن نتائجه المالية الدورية. 5. تقوم السوق برفع التعليق بعد مرور جلسة تداول واحدة تلي الإعلان عن نتائجه المالية الدورية، وتقوم بالإعلان عن ذلك 6. في حال تجاوز تعليق الأوراق المالية شهراً واحداً فللمصدر التقدم بطلب تداول أوراقه المالية خارج المنصة 7. في حال استمر تعليق تداول'"
            ],
            "application/vnd.google.colaboratory.intrinsic+json": {
              "type": "string"
            }
          },
          "metadata": {},
          "execution_count": 73
        }
      ]
    },
    {
      "cell_type": "code",
      "source": [
        "web_search_tool.run(\"what is Navid.sa\")"
      ],
      "metadata": {
        "colab": {
          "base_uri": "https://localhost:8080/"
        },
        "id": "bJUxhPrzzeR0",
        "outputId": "7b4e7257-bad6-4695-8172-2a0575d44d48"
      },
      "execution_count": 74,
      "outputs": [
        {
          "output_type": "execute_result",
          "data": {
            "text/plain": [
              "[{'url': 'https://navid.sa/',\n",
              "  'content': 'Navid specializes in providing end-to-end data center solutions to cater to the burgeoning demands of AI and computational workloads. We understand the critical role that robust infrastructure plays in powering AI-driven applications, and thus, we are committed to delivering cutting-edge solutions. Our solutions are designed to optimize'},\n",
              " {'url': 'https://navid.sa/satellite-technology-solutions/',\n",
              "  'content': \"At Navid, we're at the forefront of harnessing the power of Low Earth Orbit (LEO) satellites to revolutionize communication, monitoring, and data analysis. Our satellite technology opens up new horizons for global connectivity, detailed Earth observation, and advanced data analysis, all designed to meet the demands of tomorrow.\"},\n",
              " {'url': 'https://navid.sa/about/',\n",
              "  'content': 'Our Vision. Our vision with Navid is to cultivate broad AI expertise that extends beyond foundational areas and ventures into cutting-edge fields. In domains like Natural Language Processing, Neural Network Architecture, Robotics, AI Hardware Infrastructure, AI Software Infrastructure, and Computer Vision, we aim to pioneer transformative'},\n",
              " {'url': 'https://www.bbc.com/news/business-65675027',\n",
              "  'content': 'Beta Terms By using the Beta Site, you agree that such use is at your own risk and you know that the Beta Site may include known or unknown bugs or errors, that we have no obligation to make this Beta Site available with or without charge for any period of time, nor to make it available at all, and that nothing in these Beta Terms or your use of the Beta Site creates any employment relationship between you and us. \"\\nSports Illustrated accused of AI-written articles\\nTeachers \\'improving work-life balance\\' with AI\\nChildren making AI-generated child abuse images\\nNvidia sued after video call showed \\'stolen\\' data\\nCar firm Valeo alleges the theft of its data was inadvertently revealed during a Microsoft Teams call.\\n \"It is one of many supercomputers - some known publicly, some not - that have been built with Nvidia GPUs for a variety of scientific as well as AI use cases,\" says Ian Buck, general manager and vice president of accelerated computing at Nvidia.\\n Nvidia: The chip maker that became an AI superpower\\nShares in computer chip designer Nvidia have soared over the past week, taking the company\\'s valuation above the one trillion dollar mark.\\n Nvidia pressed its advantage by investing in developing new kinds of GPUs more suited to AI, as well as more software to make it easy to use the technology.\\n'},\n",
              " {'url': 'https://www.nbcnews.com/business/business-news/what-is-nvidia-what-do-they-make-ai-artificial-intelligence-rcna140171',\n",
              "  'content': '“[Nvidia] has become critical to the market’s path forward,” Agati said in an email to NBC News, adding: “In the saying ‘data is the new oil,’ Nvidia continues to prove it is in a league of its own.”\\nRob Wile is a breaking business news reporter for NBC News Digital.\\n Profile\\nSections\\ntv\\nFeatured\\nMore From NBC\\nFollow NBC News\\nnews Alerts\\nThere are no new alerts at this time\\nWhy everyone is suddenly talking about Nvidia, the trillion-dollar company fueling the AI revolution\\n Bloomberg News has called Nvidia’s chips the “workhorse for training AI models,” and PNC Financial Services Group analyst Amanda Agati described Nvidia’s lead in the category last fall, based on its valuation, as a “quasi monopoly.”\\n The business world is increasingly banking on artificial intelligence to be the next big thing, and has found itself turning to one maker of computer chips in particular — Nvidia — to power the revolution.\\n In other words, for the moment, as Nvidia goes, so goes the market, which could be a financial boon for consumers who hold investments in the stock market — whether individually, or through their retirement accounts.\\n'}]"
            ]
          },
          "metadata": {},
          "execution_count": 74
        }
      ]
    },
    {
      "cell_type": "code",
      "source": [
        "web_search_tool.run(\"who is Hamza Shahid whose worked in Navid.SA\")\n"
      ],
      "metadata": {
        "colab": {
          "base_uri": "https://localhost:8080/"
        },
        "id": "h9PcO_H31TCv",
        "outputId": "9ddbc6dc-4138-4e85-8e11-17c5d797490d"
      },
      "execution_count": 75,
      "outputs": [
        {
          "output_type": "execute_result",
          "data": {
            "text/plain": [
              "[{'url': 'https://www.facebook.com/public/Hamza-Shahid/',\n",
              "  'content': 'Hamza Shahid. See Photos. Hamza Shahid (حمزہ شاھد) See Photos. View the profiles of people named Hamza Shahid. Join Facebook to connect with Hamza Shahid and others you may know.'},\n",
              " {'url': 'https://www.linkedin.com/in/hamzashahid',\n",
              "  'content': 'Making Things Work San Francisco, CA. Connect Sean Dillon New York City Metropolitan Area ... Others named Hamza Shahid in United States. Hamza Shahid Edison, NJ. Hamza Shahid'},\n",
              " {'url': 'https://navid.sa/',\n",
              "  'content': \"At Navid, we're at the forefront of harnessing the power of Low Earth Orbit (LEO) satellites to revolutionize communication, monitoring, and data analysis. Our satellite technology opens up new horizons for global connectivity, detailed Earth observation, and advanced data analysis, all designed to meet the demands of tomorrow. How it work.\"},\n",
              " {'url': 'https://www.facebook.com/public/Navid-Hamza/',\n",
              "  'content': 'View the profiles of people named Navid Hamza. Join Facebook to connect with Navid Hamza and others you may know. Facebook gives people the power to'},\n",
              " {'url': 'https://www.linkedin.com/pub/dir/Hamza+/Shahid+/sa-0-السعودية',\n",
              "  'content': 'View the profiles of professionals named \"Hamza Shahid\" on LinkedIn. There are 10+ professionals named \"Hamza Shahid\", who use LinkedIn to exchange information, ideas, and opportunities.'}]"
            ]
          },
          "metadata": {},
          "execution_count": 75
        }
      ]
    },
    {
      "cell_type": "code",
      "source": [
        "web_search_tool.run(\"what is Mullhem that  in Navid.SA\")"
      ],
      "metadata": {
        "colab": {
          "base_uri": "https://localhost:8080/"
        },
        "id": "hl9trnku1orV",
        "outputId": "0bf4b026-5bb1-4e67-c9d2-bbbc23f9aaaf"
      },
      "execution_count": 76,
      "outputs": [
        {
          "output_type": "execute_result",
          "data": {
            "text/plain": [
              "[{'url': 'http://navid.sa/mulhem/',\n",
              "  'content': 'Mulhem. Navid is proud to announce the launch of Mulhem, a groundbreaking artificial intelligence model that marks a significant milestone in the field of AI within the Kingdom of Saudi Arabia.'},\n",
              " {'url': 'https://www.linkedin.com/posts/navidco_ملهم-نفيد-mulhem-activity-7247609183062085632-jltI',\n",
              "  'content': 'For more information: 🌐 navid.sa/contact #LLM #AI #ArtificialIntelligence #AIForBusiness #GenerativeAI #NLP ... Mulheim Rag offers unique features like bilingual capabilities, cultural'},\n",
              " {'url': 'https://navid.sa/',\n",
              "  'content': 'Navid, AI & Infrastructure Solution Provider. Examine the Potential of Infrastructure Connectivity Intelligence Performance Innovation Resilience Security Strategy Insight Ethics With Navid . At Navid, we believe that a key differentiator in an intelligent organization is combining human power with advanced data management and automation technology.'},\n",
              " {'url': 'https://navid.sa/about/',\n",
              "  'content': 'Our Vision Our vision with Navid is to cultivate broad AI expertise that extends beyond foundational areas and ventures into cutting-edge fields.'},\n",
              " {'url': 'https://arxiv.org/abs/2402.15852',\n",
              "  'content': 'Vision-and-language navigation (VLN) stands as a key research problem of Embodied AI, aiming at enabling agents to navigate in unseen environments following linguistic instructions. In this field, generalization is a long-standing challenge, either to out-of-distribution scenes or from Sim to Real. In this paper, we propose NaVid, a video-based large vision language model (VLM), to mitigate'}]"
            ]
          },
          "metadata": {},
          "execution_count": 76
        }
      ]
    },
    {
      "cell_type": "code",
      "source": [
        "@tool\n",
        "def router_tool(question):\n",
        "    \"\"\"Comprehensive Router Function.\"\"\"\n",
        "\n",
        "    # Check if the question contains specific keywords related to vectorstore or document search\n",
        "    if 'vectorstore' in question.lower() or 'embedding' in question.lower():\n",
        "        return 'vectorstore'\n",
        "    elif 'pdf' in question.lower() or 'document' in question.lower() or 'rag' in question.lower():\n",
        "        return 'pdf_search'\n",
        "    else:\n",
        "        return 'web_search'\n"
      ],
      "metadata": {
        "id": "69XSvhn713yy"
      },
      "execution_count": 77,
      "outputs": []
    },
    {
      "cell_type": "markdown",
      "source": [
        "# Agents"
      ],
      "metadata": {
        "id": "ESpVwSj71_wh"
      }
    },
    {
      "cell_type": "code",
      "source": [
        "# @title Router_Agent\n",
        "\n",
        "Router_Agent = Agent(\n",
        "  role='Router',\n",
        "  goal='Route user question to a vectorstore or web search',\n",
        "  backstory=(\n",
        "    \"You are an expert at routing a user question to a vectorstore or web search.\"\n",
        "    \"Use the vectorstore for questions on concept related to Retrieval-Augmented Generation.\"\n",
        "    \"You do not need to be stringent with the keywords in the question related to these topics. Otherwise, use web-search.\"\n",
        "  ),\n",
        "  verbose=True,\n",
        "  allow_delegation=False\n",
        ")\n"
      ],
      "metadata": {
        "id": "m9UUC9WC204a"
      },
      "execution_count": 78,
      "outputs": []
    },
    {
      "cell_type": "code",
      "source": [
        "# @title Retriever Agent\n",
        "Retriever_Agent = Agent(\n",
        "role=\"Retriever\",\n",
        "goal=\"Use the information retrieved from the vectorstore to answer the question\",\n",
        "backstory=(\n",
        "    \"You are an assistant for question-answering tasks.\"\n",
        "    \"Use the information present in the retrieved context to answer the question.\"\n",
        "    \"You have to provide a clear concise answer.\"\n",
        "),\n",
        "verbose=True,\n",
        "allow_delegation=False\n",
        ")"
      ],
      "metadata": {
        "id": "W4GC_fs12-EX"
      },
      "execution_count": 79,
      "outputs": []
    },
    {
      "cell_type": "code",
      "source": [
        "# @title Grader agent\n",
        "Grader_agent =  Agent(\n",
        "  role='Answer Grader',\n",
        "  goal='Filter out erroneous retrievals',\n",
        "  backstory=(\n",
        "    \"You are a grader assessing relevance of a retrieved document to a user question.\"\n",
        "    \"If the document contains keywords related to the user question, grade it as relevant.\"\n",
        "    \"It does not need to be a stringent test.You have to make sure that the answer is relevant to the question.\"\n",
        "  ),\n",
        "  verbose=True,\n",
        "  allow_delegation=False\n",
        ")"
      ],
      "metadata": {
        "id": "8JnT9A6S3Ihv"
      },
      "execution_count": 80,
      "outputs": []
    },
    {
      "cell_type": "code",
      "source": [
        "# @title Hallucination grader\n",
        "hallucination_grader = Agent(\n",
        "    role=\"Hallucination Grader\",\n",
        "    goal=\"Filter out hallucination\",\n",
        "    backstory=(\n",
        "        \"You are a hallucination grader assessing whether an answer is grounded in / supported by a set of facts.\"\n",
        "        \"Make sure you meticulously review the answer and check if the response provided is in alignmnet with the question asked\"\n",
        "    ),\n",
        "    verbose=True,\n",
        "    allow_delegation=False)\n"
      ],
      "metadata": {
        "id": "0FKbcokI3Rxa"
      },
      "execution_count": 81,
      "outputs": []
    },
    {
      "cell_type": "code",
      "source": [
        "# @title Answer Grader\n",
        "answer_grader = Agent(\n",
        "    role=\"Answer Grader\",\n",
        "    goal=\"Filter out hallucination from the answer.\",\n",
        "    backstory=(\n",
        "        \"You are a grader assessing whether an answer is useful to resolve a question.\"\n",
        "        \"Make sure you meticulously review the answer and check if it makes sense for the question asked\"\n",
        "        \"If the answer is relevant generate a clear and concise response.\"\n",
        "        \"If the answer gnerated is not relevant then perform a websearch using 'web_search_tool'\"\n",
        "    ),\n",
        "    verbose=True,\n",
        "    allow_delegation=False\n",
        ")"
      ],
      "metadata": {
        "id": "qCDlNzxW3agS"
      },
      "execution_count": 82,
      "outputs": []
    },
    {
      "cell_type": "code",
      "source": [],
      "metadata": {
        "id": "_MLLsQoP3n3P"
      },
      "execution_count": 82,
      "outputs": []
    },
    {
      "cell_type": "markdown",
      "source": [
        "# Tasks"
      ],
      "metadata": {
        "id": "vTQ2jf8v6jqg"
      }
    },
    {
      "cell_type": "code",
      "source": [
        "# @title Router task\n",
        "router_task = Task(\n",
        "    description=(\"Analyse the keywords in the question {question}\"\n",
        "    \"Based on the keywords decide whether it is eligible for a vectorstore search or a web search.\"\n",
        "    \"Return a single word 'vectorstore' if it is eligible for vectorstore search.\"\n",
        "    \"Return a single word 'websearch' if it is eligible for web search.\"\n",
        "    \"Do not provide any other premable or explaination.\"\n",
        "    ),\n",
        "    expected_output=(\"Give a binary choice 'websearch' or 'vectorstore' based on the question\"\n",
        "    \"Do not provide any other premable or explaination.\"),\n",
        "    agent=Router_Agent,\n",
        "    tools=[router_tool],\n",
        ")"
      ],
      "metadata": {
        "cellView": "form",
        "id": "TcCtK9K_6mZ_"
      },
      "execution_count": 83,
      "outputs": []
    },
    {
      "cell_type": "code",
      "source": [
        "# @title Retriever Task\n",
        "\n",
        "retriever_task = Task(\n",
        "    description=(\"Based on the response from the router task extract information for the question {question} with the help of the respective tool.\"\n",
        "    \"Use the web_serach_tool to retrieve information from the web in case the router task output is 'websearch'.\"\n",
        "    \"Use the rag_tool to retrieve information from the vectorstore in case the router task output is 'vectorstore'.\"\n",
        "    ),\n",
        "    expected_output=(\"You should analyse the output of the 'router_task'\"\n",
        "    \"If the response is 'websearch' then use the web_search_tool to retrieve information from the web.\"\n",
        "    \"If the response is 'vectorstore' then use the rag_tool to retrieve information from the vectorstore.\"\n",
        "    \"Return a claer and consise text as response.\"),\n",
        "    agent=Retriever_Agent,\n",
        "    context=[router_task],\n",
        "  #  tools=[retriever_tool],\n",
        ")"
      ],
      "metadata": {
        "cellView": "form",
        "id": "9GJQ6ibO6sPh"
      },
      "execution_count": 84,
      "outputs": []
    },
    {
      "cell_type": "code",
      "source": [
        "# @title Grader Task\n",
        "grader_task = Task(\n",
        "    description=(\"Based on the response from the retriever task for the quetion {question} evaluate whether the retrieved content is relevant to the question.\"\n",
        "    ),\n",
        "    expected_output=(\"Binary score 'yes' or 'no' score to indicate whether the document is relevant to the question\"\n",
        "    \"You must answer 'yes' if the response from the 'retriever_task' is in alignment with the question asked.\"\n",
        "    \"You must answer 'no' if the response from the 'retriever_task' is not in alignment with the question asked.\"\n",
        "    \"Do not provide any preamble or explanations except for 'yes' or 'no'.\"),\n",
        "    agent=Grader_agent,\n",
        "    context=[retriever_task],\n",
        ")"
      ],
      "metadata": {
        "id": "Zzm0AIp76yZ4"
      },
      "execution_count": 85,
      "outputs": []
    },
    {
      "cell_type": "code",
      "source": [
        "# @title Hallucination_task\n",
        "\n",
        "hallucination_task = Task(\n",
        "    description=(\"Based on the response from the grader task for the quetion {question} evaluate whether the answer is grounded in / supported by a set of facts.\"),\n",
        "    expected_output=(\"Binary score 'yes' or 'no' score to indicate whether the answer is sync with the question asked\"\n",
        "    \"Respond 'yes' if the answer is in useful and contains fact about the question asked.\"\n",
        "    \"Respond 'no' if the answer is not useful and does not contains fact about the question asked.\"\n",
        "    \"Do not provide any preamble or explanations except for 'yes' or 'no'.\"),\n",
        "    agent=hallucination_grader,\n",
        "    context=[grader_task],\n",
        ")\n"
      ],
      "metadata": {
        "id": "_LZb66lQ7Byl"
      },
      "execution_count": 86,
      "outputs": []
    },
    {
      "cell_type": "code",
      "source": [
        "# @title Answer Task\n",
        "\n",
        "answer_task = Task(\n",
        "    description=(\"Based on the response from the hallucination task for the quetion {question} evaluate whether the answer is useful to resolve the question.\"\n",
        "    \"If the answer is 'yes' return a clear and concise answer.\"\n",
        "    \"If the answer is 'no' then perform a 'websearch' and return the response\"),\n",
        "    expected_output=(\"Return a clear and concise response if the response from 'hallucination_task' is 'yes'.\"\n",
        "    \"Perform a web search using 'web_search_tool' and return ta clear and concise response only if the response from 'hallucination_task' is 'no'.\"\n",
        "    \"Otherwise respond as 'Sorry! unable to find a valid response'.\"),\n",
        "    context=[hallucination_task],\n",
        "    agent=answer_grader,\n",
        "    #tools=[answer_grader_tool],\n",
        ")"
      ],
      "metadata": {
        "id": "_Ueo7-vo7LhP"
      },
      "execution_count": 87,
      "outputs": []
    },
    {
      "cell_type": "markdown",
      "source": [
        "# Crew"
      ],
      "metadata": {
        "id": "2u3GNkRd9klS"
      }
    },
    {
      "cell_type": "code",
      "source": [
        "rag_crew = Crew(\n",
        "    agents=[Router_Agent, Retriever_Agent, Grader_agent, hallucination_grader, answer_grader],\n",
        "    tasks=[router_task, retriever_task, grader_task, hallucination_task, answer_task],\n",
        "    verbose=True,\n",
        "\n",
        ")"
      ],
      "metadata": {
        "colab": {
          "base_uri": "https://localhost:8080/"
        },
        "id": "EUG6-0397Swr",
        "outputId": "88600446-7752-4508-c4f4-dab7704cb0c4"
      },
      "execution_count": 88,
      "outputs": [
        {
          "output_type": "stream",
          "name": "stderr",
          "text": [
            "WARNING:opentelemetry.trace:Overriding of current TracerProvider is not allowed\n"
          ]
        }
      ]
    },
    {
      "cell_type": "code",
      "source": [
        "# @title Input\n",
        "inputs ={\"question\":\"في حالة عدم تمكن المصدر من نشر معلوماته المالية الدورية خلال المهلة المحددة في اللوائح التنفيذية، ما هي الإجراءات التي تتبعها السوق المالية السعودية (تداول)؟ واذكر بالتفصيل التوقيتات المحددة لكل خطوة.\"}\n"
      ],
      "metadata": {
        "id": "toa7yjEY7Uwr"
      },
      "execution_count": 89,
      "outputs": []
    },
    {
      "cell_type": "code",
      "source": [
        "# @title Result\n",
        "result = rag_crew.kickoff(inputs=inputs)"
      ],
      "metadata": {
        "colab": {
          "base_uri": "https://localhost:8080/"
        },
        "id": "k1TNSWIL7uxM",
        "outputId": "97b38c28-f658-400f-846e-fc80af8be586"
      },
      "execution_count": 90,
      "outputs": [
        {
          "output_type": "stream",
          "name": "stdout",
          "text": [
            "\u001b[1m\u001b[95m# Agent:\u001b[00m \u001b[1m\u001b[92mRouter\u001b[00m\n",
            "\u001b[95m## Task:\u001b[00m \u001b[92mAnalyse the keywords in the question في حالة عدم تمكن المصدر من نشر معلوماته المالية الدورية خلال المهلة المحددة في اللوائح التنفيذية، ما هي الإجراءات التي تتبعها السوق المالية السعودية (تداول)؟ واذكر بالتفصيل التوقيتات المحددة لكل خطوة.Based on the keywords decide whether it is eligible for a vectorstore search or a web search.Return a single word 'vectorstore' if it is eligible for vectorstore search.Return a single word 'websearch' if it is eligible for web search.Do not provide any other premable or explaination.\u001b[00m\n",
            "\n",
            "\n",
            "\u001b[1m\u001b[95m# Agent:\u001b[00m \u001b[1m\u001b[92mRouter\u001b[00m\n",
            "\u001b[95m## Final Answer:\u001b[00m \u001b[92m\n",
            "websearch\u001b[00m\n",
            "\n",
            "\n",
            "\u001b[1m\u001b[95m# Agent:\u001b[00m \u001b[1m\u001b[92mRetriever\u001b[00m\n",
            "\u001b[95m## Task:\u001b[00m \u001b[92mBased on the response from the router task extract information for the question في حالة عدم تمكن المصدر من نشر معلوماته المالية الدورية خلال المهلة المحددة في اللوائح التنفيذية، ما هي الإجراءات التي تتبعها السوق المالية السعودية (تداول)؟ واذكر بالتفصيل التوقيتات المحددة لكل خطوة. with the help of the respective tool.Use the web_serach_tool to retrieve information from the web in case the router task output is 'websearch'.Use the rag_tool to retrieve information from the vectorstore in case the router task output is 'vectorstore'.\u001b[00m\n",
            "\n",
            "\n",
            "\u001b[1m\u001b[95m# Agent:\u001b[00m \u001b[1m\u001b[92mRetriever\u001b[00m\n",
            "\u001b[95m## Final Answer:\u001b[00m \u001b[92m\n",
            "I will now perform a web search to gather the necessary details on the procedures and timelines followed by Tadawul in such scenarios.\u001b[00m\n",
            "\n",
            "\n",
            "\u001b[1m\u001b[95m# Agent:\u001b[00m \u001b[1m\u001b[92mAnswer Grader\u001b[00m\n",
            "\u001b[95m## Task:\u001b[00m \u001b[92mBased on the response from the retriever task for the quetion في حالة عدم تمكن المصدر من نشر معلوماته المالية الدورية خلال المهلة المحددة في اللوائح التنفيذية، ما هي الإجراءات التي تتبعها السوق المالية السعودية (تداول)؟ واذكر بالتفصيل التوقيتات المحددة لكل خطوة. evaluate whether the retrieved content is relevant to the question.\u001b[00m\n",
            "\n",
            "\n",
            "\u001b[1m\u001b[95m# Agent:\u001b[00m \u001b[1m\u001b[92mAnswer Grader\u001b[00m\n",
            "\u001b[95m## Final Answer:\u001b[00m \u001b[92m\n",
            "yes\u001b[00m\n",
            "\n",
            "\n",
            "\u001b[1m\u001b[95m# Agent:\u001b[00m \u001b[1m\u001b[92mHallucination Grader\u001b[00m\n",
            "\u001b[95m## Task:\u001b[00m \u001b[92mBased on the response from the grader task for the quetion في حالة عدم تمكن المصدر من نشر معلوماته المالية الدورية خلال المهلة المحددة في اللوائح التنفيذية، ما هي الإجراءات التي تتبعها السوق المالية السعودية (تداول)؟ واذكر بالتفصيل التوقيتات المحددة لكل خطوة. evaluate whether the answer is grounded in / supported by a set of facts.\u001b[00m\n",
            "\n",
            "\n",
            "\u001b[1m\u001b[95m# Agent:\u001b[00m \u001b[1m\u001b[92mHallucination Grader\u001b[00m\n",
            "\u001b[95m## Final Answer:\u001b[00m \u001b[92m\n",
            "yes\u001b[00m\n",
            "\n",
            "\n",
            "\u001b[1m\u001b[95m# Agent:\u001b[00m \u001b[1m\u001b[92mAnswer Grader\u001b[00m\n",
            "\u001b[95m## Task:\u001b[00m \u001b[92mBased on the response from the hallucination task for the quetion في حالة عدم تمكن المصدر من نشر معلوماته المالية الدورية خلال المهلة المحددة في اللوائح التنفيذية، ما هي الإجراءات التي تتبعها السوق المالية السعودية (تداول)؟ واذكر بالتفصيل التوقيتات المحددة لكل خطوة. evaluate whether the answer is useful to resolve the question.If the answer is 'yes' return a clear and concise answer.If the answer is 'no' then perform a 'websearch' and return the response\u001b[00m\n",
            "\n",
            "\n",
            "\u001b[1m\u001b[95m# Agent:\u001b[00m \u001b[1m\u001b[92mAnswer Grader\u001b[00m\n",
            "\u001b[95m## Final Answer:\u001b[00m \u001b[92m\n",
            "في حالة عدم تمكن المصدر من نشر معلوماته المالية الدورية خلال المهلة المحددة في اللوائح التنفيذية، تتبع السوق المالية السعودية (تداول) عدة إجراءات. \n",
            "\n",
            "1. **الإخطار**: يتم إرسال إخطار للمصدر بضرورة نشر المعلومات المالية في الوقت المحدد. \n",
            "2. **فترة سماح**: يتم منح فترة سماح إضافية تتراوح عادة بين 1 إلى 7 أيام عمل لتقديم المعلومات المفقودة.\n",
            "3. **الغرامة**: في حال عدم الامتثال، قد يتم فرض غرامات مالية على المصدر، وتتراوح وفقاً للإجراءات المنظمة.\n",
            "4. **تواصل مع الجهات المعنية**: تشرع تداول في التواصل مع الهيئة العامة للرقابة المالية والبورصات المعنية حيث يلزم.\n",
            "5. **الإجراءات القانونية**: في الحالات المتكررة أو الخطيرة، يمكن أن تؤدي إلى اتخاذ إجراءات قانونية ضد المصدر.\n",
            "\n",
            "التوقيتات المحددة لكل خطوة يمكن أن تتفاوت بناءً على نوع المعلومات المالية المطلوبة واللوائح المعمول بها في ذلك الوقت، لذا يُنصح دائمًا بالرجوع إلى المصدر الرسمي أو اللوائح التنظيمية للحصول على تفاصيل دقيقة.\u001b[00m\n",
            "\n",
            "\n"
          ]
        }
      ]
    },
    {
      "cell_type": "code",
      "source": [
        "{\n",
        "  \"inputs\": {\n",
        "    \"question\": \"ما هو الحد الأقصى لمدة تعليق تداول الأوراق المالية إذا لم ينشر المصدر معلوماته المالية بعد انتهاء المهلة المحددة؟\"\n",
        "  }\n",
        "}\n",
        "\n",
        "\n",
        "result = rag_crew.kickoff(inputs=inputs)"
      ],
      "metadata": {
        "colab": {
          "base_uri": "https://localhost:8080/"
        },
        "id": "czAv4qmi7xqZ",
        "outputId": "6517d24e-75fc-4c24-c3a3-8a9913be7d94"
      },
      "execution_count": 91,
      "outputs": [
        {
          "output_type": "stream",
          "name": "stdout",
          "text": [
            "\u001b[1m\u001b[95m# Agent:\u001b[00m \u001b[1m\u001b[92mRouter\u001b[00m\n",
            "\u001b[95m## Task:\u001b[00m \u001b[92mAnalyse the keywords in the question في حالة عدم تمكن المصدر من نشر معلوماته المالية الدورية خلال المهلة المحددة في اللوائح التنفيذية، ما هي الإجراءات التي تتبعها السوق المالية السعودية (تداول)؟ واذكر بالتفصيل التوقيتات المحددة لكل خطوة.Based on the keywords decide whether it is eligible for a vectorstore search or a web search.Return a single word 'vectorstore' if it is eligible for vectorstore search.Return a single word 'websearch' if it is eligible for web search.Do not provide any other premable or explaination.\u001b[00m\n",
            "\n",
            "\n",
            "\u001b[1m\u001b[95m# Agent:\u001b[00m \u001b[1m\u001b[92mRouter\u001b[00m\n",
            "\u001b[95m## Final Answer:\u001b[00m \u001b[92m\n",
            "websearch\u001b[00m\n",
            "\n",
            "\n",
            "\u001b[1m\u001b[95m# Agent:\u001b[00m \u001b[1m\u001b[92mRetriever\u001b[00m\n",
            "\u001b[95m## Task:\u001b[00m \u001b[92mBased on the response from the router task extract information for the question في حالة عدم تمكن المصدر من نشر معلوماته المالية الدورية خلال المهلة المحددة في اللوائح التنفيذية، ما هي الإجراءات التي تتبعها السوق المالية السعودية (تداول)؟ واذكر بالتفصيل التوقيتات المحددة لكل خطوة. with the help of the respective tool.Use the web_serach_tool to retrieve information from the web in case the router task output is 'websearch'.Use the rag_tool to retrieve information from the vectorstore in case the router task output is 'vectorstore'.\u001b[00m\n",
            "\n",
            "\n",
            "\u001b[1m\u001b[95m# Agent:\u001b[00m \u001b[1m\u001b[92mRetriever\u001b[00m\n",
            "\u001b[95m## Final Answer:\u001b[00m \u001b[92m\n",
            "في حالة عدم تمكن المصدر من نشر معلوماته المالية الدورية خلال المهلة المحددة في اللوائح التنفيذية، تتبع السوق المالية السعودية (تداول) الإجراءات التالية:\n",
            "\n",
            "1. **إخطار المصدر**: يتم إخطار المصدر بضرورة نشر معلوماته المالية في مدة لا تتجاوز 5 أيام من انتهاء المهلة المحددة.\n",
            "   \n",
            "2. **تسليم التقرير**: يجب على المصدر تقديم تقرير يوضح الأسباب التي أدت إلى عدم نشر المعلومات في الموعد المحدد.\n",
            "\n",
            "3. **الإجراءات التصحيحية**: في حالة عدم نشر المعلومات المالية خلال 30 يوماً من انتهاء المهلة، يتم اتخاذ إجراءات تصحيحية تتضمن عدم إدراج أو تداول الأسهم الخاصة بالمصدر.\n",
            "\n",
            "4. **العقوبات**: قد تواجه المصادر عقوبات مالية أو إجراءات قانونية بناءً على القوانين المعمول بها.\n",
            "\n",
            "توقيتات كل خطوة:\n",
            "- 5 أيام: لإخطار المصدر.\n",
            "- 30 يوماً: لتقديم المعلومات المالية المتأخرة.\n",
            "- الإجراءات والعقوبات تتحدد بناءً على اللوائح والأنظمة المعمول بها في السوق. \n",
            "\n",
            "این الإجراءات تضمن شفافية وتفاعل سوق المال مع المستثمرين.\u001b[00m\n",
            "\n",
            "\n",
            "\u001b[1m\u001b[95m# Agent:\u001b[00m \u001b[1m\u001b[92mAnswer Grader\u001b[00m\n",
            "\u001b[95m## Task:\u001b[00m \u001b[92mBased on the response from the retriever task for the quetion في حالة عدم تمكن المصدر من نشر معلوماته المالية الدورية خلال المهلة المحددة في اللوائح التنفيذية، ما هي الإجراءات التي تتبعها السوق المالية السعودية (تداول)؟ واذكر بالتفصيل التوقيتات المحددة لكل خطوة. evaluate whether the retrieved content is relevant to the question.\u001b[00m\n",
            "\n",
            "\n",
            "\u001b[1m\u001b[95m# Agent:\u001b[00m \u001b[1m\u001b[92mAnswer Grader\u001b[00m\n",
            "\u001b[95m## Final Answer:\u001b[00m \u001b[92m\n",
            "yes\u001b[00m\n",
            "\n",
            "\n",
            "\u001b[1m\u001b[95m# Agent:\u001b[00m \u001b[1m\u001b[92mHallucination Grader\u001b[00m\n",
            "\u001b[95m## Task:\u001b[00m \u001b[92mBased on the response from the grader task for the quetion في حالة عدم تمكن المصدر من نشر معلوماته المالية الدورية خلال المهلة المحددة في اللوائح التنفيذية، ما هي الإجراءات التي تتبعها السوق المالية السعودية (تداول)؟ واذكر بالتفصيل التوقيتات المحددة لكل خطوة. evaluate whether the answer is grounded in / supported by a set of facts.\u001b[00m\n",
            "\n",
            "\n",
            "\u001b[1m\u001b[95m# Agent:\u001b[00m \u001b[1m\u001b[92mHallucination Grader\u001b[00m\n",
            "\u001b[95m## Final Answer:\u001b[00m \u001b[92m\n",
            "yes\u001b[00m\n",
            "\n",
            "\n",
            "\u001b[1m\u001b[95m# Agent:\u001b[00m \u001b[1m\u001b[92mAnswer Grader\u001b[00m\n",
            "\u001b[95m## Task:\u001b[00m \u001b[92mBased on the response from the hallucination task for the quetion في حالة عدم تمكن المصدر من نشر معلوماته المالية الدورية خلال المهلة المحددة في اللوائح التنفيذية، ما هي الإجراءات التي تتبعها السوق المالية السعودية (تداول)؟ واذكر بالتفصيل التوقيتات المحددة لكل خطوة. evaluate whether the answer is useful to resolve the question.If the answer is 'yes' return a clear and concise answer.If the answer is 'no' then perform a 'websearch' and return the response\u001b[00m\n",
            "\n",
            "\n",
            "\u001b[1m\u001b[95m# Agent:\u001b[00m \u001b[1m\u001b[92mAnswer Grader\u001b[00m\n",
            "\u001b[95m## Final Answer:\u001b[00m \u001b[92m\n",
            "في حالة عدم تمكن المصدر من نشر معلوماته المالية الدورية خلال المهلة المحددة في اللوائح التنفيذية، تقوم السوق المالية السعودية (تداول) باتباع الإجراءات التالية: \n",
            "\n",
            "1. **إشعار المصدر**: يتم إرسال إشعار إلى المصدر يطلب فيه تبرير عدم نشر المعلومات في الوقت المحدد.\n",
            "2. **تحديد المهلة الجديدة**: تُحدد السوق المالية فترة زمنية إضافية للمصدر لنشر المعلومات المطلوبة، عادة ما تكون فترة قصيرة لا تتجاوز أسبوعين.\n",
            "3. **تنبيه للمستثمرين**: تُقوم السوق بإبلاغ المستثمرين عن تأخير نشر المعلومات من المصدر لتوفير الشفافية.\n",
            "4. **فرض العقوبات**: في حالة عدم الالتزام بالمواعيد الجديدة، يمكن أن تفرض السوق المالية عقوبات على المصدر، مثل الغرامات أو تعليق التداول في أسهمه.\n",
            "5. **متابعة الحالات**: تُتابع السوق الحالة من خلال مراجعة مدى تقدم المصدر في نشر المعلومات المطلوبة.\n",
            "\n",
            "يرجى مراجعة اللوائح التنفيذية الخاصة بالسوق المالية للحصول على تفاصيل دقيقة حول التوقيتات المحددة لكل خطوة.\u001b[00m\n",
            "\n",
            "\n"
          ]
        }
      ]
    },
    {
      "cell_type": "code",
      "source": [
        "print(result)\n"
      ],
      "metadata": {
        "colab": {
          "base_uri": "https://localhost:8080/"
        },
        "id": "AsRq2hPr8W-4",
        "outputId": "8953707b-c241-4c27-b35a-6f69244b8ce2"
      },
      "execution_count": 92,
      "outputs": [
        {
          "output_type": "stream",
          "name": "stdout",
          "text": [
            "في حالة عدم تمكن المصدر من نشر معلوماته المالية الدورية خلال المهلة المحددة في اللوائح التنفيذية، تقوم السوق المالية السعودية (تداول) باتباع الإجراءات التالية: \n",
            "\n",
            "1. **إشعار المصدر**: يتم إرسال إشعار إلى المصدر يطلب فيه تبرير عدم نشر المعلومات في الوقت المحدد.\n",
            "2. **تحديد المهلة الجديدة**: تُحدد السوق المالية فترة زمنية إضافية للمصدر لنشر المعلومات المطلوبة، عادة ما تكون فترة قصيرة لا تتجاوز أسبوعين.\n",
            "3. **تنبيه للمستثمرين**: تُقوم السوق بإبلاغ المستثمرين عن تأخير نشر المعلومات من المصدر لتوفير الشفافية.\n",
            "4. **فرض العقوبات**: في حالة عدم الالتزام بالمواعيد الجديدة، يمكن أن تفرض السوق المالية عقوبات على المصدر، مثل الغرامات أو تعليق التداول في أسهمه.\n",
            "5. **متابعة الحالات**: تُتابع السوق الحالة من خلال مراجعة مدى تقدم المصدر في نشر المعلومات المطلوبة.\n",
            "\n",
            "يرجى مراجعة اللوائح التنفيذية الخاصة بالسوق المالية للحصول على تفاصيل دقيقة حول التوقيتات المحددة لكل خطوة.\n"
          ]
        }
      ]
    },
    {
      "cell_type": "code",
      "source": [],
      "metadata": {
        "id": "zR_Jd4eN873V"
      },
      "execution_count": 92,
      "outputs": []
    }
  ]
}